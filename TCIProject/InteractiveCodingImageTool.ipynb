{
 "cells": [
  {
   "cell_type": "code",
   "execution_count": 1,
   "metadata": {
    "ExecuteTime": {
     "end_time": "2023-11-24T11:04:56.068528Z",
     "start_time": "2023-11-24T11:04:55.971073Z"
    }
   },
   "outputs": [],
   "source": [
    "import sys\n",
    "import os\n",
    "import numpy as np\n",
    "\n",
    "from codingTools import *\n"
   ]
  },
  {
   "cell_type": "code",
   "execution_count": 2,
   "metadata": {
    "ExecuteTime": {
     "end_time": "2023-11-24T11:04:56.087472Z",
     "start_time": "2023-11-24T11:04:56.082534Z"
    }
   },
   "outputs": [],
   "source": [
    "######LOAD RAW IMAGE######\n",
    "#dtype --> > stands for big endian, i stands for integer, 2 stands for 2 bytes\n",
    "originalFile=\"../images/03508649.1_512_512_2_0_12_0_0_0d.raw\" #int16\n",
    "#originalFile=\"../images/03508649.1_128_128_1_0_8_0_0_0.raw\"\n",
    "#originalFile=\"../images/n1_GRAY.1_2560_2048_1_0_8_0_0_0.raw\" #uint8\n",
    "ImageRaw = load_image_raw(originalFile, 1, 512, 512, \"int16\") #https://numpy.org/doc/stable/reference/arrays.dtypes.html\n",
    "#ImageRaw = load_image_raw(originalFile, 1, 128, 128, \"uint8\")\n",
    "#ImageRaw = load_image_raw(originalFile, 1, 2560, 2048, \"uint8\") #https://numpy.org/doc/stable/reference/arrays.dtypes.html\n",
    "original_image = ImageRaw.load_image_raw()\n",
    "##############################"
   ]
  },
  {
   "cell_type": "code",
   "execution_count": 3,
   "metadata": {
    "ExecuteTime": {
     "end_time": "2023-11-24T11:04:56.277935Z",
     "start_time": "2023-11-24T11:04:56.094034Z"
    }
   },
   "outputs": [
    {
     "name": "stdout",
     "output_type": "stream",
     "text": [
      "order zero entropy of the image:  10.431490855522489\n"
     ]
    }
   ],
   "source": [
    "########STATISTICS##########\n",
    "statistics_data = statistics(original_image)\n",
    "entropy = statistics_data.compute_entropy()\n",
    "print(\"order zero entropy of the image: \",entropy)"
   ]
  },
  {
   "cell_type": "code",
   "execution_count": 4,
   "outputs": [
    {
     "name": "stdout",
     "output_type": "stream",
     "text": [
      "[[[ 25601  26369 -32255 ... -24831 -29183 -31487]\n",
      "  [ 24321  27137  27393 ... -24319 -27391 -29183]\n",
      "  [ 25345  27393 -30207 ... -23807 -29183 -25087]\n",
      "  ...\n",
      "  [ 26881  30465 -25087 ... -19455 -24319 -25087]\n",
      "  [ 19201  21761  30209 ... -17919  31745 -27135]\n",
      "  [ 19457  22529  25089 ... -27135 -29183  28673]]]\n"
     ]
    }
   ],
   "source": [
    "print(original_image)"
   ],
   "metadata": {
    "collapsed": false,
    "ExecuteTime": {
     "end_time": "2023-11-24T11:04:56.281370Z",
     "start_time": "2023-11-24T11:04:56.278733Z"
    }
   }
  },
  {
   "cell_type": "code",
   "execution_count": 5,
   "metadata": {
    "ExecuteTime": {
     "end_time": "2023-11-24T11:04:56.286632Z",
     "start_time": "2023-11-24T11:04:56.284862Z"
    }
   },
   "outputs": [],
   "source": [
    "######SAVE RAW IMAGE######\n",
    "# decodedFile=\"../images/n1_GRAY.1_2560_2048_1_0_8_0_0_0_copy.raw\"\n",
    "# ImageRawDecoded = save_image_raw(decodedFile)\n",
    "# ImageRawDecoded.save_image_raw(original_image,\"uint8\")\n",
    "###########"
   ]
  },
  {
   "cell_type": "code",
   "execution_count": 6,
   "metadata": {
    "ExecuteTime": {
     "end_time": "2023-11-24T11:04:56.956288Z",
     "start_time": "2023-11-24T11:04:56.286129Z"
    }
   },
   "outputs": [
    {
     "name": "stdout",
     "output_type": "stream",
     "text": [
      "Check Quantize: [[[ 2560.  2636. -3225. ... -2483. -2918. -3148.]\n",
      "  [ 2432.  2713.  2739. ... -2431. -2739. -2918.]\n",
      "  [ 2534.  2739. -3020. ... -2380. -2918. -2508.]\n",
      "  ...\n",
      "  [ 2688.  3046. -2508. ... -1945. -2431. -2508.]\n",
      "  [ 1920.  2176.  3020. ... -1791.  3174. -2713.]\n",
      "  [ 1945.  2252.  2508. ... -2713. -2918.  2867.]]]\n",
      "Entropia: 8.427372356811585\n"
     ]
    }
   ],
   "source": [
    "### Quantize ###\n",
    "quantize = Quantizer(1, 10)\n",
    "image_data_quantized = ImageRaw.get_image_structure_empty()\n",
    "quantize.quantize(original_image, image_data_quantized)\n",
    "quant_statics = statistics(image_data_quantized).compute_entropy()\n",
    "print(f\"Entropia: {quant_statics}\")\n"
   ]
  },
  {
   "cell_type": "code",
   "execution_count": 7,
   "metadata": {
    "ExecuteTime": {
     "end_time": "2023-11-24T11:04:57.043759Z",
     "start_time": "2023-11-24T11:04:56.955001Z"
    }
   },
   "outputs": [],
   "source": [
    "### Dequantize ###\n",
    "dequantize = Quantizer(1, 10)\n",
    "image_data_dequantized = ImageRaw.get_image_structure_empty()\n",
    "dequantize.dequantize(image_data_quantized, image_data_dequantized)"
   ]
  },
  {
   "cell_type": "code",
   "execution_count": 8,
   "metadata": {
    "ExecuteTime": {
     "end_time": "2023-11-24T11:04:57.167120Z",
     "start_time": "2023-11-24T11:04:57.097898Z"
    }
   },
   "outputs": [
    {
     "name": "stdout",
     "output_type": "stream",
     "text": [
      "Pae: 9.0\n",
      "9.0\n"
     ]
    }
   ],
   "source": [
    "### PAE ###\n",
    "pae = Metrics(original_image, image_data_dequantized)\n",
    "print(f\"Pae: {pae.calculate_pae()}\")\n",
    "print(pae.PAE_data)\n"
   ]
  },
  {
   "cell_type": "code",
   "execution_count": 9,
   "metadata": {
    "ExecuteTime": {
     "end_time": "2023-11-24T11:04:57.297824Z",
     "start_time": "2023-11-24T11:04:57.215819Z"
    }
   },
   "outputs": [
    {
     "name": "stdout",
     "output_type": "stream",
     "text": [
      "Mse: 28.720321655273438\n"
     ]
    }
   ],
   "source": [
    "### MSE ###\n",
    "mse = Metrics(original_image, image_data_dequantized)\n",
    "print(f\"Mse: {mse.calculate_mse()}\")"
   ]
  },
  {
   "cell_type": "code",
   "execution_count": 10,
   "metadata": {
    "ExecuteTime": {
     "end_time": "2023-11-24T11:04:57.491670Z",
     "start_time": "2023-11-24T11:04:57.371950Z"
    }
   },
   "outputs": [
    {
     "name": "stdout",
     "output_type": "stream",
     "text": [
      "Psnr: 75.72710570410173 dB\n"
     ]
    }
   ],
   "source": [
    "### PSNR ###\n",
    "psnr = Metrics(original_image, image_data_dequantized)\n",
    "print(f\"Psnr: {psnr.calculate_psnr()} dB\")"
   ]
  },
  {
   "cell_type": "code",
   "execution_count": 11,
   "outputs": [
    {
     "name": "stdout",
     "output_type": "stream",
     "text": [
      "Array modificado: [ 1  3  7  9 -1 -1  2  2]\n"
     ]
    }
   ],
   "source": [
    "### S-transform forward ###\n",
    "array = [1,2,3,4,8,6,10,8]\n",
    "transform = Wavelet(array, 1)\n",
    "array_transform = transform.s_tranform_forward(array)\n",
    "print(f\"Array modificado: {array_transform}\")\n",
    "    "
   ],
   "metadata": {
    "collapsed": false,
    "ExecuteTime": {
     "end_time": "2023-11-24T11:04:57.495527Z",
     "start_time": "2023-11-24T11:04:57.491052Z"
    }
   }
  },
  {
   "cell_type": "code",
   "execution_count": 12,
   "outputs": [
    {
     "name": "stdout",
     "output_type": "stream",
     "text": [
      "Array invertido: [ 1  2  3  4  8  6 10  8]\n"
     ]
    }
   ],
   "source": [
    "### S-transform Inverse ###\n",
    "array_inv = transform.s_transform_inverse(array_transform)\n",
    "print(f\"Array invertido: {array_inv}\")\n"
   ],
   "metadata": {
    "collapsed": false,
    "ExecuteTime": {
     "end_time": "2023-11-24T11:04:57.496254Z",
     "start_time": "2023-11-24T11:04:57.493681Z"
    }
   }
  },
  {
   "cell_type": "code",
   "execution_count": 13,
   "outputs": [
    {
     "name": "stdout",
     "output_type": "stream",
     "text": [
      "[[ 25857  28545    449 ...  13056   2432   -512]\n",
      " [-16319 -10431 -19519 ...  -1536 -31488   2816]\n",
      " [-23167 -20479 -10815 ...   5632  -2048  -3584]\n",
      " ...\n",
      " [  2944   6400   -256 ...   -256 -13568   7936]\n",
      " [  4608   3840   2816 ...  17664  -4352  -2048]\n",
      " [  2048    512  -3072 ...   3584   6400 -14336]]\n"
     ]
    }
   ],
   "source": [
    "### S-transform Forward image ###\n",
    "transform_image = Wavelet(original_image, 1)\n",
    "#print(len(original_image[0][0]))\n",
    "transform_forward = transform_image.handle_transform_forward()\n",
    "print(transform_forward)\n"
   ],
   "metadata": {
    "collapsed": false,
    "ExecuteTime": {
     "end_time": "2023-11-24T11:04:57.662140Z",
     "start_time": "2023-11-24T11:04:57.496956Z"
    }
   }
  },
  {
   "cell_type": "code",
   "execution_count": 14,
   "outputs": [],
   "source": [
    "### S-transform Reverse image ###\n",
    "transform_image_reverse = Wavelet(transform_forward, 1)\n",
    "transform_reverse = transform_image_reverse.handle_transform_inverse()\n",
    "\n"
   ],
   "metadata": {
    "collapsed": false,
    "ExecuteTime": {
     "end_time": "2023-11-24T11:04:57.835885Z",
     "start_time": "2023-11-24T11:04:57.663839Z"
    }
   }
  },
  {
   "cell_type": "code",
   "execution_count": 15,
   "outputs": [
    {
     "name": "stdout",
     "output_type": "stream",
     "text": [
      "[[[ 25601  26369 -32255 ... -24831 -29183 -31487]\n",
      "  [ 24321  27137  -5375 ... -24319 -27391 -29183]\n",
      "  [ 25345  27393 -30207 ... -23807 -29183 -25087]\n",
      "  ...\n",
      "  [ 26881  30465   7681 ... -19455 -24319 -25087]\n",
      "  [ 19201  21761  -2559 ... -17919  -1023   5633]\n",
      "  [ 19457  22529  -7679 ... -27135   3585  -4095]]]\n"
     ]
    }
   ],
   "source": [
    "print(transform_reverse)"
   ],
   "metadata": {
    "collapsed": false,
    "ExecuteTime": {
     "end_time": "2023-11-24T11:04:57.839655Z",
     "start_time": "2023-11-24T11:04:57.836712Z"
    }
   }
  },
  {
   "cell_type": "code",
   "execution_count": 16,
   "outputs": [
    {
     "name": "stdout",
     "output_type": "stream",
     "text": [
      "[[[ 25601  26369 -32255 ... -24831 -29183 -31487]\n",
      "  [ 24321  27137  27393 ... -24319 -27391 -29183]\n",
      "  [ 25345  27393 -30207 ... -23807 -29183 -25087]\n",
      "  ...\n",
      "  [ 26881  30465 -25087 ... -19455 -24319 -25087]\n",
      "  [ 19201  21761  30209 ... -17919  31745 -27135]\n",
      "  [ 19457  22529  25089 ... -27135 -29183  28673]]]\n"
     ]
    }
   ],
   "source": [
    "print(original_image)\n",
    " "
   ],
   "metadata": {
    "collapsed": false,
    "ExecuteTime": {
     "end_time": "2023-11-24T11:04:57.843107Z",
     "start_time": "2023-11-24T11:04:57.839829Z"
    }
   }
  },
  {
   "cell_type": "markdown",
   "source": [
    "### Classe 17/09\n",
    "Predicció:\n",
    "X = 1,2,3,4,8,6,10,8\n",
    "Causal\n",
    "Pi = {0 si i=0, X(i-1) si i>0}\n",
    "X'i = Xi - Pi\n",
    "P = 0,1,2,3,4,8,6,10 (Predicció)\n",
    "X' = 1,1,1,1,4,-2,4,-2\n",
    "#\n",
    "###### TODO\n",
    "Predict sobre una matriu. -> ha de ser invertible -> img de 512 512\n",
    "Calcular entropia del resultat X' -> H(x') <= H(x)"
   ],
   "metadata": {
    "collapsed": false
   }
  },
  {
   "cell_type": "code",
   "execution_count": 17,
   "outputs": [
    {
     "name": "stderr",
     "output_type": "stream",
     "text": [
      "/Users/lucasjimeneznunez/Desktop/UAB/4t/TCI/Projecte/TCIProject/TCIProject/codingTools/Prediction.py:23: RuntimeWarning: overflow encountered in scalar add\n",
      "  prediction = self.image[i-1, j-1] + self.image[i-1, j] + self.image[i, j-1] - 2*self.image[i-1, j-1]\n"
     ]
    },
    {
     "name": "stdout",
     "output_type": "stream",
     "text": [
      "Original entropy  10.431490855522489\n",
      "Pred entropy:  20.862981711045112\n"
     ]
    }
   ],
   "source": [
    "pred = Prediction(original_image)\n",
    "mat_pred = pred.predict_image_LOP()\n",
    "statistics_data_pred = statistics(mat_pred)\n",
    "entropy_pred = statistics_data.compute_entropy()\n",
    "print(\"Original entropy \",entropy)\n",
    "print(\"Pred entropy: \", entropy_pred)"
   ],
   "metadata": {
    "collapsed": false,
    "ExecuteTime": {
     "end_time": "2023-11-24T11:04:58.392576Z",
     "start_time": "2023-11-24T11:04:57.843408Z"
    }
   }
  }
 ],
 "metadata": {
  "kernelspec": {
   "display_name": "Python 3 (ipykernel)",
   "language": "python",
   "name": "python3"
  },
  "language_info": {
   "codemirror_mode": {
    "name": "ipython",
    "version": 3
   },
   "file_extension": ".py",
   "mimetype": "text/x-python",
   "name": "python",
   "nbconvert_exporter": "python",
   "pygments_lexer": "ipython3",
   "version": "3.11.4"
  },
  "toc-autonumbering": true
 },
 "nbformat": 4,
 "nbformat_minor": 4
}
