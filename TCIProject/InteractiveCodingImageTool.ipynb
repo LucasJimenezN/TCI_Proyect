{
 "cells": [
  {
   "cell_type": "code",
   "execution_count": 28,
   "metadata": {
    "ExecuteTime": {
     "end_time": "2023-12-15T10:11:57.233133Z",
     "start_time": "2023-12-15T10:11:57.183224Z"
    }
   },
   "outputs": [],
   "source": [
    "import sys\n",
    "import os\n",
    "import numpy as np\n",
    "\n",
    "from codingTools import *\n"
   ]
  },
  {
   "cell_type": "code",
   "execution_count": 29,
   "metadata": {
    "ExecuteTime": {
     "end_time": "2023-12-15T10:11:57.245934Z",
     "start_time": "2023-12-15T10:11:57.191141Z"
    }
   },
   "outputs": [],
   "source": [
    "######LOAD RAW IMAGE######\n",
    "#dtype --> > stands for big endian, i stands for integer, 2 stands for 2 bytes\n",
    "originalFile=\"../images/03508649.1_512_512_2_0_12_0_0_0d.raw\" #int16\n",
    "#originalFile=\"../images/03508649.1_128_128_1_0_8_0_0_0.raw\"\n",
    "#originalFile=\"../images/n1_GRAY.1_2560_2048_1_0_8_0_0_0.raw\" #uint8\n",
    "ImageRaw = load_image_raw(originalFile, 1, 512, 512, \">i2\") #https://numpy.org/doc/stable/reference/arrays.dtypes.html\n",
    "#ImageRaw = load_image_raw(originalFile, 1, 128, 128, \"uint8\")\n",
    "#ImageRaw = load_image_raw(originalFile, 1, 2560, 2048, \"uint8\") #https://numpy.org/doc/stable/reference/arrays.dtypes.html\n",
    "original_image = ImageRaw.load_image_raw()\n",
    "##############################"
   ]
  },
  {
   "cell_type": "code",
   "execution_count": 30,
   "metadata": {
    "ExecuteTime": {
     "end_time": "2023-12-15T10:11:57.354671Z",
     "start_time": "2023-12-15T10:11:57.225245Z"
    }
   },
   "outputs": [
    {
     "name": "stdout",
     "output_type": "stream",
     "text": [
      "order zero entropy of the image:  10.431490855522489\n"
     ]
    }
   ],
   "source": [
    "########STATISTICS##########\n",
    "statistics_data = statistics(original_image)\n",
    "entropy = statistics_data.compute_entropy()\n",
    "print(\"order zero entropy of the image: \",entropy)"
   ]
  },
  {
   "cell_type": "code",
   "execution_count": 31,
   "metadata": {
    "ExecuteTime": {
     "end_time": "2023-12-15T10:11:57.355115Z",
     "start_time": "2023-12-15T10:11:57.352551Z"
    }
   },
   "outputs": [
    {
     "name": "stdout",
     "output_type": "stream",
     "text": [
      "[[[356 359 386 ... 415 398 389]\n",
      "  [351 362 363 ... 417 405 398]\n",
      "  [355 363 394 ... 419 398 414]\n",
      "  ...\n",
      "  [361 375 414 ... 436 417 414]\n",
      "  [331 341 374 ... 442 380 406]\n",
      "  [332 344 354 ... 406 398 368]]]\n"
     ]
    }
   ],
   "source": [
    "print(original_image)"
   ]
  },
  {
   "cell_type": "code",
   "execution_count": 32,
   "metadata": {
    "ExecuteTime": {
     "end_time": "2023-12-15T10:11:57.359428Z",
     "start_time": "2023-12-15T10:11:57.356232Z"
    }
   },
   "outputs": [],
   "source": [
    "######SAVE RAW IMAGE######\n",
    "# decodedFile=\"../images/n1_GRAY.1_2560_2048_1_0_8_0_0_0_copy.raw\"\n",
    "# ImageRawDecoded = save_image_raw(decodedFile)\n",
    "# ImageRawDecoded.save_image_raw(original_image,\"uint8\")\n",
    "###########"
   ]
  },
  {
   "cell_type": "code",
   "execution_count": 33,
   "metadata": {
    "ExecuteTime": {
     "end_time": "2023-12-15T10:11:58.087254Z",
     "start_time": "2023-12-15T10:11:57.358877Z"
    }
   },
   "outputs": [
    {
     "name": "stdout",
     "output_type": "stream",
     "text": [
      "Entropia: 7.1184477268956465\n"
     ]
    }
   ],
   "source": [
    "### Quantize ###\n",
    "quantize = Quantizer(1, 10)\n",
    "image_data_quantized = ImageRaw.get_image_structure_empty()\n",
    "quantize.quantize(original_image, image_data_quantized)\n",
    "quant_statics = statistics(image_data_quantized).compute_entropy()\n",
    "print(f\"Entropia: {quant_statics}\")\n"
   ]
  },
  {
   "cell_type": "code",
   "execution_count": 34,
   "metadata": {
    "ExecuteTime": {
     "end_time": "2023-12-15T10:11:58.177095Z",
     "start_time": "2023-12-15T10:11:58.085642Z"
    }
   },
   "outputs": [],
   "source": [
    "### Dequantize ###\n",
    "dequantize = Quantizer(1, 10)\n",
    "image_data_dequantized = ImageRaw.get_image_structure_empty()\n",
    "dequantize.dequantize(image_data_quantized, image_data_dequantized)"
   ]
  },
  {
   "cell_type": "code",
   "execution_count": 35,
   "metadata": {
    "ExecuteTime": {
     "end_time": "2023-12-15T10:11:58.305217Z",
     "start_time": "2023-12-15T10:11:58.214346Z"
    }
   },
   "outputs": [
    {
     "name": "stdout",
     "output_type": "stream",
     "text": [
      "Pae: 9.0\n",
      "9.0\n"
     ]
    }
   ],
   "source": [
    "### PAE ###\n",
    "pae = Metrics(original_image, image_data_dequantized)\n",
    "print(f\"Pae: {pae.calculate_pae()}\")\n",
    "print(pae.PAE_data)\n"
   ]
  },
  {
   "cell_type": "code",
   "execution_count": 36,
   "metadata": {
    "ExecuteTime": {
     "end_time": "2023-12-15T10:11:58.444272Z",
     "start_time": "2023-12-15T10:11:58.352821Z"
    }
   },
   "outputs": [
    {
     "name": "stdout",
     "output_type": "stream",
     "text": [
      "Mse: 28.504417419433594\n"
     ]
    }
   ],
   "source": [
    "### MSE ###\n",
    "mse = Metrics(original_image, image_data_dequantized)\n",
    "print(f\"Mse: {mse.calculate_mse()}\")"
   ]
  },
  {
   "cell_type": "code",
   "execution_count": 37,
   "metadata": {
    "ExecuteTime": {
     "end_time": "2023-12-15T10:11:58.641919Z",
     "start_time": "2023-12-15T10:11:58.503894Z"
    }
   },
   "outputs": [
    {
     "name": "stdout",
     "output_type": "stream",
     "text": [
      "Psnr: 57.6980772672628 dB\n"
     ]
    }
   ],
   "source": [
    "### PSNR ###\n",
    "psnr = Metrics(original_image, image_data_dequantized)\n",
    "print(f\"Psnr: {psnr.calculate_psnr()} dB\")"
   ]
  },
  {
   "cell_type": "code",
   "execution_count": 38,
   "metadata": {
    "ExecuteTime": {
     "end_time": "2023-12-15T10:11:58.643225Z",
     "start_time": "2023-12-15T10:11:58.640406Z"
    }
   },
   "outputs": [
    {
     "name": "stdout",
     "output_type": "stream",
     "text": [
      "Array modificado: [ 1  3  7  9 -1 -1  2  2]\n"
     ]
    }
   ],
   "source": [
    "### S-transform forward ###\n",
    "array = [1,2,3,4,8,6,10,8]\n",
    "transform = Wavelet(array, 1)\n",
    "array_transform = transform.s_tranform_forward(array)\n",
    "print(f\"Array modificado: {array_transform}\")\n",
    "    "
   ]
  },
  {
   "cell_type": "code",
   "execution_count": 39,
   "metadata": {
    "ExecuteTime": {
     "end_time": "2023-12-15T10:11:58.647109Z",
     "start_time": "2023-12-15T10:11:58.643772Z"
    }
   },
   "outputs": [
    {
     "name": "stdout",
     "output_type": "stream",
     "text": [
      "Array invertido: [ 1  2  3  4  8  6 10  8]\n"
     ]
    }
   ],
   "source": [
    "### S-transform Inverse ###\n",
    "array_inv = transform.s_transform_inverse(array_transform)\n",
    "print(f\"Array invertido: {array_inv}\")\n"
   ]
  },
  {
   "cell_type": "code",
   "execution_count": 40,
   "metadata": {
    "ExecuteTime": {
     "end_time": "2023-12-15T10:11:58.853849Z",
     "start_time": "2023-12-15T10:11:58.646195Z"
    }
   },
   "outputs": [
    {
     "name": "stdout",
     "output_type": "stream",
     "text": [
      "[[436 525 615 ...  51   9  -2]\n",
      " [553 666 783 ...  -6   5  11]\n",
      " [641 783 920 ...  22  -8 -14]\n",
      " ...\n",
      " [ 11  25  -1 ...  -1 -53  31]\n",
      " [ 18  15  11 ...  69 -17  -8]\n",
      " [  8   2 -12 ...  14  25 -56]]\n"
     ]
    }
   ],
   "source": [
    "### S-transform Forward image ###\n",
    "transform_image = Wavelet(original_image, 3)\n",
    "#print(len(original_image[0][0]))\n",
    "transform_forward = transform_image.handle_transform_forward()\n",
    "print(transform_forward)\n"
   ]
  },
  {
   "cell_type": "code",
   "execution_count": 41,
   "metadata": {
    "ExecuteTime": {
     "end_time": "2023-12-15T10:11:59.051939Z",
     "start_time": "2023-12-15T10:11:58.854549Z"
    }
   },
   "outputs": [],
   "source": [
    "### S-transform Reverse image ###\n",
    "transform_image_reverse = Wavelet(transform_forward, 3)\n",
    "transform_reverse = transform_image_reverse.handle_transform_inverse()"
   ]
  },
  {
   "cell_type": "code",
   "execution_count": 42,
   "metadata": {
    "ExecuteTime": {
     "end_time": "2023-12-15T10:11:59.056131Z",
     "start_time": "2023-12-15T10:11:59.052195Z"
    }
   },
   "outputs": [
    {
     "name": "stdout",
     "output_type": "stream",
     "text": [
      "[[[356 359 386 ... 415 398 389]\n",
      "  [351 362 363 ... 417 405 398]\n",
      "  [355 363 394 ... 419 398 414]\n",
      "  ...\n",
      "  [361 375 414 ... 436 417 414]\n",
      "  [331 341 374 ... 442 380 406]\n",
      "  [332 344 354 ... 406 398 368]]]\n"
     ]
    }
   ],
   "source": [
    "print(transform_reverse)"
   ]
  },
  {
   "cell_type": "code",
   "execution_count": 43,
   "metadata": {
    "ExecuteTime": {
     "end_time": "2023-12-15T10:11:59.057917Z",
     "start_time": "2023-12-15T10:11:59.054863Z"
    }
   },
   "outputs": [
    {
     "name": "stdout",
     "output_type": "stream",
     "text": [
      "[[[356 359 386 ... 415 398 389]\n",
      "  [351 362 363 ... 417 405 398]\n",
      "  [355 363 394 ... 419 398 414]\n",
      "  ...\n",
      "  [361 375 414 ... 436 417 414]\n",
      "  [331 341 374 ... 442 380 406]\n",
      "  [332 344 354 ... 406 398 368]]]\n"
     ]
    }
   ],
   "source": [
    "print(original_image)\n",
    " "
   ]
  },
  {
   "cell_type": "markdown",
   "metadata": {},
   "source": [
    "### Classe 17/09\n",
    "Predicció:\n",
    "X = 1,2,3,4,8,6,10,8\n",
    "Causal\n",
    "Pi = {0 si i=0, X(i-1) si i>0}\n",
    "X'i = Xi - Pi\n",
    "P = 0,1,2,3,4,8,6,10 (Predicció)\n",
    "X' = 1,1,1,1,4,-2,4,-2\n"
   ]
  },
  {
   "cell_type": "code",
   "execution_count": 44,
   "metadata": {
    "ExecuteTime": {
     "end_time": "2023-12-15T10:11:59.892996Z",
     "start_time": "2023-12-15T10:11:59.064103Z"
    }
   },
   "outputs": [
    {
     "name": "stdout",
     "output_type": "stream",
     "text": [
      "Original entropy  10.431490855522489\n",
      "Pred entropy:  7.017758012788629\n"
     ]
    }
   ],
   "source": [
    "pred = Prediction(original_image)\n",
    "mat_pred = pred.predict_image()\n",
    "statistics_data_pred = statistics(mat_pred)\n",
    "entropy_pred = statistics_data_pred.compute_entropy()\n",
    "print(\"Original entropy \",entropy)\n",
    "print(\"Pred entropy: \", entropy_pred)"
   ]
  },
  {
   "cell_type": "code",
   "execution_count": 45,
   "outputs": [
    {
     "name": "stdout",
     "output_type": "stream",
     "text": [
      "\n",
      "La imagen devuelta es:\n",
      "[[[356 359 386 ... 415 398 389]\n",
      "  [351 362 363 ... 417 405 398]\n",
      "  [355 363 394 ... 419 398 414]\n",
      "  ...\n",
      "  [361 375 414 ... 436 417 414]\n",
      "  [331 341 374 ... 442 380 406]\n",
      "  [332 344 354 ... 406 398 368]]]\n",
      "\n",
      "La imagen original es:\n",
      "[[[356 359 386 ... 415 398 389]\n",
      "  [351 362 363 ... 417 405 398]\n",
      "  [355 363 394 ... 419 398 414]\n",
      "  ...\n",
      "  [361 375 414 ... 436 417 414]\n",
      "  [331 341 374 ... 442 380 406]\n",
      "  [332 344 354 ... 406 398 368]]]\n"
     ]
    }
   ],
   "source": [
    "#invert = Prediction(mat_pred)\n",
    "image_rebuilt = invert_image(mat_pred)\n",
    "print(f\"\\nLa imagen devuelta es:\\n{image_rebuilt}\")\n",
    "print(f\"\\nLa imagen original es:\\n{original_image}\")"
   ],
   "metadata": {
    "collapsed": false,
    "ExecuteTime": {
     "end_time": "2023-12-15T10:12:00.586313Z",
     "start_time": "2023-12-15T10:11:59.897800Z"
    }
   }
  },
  {
   "cell_type": "code",
   "execution_count": 46,
   "outputs": [
    {
     "name": "stdout",
     "output_type": "stream",
     "text": [
      "Pae: 0\n",
      "0\n"
     ]
    }
   ],
   "source": [
    "### PAE ###\n",
    "pae = Metrics(original_image, image_rebuilt)\n",
    "print(f\"Pae: {pae.calculate_pae()}\")\n",
    "print(pae.PAE_data)"
   ],
   "metadata": {
    "collapsed": false,
    "ExecuteTime": {
     "end_time": "2023-12-15T10:12:00.701175Z",
     "start_time": "2023-12-15T10:12:00.642884Z"
    }
   }
  },
  {
   "cell_type": "markdown",
   "source": [
    "# Clase 1/12\n",
    "X -> Predicto -> Q -> Q-1 -> Pred-1 -> X^-> PAE(X,X^)"
   ],
   "metadata": {
    "collapsed": false
   }
  },
  {
   "cell_type": "code",
   "execution_count": 47,
   "outputs": [],
   "source": [
    "pred = Prediction(original_image)\n",
    "pred_x = pred.predict_image()\n",
    "quantize = Quantizer(1, 10)\n",
    "image_data_quantized = ImageRaw.get_image_structure_empty()\n",
    "quantize.quantize(pred_x, image_data_quantized)\n"
   ],
   "metadata": {
    "collapsed": false,
    "ExecuteTime": {
     "end_time": "2023-12-15T10:12:01.950039Z",
     "start_time": "2023-12-15T10:12:00.701352Z"
    }
   }
  },
  {
   "cell_type": "code",
   "execution_count": 48,
   "outputs": [],
   "source": [
    "dequantize = Quantizer(1, 10)\n",
    "image_data_dequantized = ImageRaw.get_image_structure_empty()\n",
    "dequantize.dequantize(image_data_quantized, image_data_dequantized)"
   ],
   "metadata": {
    "collapsed": false,
    "ExecuteTime": {
     "end_time": "2023-12-15T10:12:02.039302Z",
     "start_time": "2023-12-15T10:12:01.950353Z"
    }
   }
  },
  {
   "cell_type": "code",
   "execution_count": 49,
   "outputs": [],
   "source": [
    "inv_pred = invert_image(image_data_dequantized)\n"
   ],
   "metadata": {
    "collapsed": false,
    "ExecuteTime": {
     "end_time": "2023-12-15T10:12:02.205554Z",
     "start_time": "2023-12-15T10:12:02.039547Z"
    }
   }
  },
  {
   "cell_type": "code",
   "execution_count": 50,
   "outputs": [
    {
     "name": "stdout",
     "output_type": "stream",
     "text": [
      "Pae: 3323.0\n",
      "3323.0\n"
     ]
    }
   ],
   "source": [
    "### PAE ###\n",
    "pae = Metrics(inv_pred, pred_x)\n",
    "print(f\"Pae: {pae.calculate_pae()}\")\n",
    "print(pae.PAE_data)\n"
   ],
   "metadata": {
    "collapsed": false,
    "ExecuteTime": {
     "end_time": "2023-12-15T10:12:02.330711Z",
     "start_time": "2023-12-15T10:12:02.237220Z"
    }
   }
  },
  {
   "cell_type": "code",
   "execution_count": 51,
   "outputs": [],
   "source": [
    "X = np.array([[[10, 13, 15, 18]]])\n",
    "pred = Prediction(X)\n",
    "pred_x = pred.predict_image()\n",
    "quantize = Quantizer(1, 10)\n",
    "image_data_quantized = ImageRaw.get_image_structure_empty()\n",
    "quantize.quantize(pred_x, image_data_quantized)\n",
    "dequantize = Quantizer(1, 10)\n",
    "image_data_dequantized = ImageRaw.get_image_structure_empty()\n",
    "dequantize.dequantize(image_data_quantized, image_data_dequantized)\n",
    "inv_pred = invert_image(image_data_dequantized)"
   ],
   "metadata": {
    "collapsed": false,
    "ExecuteTime": {
     "end_time": "2023-12-15T10:12:02.571769Z",
     "start_time": "2023-12-15T10:12:02.329170Z"
    }
   }
  },
  {
   "cell_type": "code",
   "execution_count": 52,
   "outputs": [
    {
     "ename": "IndexError",
     "evalue": "index 4 is out of bounds for axis 0 with size 4",
     "output_type": "error",
     "traceback": [
      "\u001B[0;31m---------------------------------------------------------------------------\u001B[0m",
      "\u001B[0;31mIndexError\u001B[0m                                Traceback (most recent call last)",
      "Cell \u001B[0;32mIn[52], line 3\u001B[0m\n\u001B[1;32m      1\u001B[0m \u001B[38;5;66;03m### PAE\u001B[39;00m\n\u001B[1;32m      2\u001B[0m pae \u001B[38;5;241m=\u001B[39m Metrics(inv_pred, pred_x)\n\u001B[0;32m----> 3\u001B[0m \u001B[38;5;28mprint\u001B[39m(\u001B[38;5;124mf\u001B[39m\u001B[38;5;124m\"\u001B[39m\u001B[38;5;124mPae: \u001B[39m\u001B[38;5;132;01m{\u001B[39;00mpae\u001B[38;5;241m.\u001B[39mcalculate_pae()\u001B[38;5;132;01m}\u001B[39;00m\u001B[38;5;124m\"\u001B[39m)\n\u001B[1;32m      4\u001B[0m \u001B[38;5;28mprint\u001B[39m(pae\u001B[38;5;241m.\u001B[39mPAE_data)\n",
      "File \u001B[0;32m~/Desktop/UAB/4t/TCI/Projecte/TCIProject/TCIProject/codingTools/Metrics.py:46\u001B[0m, in \u001B[0;36mMetrics.calculate_pae\u001B[0;34m(self)\u001B[0m\n\u001B[1;32m     44\u001B[0m \u001B[38;5;28;01mfor\u001B[39;00m y \u001B[38;5;129;01min\u001B[39;00m \u001B[38;5;28mrange\u001B[39m(\u001B[38;5;28mself\u001B[39m\u001B[38;5;241m.\u001B[39moriginal_image_rows):\n\u001B[1;32m     45\u001B[0m     \u001B[38;5;28;01mfor\u001B[39;00m x \u001B[38;5;129;01min\u001B[39;00m \u001B[38;5;28mrange\u001B[39m(\u001B[38;5;28mself\u001B[39m\u001B[38;5;241m.\u001B[39moriginal_image_columns):\n\u001B[0;32m---> 46\u001B[0m         value \u001B[38;5;241m=\u001B[39m \u001B[38;5;28mself\u001B[39m\u001B[38;5;241m.\u001B[39moriginal_image[z][y][x] \u001B[38;5;241m-\u001B[39m \u001B[38;5;28;43mself\u001B[39;49m\u001B[38;5;241;43m.\u001B[39;49m\u001B[43mreconstructed_image\u001B[49m\u001B[43m[\u001B[49m\u001B[43mz\u001B[49m\u001B[43m]\u001B[49m\u001B[43m[\u001B[49m\u001B[43my\u001B[49m\u001B[43m]\u001B[49m\u001B[43m[\u001B[49m\u001B[43mx\u001B[49m\u001B[43m]\u001B[49m\n\u001B[1;32m     47\u001B[0m         \u001B[38;5;28;01mif\u001B[39;00m max_value \u001B[38;5;241m==\u001B[39m \u001B[38;5;28;01mNone\u001B[39;00m:\n\u001B[1;32m     48\u001B[0m             max_value \u001B[38;5;241m=\u001B[39m value\n",
      "\u001B[0;31mIndexError\u001B[0m: index 4 is out of bounds for axis 0 with size 4"
     ]
    }
   ],
   "source": [
    "### PAE\n",
    "pae = Metrics(inv_pred, pred_x)\n",
    "print(f\"Pae: {pae.calculate_pae()}\")\n",
    "print(pae.PAE_data)"
   ],
   "metadata": {
    "collapsed": false,
    "ExecuteTime": {
     "end_time": "2023-12-15T10:12:02.592359Z",
     "start_time": "2023-12-15T10:12:02.574355Z"
    }
   }
  }
 ],
 "metadata": {
  "kernelspec": {
   "display_name": "Python 3 (ipykernel)",
   "language": "python",
   "name": "python3"
  },
  "language_info": {
   "codemirror_mode": {
    "name": "ipython",
    "version": 3
   },
   "file_extension": ".py",
   "mimetype": "text/x-python",
   "name": "python",
   "nbconvert_exporter": "python",
   "pygments_lexer": "ipython3",
   "version": "3.11.5"
  },
  "toc-autonumbering": true
 },
 "nbformat": 4,
 "nbformat_minor": 4
}
