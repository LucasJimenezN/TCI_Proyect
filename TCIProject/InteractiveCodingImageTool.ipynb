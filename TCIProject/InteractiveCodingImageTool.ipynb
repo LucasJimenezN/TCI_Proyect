{
 "cells": [
  {
   "cell_type": "code",
   "execution_count": 1,
   "metadata": {
    "ExecuteTime": {
     "end_time": "2023-11-24T10:56:28.559548Z",
     "start_time": "2023-11-24T10:56:28.485226Z"
    }
   },
   "outputs": [],
   "source": [
    "import sys\n",
    "import os\n",
    "import numpy as np\n",
    "\n",
    "from codingTools import *\n"
   ]
  },
  {
   "cell_type": "code",
   "execution_count": 2,
   "metadata": {
    "ExecuteTime": {
     "end_time": "2023-11-24T10:56:28.570216Z",
     "start_time": "2023-11-24T10:56:28.567438Z"
    }
   },
   "outputs": [],
   "source": [
    "######LOAD RAW IMAGE######\n",
    "#dtype --> > stands for big endian, i stands for integer, 2 stands for 2 bytes\n",
    "#originalFile=\"../images/03508649.1_512_512_2_0_12_0_0_0d.raw\" #int16\n",
    "originalFile=\"../images/03508649.1_128_128_1_0_8_0_0_0.raw\"\n",
    "#originalFile=\"../images/n1_GRAY.1_2560_2048_1_0_8_0_0_0.raw\" #uint8\n",
    "#ImageRaw = load_image_raw(originalFile, 1, 512, 512, \"int16\") #https://numpy.org/doc/stable/reference/arrays.dtypes.html\n",
    "ImageRaw = load_image_raw(originalFile, 1, 128, 128, \"uint8\")\n",
    "#ImageRaw = load_image_raw(originalFile, 1, 2560, 2048, \"uint8\") #https://numpy.org/doc/stable/reference/arrays.dtypes.html\n",
    "original_image = ImageRaw.load_image_raw()\n",
    "##############################"
   ]
  },
  {
   "cell_type": "code",
   "execution_count": 3,
   "metadata": {
    "ExecuteTime": {
     "end_time": "2023-11-24T10:56:28.600424Z",
     "start_time": "2023-11-24T10:56:28.592926Z"
    }
   },
   "outputs": [
    {
     "name": "stdout",
     "output_type": "stream",
     "text": [
      "order zero entropy of the image:  6.7004541529645625\n"
     ]
    }
   ],
   "source": [
    "########STATISTICS##########\n",
    "statistics_data = statistics(original_image)\n",
    "entropy = statistics_data.compute_entropy()\n",
    "print(\"order zero entropy of the image: \",entropy)"
   ]
  },
  {
   "cell_type": "code",
   "execution_count": 4,
   "outputs": [
    {
     "name": "stdout",
     "output_type": "stream",
     "text": [
      "[[[16 21 25 ... 25 22 19]\n",
      "  [19 25 29 ... 29 25 22]\n",
      "  [22 28 34 ... 34 29 25]\n",
      "  ...\n",
      "  [22 28 33 ... 34 30 26]\n",
      "  [19 24 29 ... 30 25 23]\n",
      "  [16 21 25 ... 25 22 19]]]\n"
     ]
    }
   ],
   "source": [
    "print(original_image)"
   ],
   "metadata": {
    "collapsed": false,
    "ExecuteTime": {
     "end_time": "2023-11-24T10:56:28.604471Z",
     "start_time": "2023-11-24T10:56:28.599019Z"
    }
   }
  },
  {
   "cell_type": "code",
   "execution_count": 5,
   "metadata": {
    "ExecuteTime": {
     "end_time": "2023-11-24T10:56:28.610533Z",
     "start_time": "2023-11-24T10:56:28.606995Z"
    }
   },
   "outputs": [],
   "source": [
    "######SAVE RAW IMAGE######\n",
    "# decodedFile=\"../images/n1_GRAY.1_2560_2048_1_0_8_0_0_0_copy.raw\"\n",
    "# ImageRawDecoded = save_image_raw(decodedFile)\n",
    "# ImageRawDecoded.save_image_raw(original_image,\"uint8\")\n",
    "###########"
   ]
  },
  {
   "cell_type": "code",
   "execution_count": 6,
   "metadata": {
    "ExecuteTime": {
     "end_time": "2023-11-24T10:56:28.692153Z",
     "start_time": "2023-11-24T10:56:28.659804Z"
    }
   },
   "outputs": [
    {
     "name": "stdout",
     "output_type": "stream",
     "text": [
      "Check Quantize: [[[1. 2. 2. ... 2. 2. 1.]\n",
      "  [1. 2. 2. ... 2. 2. 2.]\n",
      "  [2. 2. 3. ... 3. 2. 2.]\n",
      "  ...\n",
      "  [2. 2. 3. ... 3. 3. 2.]\n",
      "  [1. 2. 2. ... 3. 2. 2.]\n",
      "  [1. 2. 2. ... 2. 2. 1.]]]\n",
      "Entropia: 3.4368520266679963\n"
     ]
    }
   ],
   "source": [
    "### Quantize ###\n",
    "quantize = Quantizer(1, 10)\n",
    "image_data_quantized = ImageRaw.get_image_structure_empty()\n",
    "quantize.quantize(original_image, image_data_quantized)\n",
    "quant_statics = statistics(image_data_quantized).compute_entropy()\n",
    "print(f\"Entropia: {quant_statics}\")\n"
   ]
  },
  {
   "cell_type": "code",
   "execution_count": 7,
   "metadata": {
    "ExecuteTime": {
     "end_time": "2023-11-24T10:56:28.728401Z",
     "start_time": "2023-11-24T10:56:28.700178Z"
    }
   },
   "outputs": [],
   "source": [
    "### Dequantize ###\n",
    "dequantize = Quantizer(1, 10)\n",
    "image_data_dequantized = ImageRaw.get_image_structure_empty()\n",
    "dequantize.dequantize(image_data_quantized, image_data_dequantized)"
   ]
  },
  {
   "cell_type": "code",
   "execution_count": 8,
   "metadata": {
    "ExecuteTime": {
     "end_time": "2023-11-24T10:56:28.729114Z",
     "start_time": "2023-11-24T10:56:28.713417Z"
    }
   },
   "outputs": [
    {
     "name": "stdout",
     "output_type": "stream",
     "text": [
      "Pae: 9.0\n",
      "9.0\n"
     ]
    }
   ],
   "source": [
    "### PAE ###\n",
    "pae = Metrics(original_image, image_data_dequantized)\n",
    "print(f\"Pae: {pae.calculate_pae()}\")\n",
    "print(pae.PAE_data)\n"
   ]
  },
  {
   "cell_type": "code",
   "execution_count": 9,
   "metadata": {
    "ExecuteTime": {
     "end_time": "2023-11-24T10:56:28.743263Z",
     "start_time": "2023-11-24T10:56:28.733735Z"
    }
   },
   "outputs": [
    {
     "name": "stdout",
     "output_type": "stream",
     "text": [
      "Mse: 28.00189208984375\n"
     ]
    }
   ],
   "source": [
    "### MSE ###\n",
    "mse = Metrics(original_image, image_data_dequantized)\n",
    "print(f\"Mse: {mse.calculate_mse()}\")"
   ]
  },
  {
   "cell_type": "code",
   "execution_count": 10,
   "metadata": {
    "ExecuteTime": {
     "end_time": "2023-11-24T10:56:28.768022Z",
     "start_time": "2023-11-24T10:56:28.749354Z"
    }
   },
   "outputs": [
    {
     "name": "stdout",
     "output_type": "stream",
     "text": [
      "Psnr: 33.69292552980915 dB\n"
     ]
    }
   ],
   "source": [
    "### PSNR ###\n",
    "psnr = Metrics(original_image, image_data_dequantized)\n",
    "print(f\"Psnr: {psnr.calculate_psnr()} dB\")"
   ]
  },
  {
   "cell_type": "code",
   "execution_count": 11,
   "outputs": [
    {
     "name": "stdout",
     "output_type": "stream",
     "text": [
      "Array modificado: [ 1  3  7  9 -1 -1  2  2]\n"
     ]
    }
   ],
   "source": [
    "### S-transform forward ###\n",
    "array = [1,2,3,4,8,6,10,8]\n",
    "transform = Wavelet(array, 1)\n",
    "array_transform = transform.s_tranform_forward(array)\n",
    "print(f\"Array modificado: {array_transform}\")\n",
    "    "
   ],
   "metadata": {
    "collapsed": false,
    "ExecuteTime": {
     "end_time": "2023-11-24T10:56:28.772247Z",
     "start_time": "2023-11-24T10:56:28.762829Z"
    }
   }
  },
  {
   "cell_type": "code",
   "execution_count": 12,
   "outputs": [
    {
     "name": "stdout",
     "output_type": "stream",
     "text": [
      "Array invertido: [ 1  2  3  4  8  6 10  8]\n"
     ]
    }
   ],
   "source": [
    "### S-transform Inverse ###\n",
    "array_inv = transform.s_transform_inverse(array_transform)\n",
    "print(f\"Array invertido: {array_inv}\")\n"
   ],
   "metadata": {
    "collapsed": false,
    "ExecuteTime": {
     "end_time": "2023-11-24T10:56:28.776601Z",
     "start_time": "2023-11-24T10:56:28.771396Z"
    }
   }
  },
  {
   "cell_type": "code",
   "execution_count": 13,
   "outputs": [
    {
     "name": "stdout",
     "output_type": "stream",
     "text": [
      "[[ 44  51  97 ...   3   3   3]\n",
      " [ 53 118 216 ...   4   5   4]\n",
      " [ 76 190 176 ...   5   5   6]\n",
      " ...\n",
      " [  4   4   5 ...   1   1   0]\n",
      " [  3   4   5 ...  -1   1   0]\n",
      " [  3   4   5 ...   1   1  -1]]\n"
     ]
    }
   ],
   "source": [
    "### S-transform Forward image ###\n",
    "transform_image = Wavelet(original_image, 3)\n",
    "#print(len(original_image[0][0]))\n",
    "transform_forward = transform_image.handle_transform_forward()\n",
    "print(transform_forward)\n"
   ],
   "metadata": {
    "collapsed": false,
    "ExecuteTime": {
     "end_time": "2023-11-24T10:56:28.823691Z",
     "start_time": "2023-11-24T10:56:28.775542Z"
    }
   }
  },
  {
   "cell_type": "code",
   "execution_count": 14,
   "outputs": [],
   "source": [
    "### S-transform Reverse image ###\n",
    "transform_image_reverse = Wavelet(transform_forward, 3)\n",
    "transform_reverse = transform_image_reverse.handle_transform_inverse()\n",
    "\n"
   ],
   "metadata": {
    "collapsed": false,
    "ExecuteTime": {
     "end_time": "2023-11-24T10:56:28.824104Z",
     "start_time": "2023-11-24T10:56:28.801658Z"
    }
   }
  },
  {
   "cell_type": "code",
   "execution_count": 15,
   "outputs": [
    {
     "name": "stdout",
     "output_type": "stream",
     "text": [
      "[[[16 21 25 ... 25 22 19]\n",
      "  [19 25 29 ... 29 25 22]\n",
      "  [22 28 34 ... 34 29 25]\n",
      "  ...\n",
      "  [22 28 33 ... 34 30 26]\n",
      "  [19 24 29 ... 30 25 23]\n",
      "  [16 21 25 ... 25 22 19]]]\n"
     ]
    }
   ],
   "source": [
    "print(transform_reverse)"
   ],
   "metadata": {
    "collapsed": false,
    "ExecuteTime": {
     "end_time": "2023-11-24T10:56:28.824437Z",
     "start_time": "2023-11-24T10:56:28.819520Z"
    }
   }
  },
  {
   "cell_type": "code",
   "execution_count": 16,
   "outputs": [
    {
     "name": "stdout",
     "output_type": "stream",
     "text": [
      "[[[16 21 25 ... 25 22 19]\n",
      "  [19 25 29 ... 29 25 22]\n",
      "  [22 28 34 ... 34 29 25]\n",
      "  ...\n",
      "  [22 28 33 ... 34 30 26]\n",
      "  [19 24 29 ... 30 25 23]\n",
      "  [16 21 25 ... 25 22 19]]]\n"
     ]
    }
   ],
   "source": [
    "print(original_image)\n",
    " "
   ],
   "metadata": {
    "collapsed": false,
    "ExecuteTime": {
     "end_time": "2023-11-24T10:56:28.825050Z",
     "start_time": "2023-11-24T10:56:28.823129Z"
    }
   }
  },
  {
   "cell_type": "markdown",
   "source": [
    "### Classe 17/09\n",
    "Predicció:\n",
    "X = 1,2,3,4,8,6,10,8\n",
    "Causal\n",
    "Pi = {0 si i=0, X(i-1) si i>0}\n",
    "X'i = Xi - Pi\n",
    "P = 0,1,2,3,4,8,6,10 (Predicció)\n",
    "X' = 1,1,1,1,4,-2,4,-2\n",
    "#\n",
    "###### TODO\n",
    "Predict sobre una matriu. -> ha de ser invertible -> img de 512 512\n",
    "Calcular entropia del resultat X' -> H(x') <= H(x)"
   ],
   "metadata": {
    "collapsed": false
   }
  },
  {
   "cell_type": "code",
   "execution_count": 18,
   "outputs": [
    {
     "name": "stdout",
     "output_type": "stream",
     "text": [
      "Original entropy  6.7004541529645625\n",
      "Pred entropy:  20.101362458893682\n"
     ]
    }
   ],
   "source": [
    "pred = Prediction(original_image)\n",
    "mat_pred = pred.predict_image_LOP()\n",
    "statistics_data_pred = statistics(mat_pred)\n",
    "entropy_pred = statistics_data.compute_entropy()\n",
    "print(\"Original entropy \",entropy)\n",
    "print(\"Pred entropy: \", entropy_pred)"
   ],
   "metadata": {
    "collapsed": false,
    "ExecuteTime": {
     "end_time": "2023-11-24T10:56:30.406571Z",
     "start_time": "2023-11-24T10:56:30.348754Z"
    }
   }
  },
  {
   "cell_type": "code",
   "execution_count": null,
   "outputs": [],
   "source": [],
   "metadata": {
    "collapsed": false
   }
  }
 ],
 "metadata": {
  "kernelspec": {
   "display_name": "Python 3 (ipykernel)",
   "language": "python",
   "name": "python3"
  },
  "language_info": {
   "codemirror_mode": {
    "name": "ipython",
    "version": 3
   },
   "file_extension": ".py",
   "mimetype": "text/x-python",
   "name": "python",
   "nbconvert_exporter": "python",
   "pygments_lexer": "ipython3",
   "version": "3.11.4"
  },
  "toc-autonumbering": true
 },
 "nbformat": 4,
 "nbformat_minor": 4
}
