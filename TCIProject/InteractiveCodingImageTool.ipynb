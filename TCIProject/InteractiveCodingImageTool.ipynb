{
 "cells": [
  {
   "cell_type": "code",
   "execution_count": 2,
   "metadata": {
    "ExecuteTime": {
     "end_time": "2023-12-01T09:36:13.175330Z",
     "start_time": "2023-12-01T09:36:12.889319Z"
    }
   },
   "outputs": [],
   "source": [
    "import sys\n",
    "import os\n",
    "import numpy as np\n",
    "\n",
    "from codingTools import *\n"
   ]
  },
  {
   "cell_type": "code",
   "execution_count": 3,
   "metadata": {
    "ExecuteTime": {
     "end_time": "2023-12-01T09:36:13.175631Z",
     "start_time": "2023-12-01T09:36:13.037216Z"
    }
   },
   "outputs": [],
   "source": [
    "######LOAD RAW IMAGE######\n",
    "#dtype --> > stands for big endian, i stands for integer, 2 stands for 2 bytes\n",
    "originalFile=\"../images/03508649.1_512_512_2_0_12_0_0_0d.raw\" #int16\n",
    "#originalFile=\"../images/03508649.1_128_128_1_0_8_0_0_0.raw\"\n",
    "#originalFile=\"../images/n1_GRAY.1_2560_2048_1_0_8_0_0_0.raw\" #uint8\n",
    "ImageRaw = load_image_raw(originalFile, 1, 512, 512, \">i2\") #https://numpy.org/doc/stable/reference/arrays.dtypes.html\n",
    "#ImageRaw = load_image_raw(originalFile, 1, 128, 128, \"uint8\")\n",
    "#ImageRaw = load_image_raw(originalFile, 1, 2560, 2048, \"uint8\") #https://numpy.org/doc/stable/reference/arrays.dtypes.html\n",
    "original_image = ImageRaw.load_image_raw()\n",
    "##############################"
   ]
  },
  {
   "cell_type": "code",
   "execution_count": 4,
   "metadata": {
    "ExecuteTime": {
     "end_time": "2023-12-01T09:36:13.292832Z",
     "start_time": "2023-12-01T09:36:13.080378Z"
    }
   },
   "outputs": [
    {
     "name": "stdout",
     "output_type": "stream",
     "text": [
      "order zero entropy of the image:  10.431490855522489\n"
     ]
    }
   ],
   "source": [
    "########STATISTICS##########\n",
    "statistics_data = statistics(original_image)\n",
    "entropy = statistics_data.compute_entropy()\n",
    "print(\"order zero entropy of the image: \",entropy)"
   ]
  },
  {
   "cell_type": "code",
   "execution_count": 5,
   "metadata": {
    "ExecuteTime": {
     "end_time": "2023-12-01T09:36:13.297980Z",
     "start_time": "2023-12-01T09:36:13.292127Z"
    }
   },
   "outputs": [
    {
     "name": "stdout",
     "output_type": "stream",
     "text": [
      "[[[356 359 386 ... 415 398 389]\n",
      "  [351 362 363 ... 417 405 398]\n",
      "  [355 363 394 ... 419 398 414]\n",
      "  ...\n",
      "  [361 375 414 ... 436 417 414]\n",
      "  [331 341 374 ... 442 380 406]\n",
      "  [332 344 354 ... 406 398 368]]]\n"
     ]
    }
   ],
   "source": [
    "print(original_image)"
   ]
  },
  {
   "cell_type": "code",
   "execution_count": 6,
   "metadata": {
    "ExecuteTime": {
     "end_time": "2023-12-01T09:36:13.302816Z",
     "start_time": "2023-12-01T09:36:13.297117Z"
    }
   },
   "outputs": [],
   "source": [
    "######SAVE RAW IMAGE######\n",
    "# decodedFile=\"../images/n1_GRAY.1_2560_2048_1_0_8_0_0_0_copy.raw\"\n",
    "# ImageRawDecoded = save_image_raw(decodedFile)\n",
    "# ImageRawDecoded.save_image_raw(original_image,\"uint8\")\n",
    "###########"
   ]
  },
  {
   "cell_type": "code",
   "execution_count": 7,
   "metadata": {
    "ExecuteTime": {
     "end_time": "2023-12-01T09:36:14.050784Z",
     "start_time": "2023-12-01T09:36:13.301326Z"
    }
   },
   "outputs": [
    {
     "name": "stdout",
     "output_type": "stream",
     "text": [
      "Check Quantize: [[[35. 35. 38. ... 41. 39. 38.]\n",
      "  [35. 36. 36. ... 41. 40. 39.]\n",
      "  [35. 36. 39. ... 41. 39. 41.]\n",
      "  ...\n",
      "  [36. 37. 41. ... 43. 41. 41.]\n",
      "  [33. 34. 37. ... 44. 38. 40.]\n",
      "  [33. 34. 35. ... 40. 39. 36.]]]\n",
      "Entropia: 7.1184477268956465\n"
     ]
    }
   ],
   "source": [
    "### Quantize ###\n",
    "quantize = Quantizer(1, 10)\n",
    "image_data_quantized = ImageRaw.get_image_structure_empty()\n",
    "quantize.quantize(original_image, image_data_quantized)\n",
    "quant_statics = statistics(image_data_quantized).compute_entropy()\n",
    "print(f\"Entropia: {quant_statics}\")\n"
   ]
  },
  {
   "cell_type": "code",
   "execution_count": 8,
   "metadata": {
    "ExecuteTime": {
     "end_time": "2023-12-01T09:36:14.144266Z",
     "start_time": "2023-12-01T09:36:14.049245Z"
    }
   },
   "outputs": [],
   "source": [
    "### Dequantize ###\n",
    "dequantize = Quantizer(1, 10)\n",
    "image_data_dequantized = ImageRaw.get_image_structure_empty()\n",
    "dequantize.dequantize(image_data_quantized, image_data_dequantized)"
   ]
  },
  {
   "cell_type": "code",
   "execution_count": 9,
   "metadata": {
    "ExecuteTime": {
     "end_time": "2023-12-01T09:36:14.277041Z",
     "start_time": "2023-12-01T09:36:14.224052Z"
    }
   },
   "outputs": [
    {
     "name": "stdout",
     "output_type": "stream",
     "text": [
      "Pae: 9.0\n",
      "9.0\n"
     ]
    }
   ],
   "source": [
    "### PAE ###\n",
    "pae = Metrics(original_image, image_data_dequantized)\n",
    "print(f\"Pae: {pae.calculate_pae()}\")\n",
    "print(pae.PAE_data)\n"
   ]
  },
  {
   "cell_type": "code",
   "execution_count": 10,
   "metadata": {
    "ExecuteTime": {
     "end_time": "2023-12-01T09:36:14.421858Z",
     "start_time": "2023-12-01T09:36:14.332600Z"
    }
   },
   "outputs": [
    {
     "name": "stdout",
     "output_type": "stream",
     "text": [
      "Mse: 28.504417419433594\n"
     ]
    }
   ],
   "source": [
    "### MSE ###\n",
    "mse = Metrics(original_image, image_data_dequantized)\n",
    "print(f\"Mse: {mse.calculate_mse()}\")"
   ]
  },
  {
   "cell_type": "code",
   "execution_count": 11,
   "metadata": {
    "ExecuteTime": {
     "end_time": "2023-12-01T09:36:14.619085Z",
     "start_time": "2023-12-01T09:36:14.486662Z"
    }
   },
   "outputs": [
    {
     "name": "stdout",
     "output_type": "stream",
     "text": [
      "Psnr: 57.6980772672628 dB\n"
     ]
    }
   ],
   "source": [
    "### PSNR ###\n",
    "psnr = Metrics(original_image, image_data_dequantized)\n",
    "print(f\"Psnr: {psnr.calculate_psnr()} dB\")"
   ]
  },
  {
   "cell_type": "code",
   "execution_count": 12,
   "metadata": {
    "ExecuteTime": {
     "end_time": "2023-12-01T09:36:14.624252Z",
     "start_time": "2023-12-01T09:36:14.620875Z"
    }
   },
   "outputs": [
    {
     "name": "stdout",
     "output_type": "stream",
     "text": [
      "Array modificado: [ 1  3  7  9 -1 -1  2  2]\n"
     ]
    }
   ],
   "source": [
    "### S-transform forward ###\n",
    "array = [1,2,3,4,8,6,10,8]\n",
    "transform = Wavelet(array, 1)\n",
    "array_transform = transform.s_tranform_forward(array)\n",
    "print(f\"Array modificado: {array_transform}\")\n",
    "    "
   ]
  },
  {
   "cell_type": "code",
   "execution_count": 13,
   "metadata": {
    "ExecuteTime": {
     "end_time": "2023-12-01T09:36:14.630064Z",
     "start_time": "2023-12-01T09:36:14.625410Z"
    }
   },
   "outputs": [
    {
     "name": "stdout",
     "output_type": "stream",
     "text": [
      "Array invertido: [ 1  2  3  4  8  6 10  8]\n"
     ]
    }
   ],
   "source": [
    "### S-transform Inverse ###\n",
    "array_inv = transform.s_transform_inverse(array_transform)\n",
    "print(f\"Array invertido: {array_inv}\")\n"
   ]
  },
  {
   "cell_type": "code",
   "execution_count": 14,
   "metadata": {
    "ExecuteTime": {
     "end_time": "2023-12-01T09:36:14.853077Z",
     "start_time": "2023-12-01T09:36:14.629147Z"
    }
   },
   "outputs": [
    {
     "name": "stdout",
     "output_type": "stream",
     "text": [
      "[[436 525 615 ...  51   9  -2]\n",
      " [553 666 783 ...  -6   5  11]\n",
      " [641 783 920 ...  22  -8 -14]\n",
      " ...\n",
      " [ 11  25  -1 ...  -1 -53  31]\n",
      " [ 18  15  11 ...  69 -17  -8]\n",
      " [  8   2 -12 ...  14  25 -56]]\n"
     ]
    }
   ],
   "source": [
    "### S-transform Forward image ###\n",
    "transform_image = Wavelet(original_image, 3)\n",
    "#print(len(original_image[0][0]))\n",
    "transform_forward = transform_image.handle_transform_forward()\n",
    "print(transform_forward)\n"
   ]
  },
  {
   "cell_type": "code",
   "execution_count": 15,
   "metadata": {
    "ExecuteTime": {
     "end_time": "2023-12-01T09:36:15.076865Z",
     "start_time": "2023-12-01T09:36:14.862485Z"
    }
   },
   "outputs": [],
   "source": [
    "### S-transform Reverse image ###\n",
    "transform_image_reverse = Wavelet(transform_forward, 3)\n",
    "transform_reverse = transform_image_reverse.handle_transform_inverse()"
   ]
  },
  {
   "cell_type": "code",
   "execution_count": 16,
   "metadata": {
    "ExecuteTime": {
     "end_time": "2023-12-01T09:36:15.082228Z",
     "start_time": "2023-12-01T09:36:15.077223Z"
    }
   },
   "outputs": [
    {
     "name": "stdout",
     "output_type": "stream",
     "text": [
      "[[[356 359 386 ... 415 398 389]\n",
      "  [351 362 363 ... 417 405 398]\n",
      "  [355 363 394 ... 419 398 414]\n",
      "  ...\n",
      "  [361 375 414 ... 436 417 414]\n",
      "  [331 341 374 ... 442 380 406]\n",
      "  [332 344 354 ... 406 398 368]]]\n"
     ]
    }
   ],
   "source": [
    "print(transform_reverse)"
   ]
  },
  {
   "cell_type": "code",
   "execution_count": 17,
   "metadata": {
    "ExecuteTime": {
     "end_time": "2023-12-01T09:36:15.084662Z",
     "start_time": "2023-12-01T09:36:15.081471Z"
    }
   },
   "outputs": [
    {
     "name": "stdout",
     "output_type": "stream",
     "text": [
      "[[[356 359 386 ... 415 398 389]\n",
      "  [351 362 363 ... 417 405 398]\n",
      "  [355 363 394 ... 419 398 414]\n",
      "  ...\n",
      "  [361 375 414 ... 436 417 414]\n",
      "  [331 341 374 ... 442 380 406]\n",
      "  [332 344 354 ... 406 398 368]]]\n"
     ]
    }
   ],
   "source": [
    "print(original_image)\n",
    " "
   ]
  },
  {
   "cell_type": "markdown",
   "metadata": {},
   "source": [
    "### Classe 17/09\n",
    "Predicció:\n",
    "X = 1,2,3,4,8,6,10,8\n",
    "Causal\n",
    "Pi = {0 si i=0, X(i-1) si i>0}\n",
    "X'i = Xi - Pi\n",
    "P = 0,1,2,3,4,8,6,10 (Predicció)\n",
    "X' = 1,1,1,1,4,-2,4,-2\n"
   ]
  },
  {
   "cell_type": "code",
   "execution_count": 27,
   "metadata": {
    "ExecuteTime": {
     "end_time": "2023-12-01T10:12:45.622388Z",
     "start_time": "2023-12-01T10:12:44.773524Z"
    }
   },
   "outputs": [
    {
     "name": "stdout",
     "output_type": "stream",
     "text": [
      "Original entropy  10.431490855522489\n",
      "Pred entropy:  7.017758012788629\n"
     ]
    }
   ],
   "source": [
    "pred = Prediction(original_image)\n",
    "mat_pred = pred.predict_image()\n",
    "statistics_data_pred = statistics(mat_pred)\n",
    "entropy_pred = statistics_data_pred.compute_entropy()\n",
    "print(\"Original entropy \",entropy)\n",
    "print(\"Pred entropy: \", entropy_pred)"
   ]
  },
  {
   "cell_type": "code",
   "execution_count": 29,
   "outputs": [
    {
     "name": "stdout",
     "output_type": "stream",
     "text": [
      "\n",
      "La imagen devuelta es:\n",
      "[[[356 359 386 ... 415 398 389]\n",
      "  [351 362 363 ... 417 405 398]\n",
      "  [355 363 394 ... 419 398 414]\n",
      "  ...\n",
      "  [361 375 414 ... 436 417 414]\n",
      "  [331 341 374 ... 442 380 406]\n",
      "  [332 344 354 ... 406 398 368]]]\n",
      "\n",
      "La imagen original es:\n",
      "[[[356 359 386 ... 415 398 389]\n",
      "  [351 362 363 ... 417 405 398]\n",
      "  [355 363 394 ... 419 398 414]\n",
      "  ...\n",
      "  [361 375 414 ... 436 417 414]\n",
      "  [331 341 374 ... 442 380 406]\n",
      "  [332 344 354 ... 406 398 368]]]\n"
     ]
    }
   ],
   "source": [
    "#invert = Prediction(mat_pred)\n",
    "image_rebuilt = invert_image(mat_pred)\n",
    "print(f\"\\nLa imagen devuelta es:\\n{image_rebuilt}\")\n",
    "print(f\"\\nLa imagen original es:\\n{original_image}\")"
   ],
   "metadata": {
    "collapsed": false,
    "ExecuteTime": {
     "end_time": "2023-12-01T10:13:11.237288Z",
     "start_time": "2023-12-01T10:13:10.590255Z"
    }
   }
  },
  {
   "cell_type": "code",
   "execution_count": 34,
   "outputs": [
    {
     "name": "stdout",
     "output_type": "stream",
     "text": [
      "Pae: 0\n",
      "0\n"
     ]
    }
   ],
   "source": [
    "### PAE ###\n",
    "pae = Metrics(original_image, image_rebuilt)\n",
    "print(f\"Pae: {pae.calculate_pae()}\")\n",
    "print(pae.PAE_data)"
   ],
   "metadata": {
    "collapsed": false,
    "ExecuteTime": {
     "end_time": "2023-12-01T10:14:16.228416Z",
     "start_time": "2023-12-01T10:14:16.119001Z"
    }
   }
  },
  {
   "cell_type": "markdown",
   "source": [
    "# Clase 1/12\n",
    "X -> Predicto -> Q -> Q-1 -> Pred-1 -> X^-> PAE(X,X^)"
   ],
   "metadata": {
    "collapsed": false
   }
  },
  {
   "cell_type": "code",
   "execution_count": 35,
   "outputs": [
    {
     "name": "stdout",
     "output_type": "stream",
     "text": [
      "Check Quantize: [[[35.  0.  2. ...  0. -1.  0.]\n",
      "  [ 0.  0.  0. ... -1.  0.  0.]\n",
      "  [ 0.  0.  3. ...  0. -1.  1.]\n",
      "  ...\n",
      "  [-1.  0.  3. ... -1. -1.  0.]\n",
      "  [-3. -1.  0. ...  1. -5.  0.]\n",
      "  [ 0.  0.  0. ... -1.  0. -2.]]]\n"
     ]
    }
   ],
   "source": [
    "pred = Prediction(original_image)\n",
    "pred_x = pred.predict_image()\n",
    "quantize = Quantizer(1, 10)\n",
    "image_data_quantized = ImageRaw.get_image_structure_empty()\n",
    "quantize.quantize(pred_x, image_data_quantized)\n"
   ],
   "metadata": {
    "collapsed": false,
    "ExecuteTime": {
     "end_time": "2023-12-01T10:14:20.300837Z",
     "start_time": "2023-12-01T10:14:19.050572Z"
    }
   }
  },
  {
   "cell_type": "code",
   "execution_count": 36,
   "outputs": [],
   "source": [
    "dequantize = Quantizer(1, 10)\n",
    "image_data_dequantized = ImageRaw.get_image_structure_empty()\n",
    "dequantize.dequantize(image_data_quantized, image_data_dequantized)"
   ],
   "metadata": {
    "collapsed": false,
    "ExecuteTime": {
     "end_time": "2023-12-01T10:14:20.390666Z",
     "start_time": "2023-12-01T10:14:20.299Z"
    }
   }
  },
  {
   "cell_type": "code",
   "execution_count": 37,
   "outputs": [],
   "source": [
    "inv_pred = invert_image(image_data_dequantized)\n"
   ],
   "metadata": {
    "collapsed": false,
    "ExecuteTime": {
     "end_time": "2023-12-01T10:14:20.715890Z",
     "start_time": "2023-12-01T10:14:20.608911Z"
    }
   }
  },
  {
   "cell_type": "code",
   "execution_count": 39,
   "outputs": [
    {
     "name": "stdout",
     "output_type": "stream",
     "text": [
      "Pae: 3323.0\n",
      "3323.0\n"
     ]
    }
   ],
   "source": [
    "### PAE ###\n",
    "pae = Metrics(inv_pred, pred_x)\n",
    "print(f\"Pae: {pae.calculate_pae()}\")\n",
    "print(pae.PAE_data)\n"
   ],
   "metadata": {
    "collapsed": false,
    "ExecuteTime": {
     "end_time": "2023-12-01T10:26:41.880594Z",
     "start_time": "2023-12-01T10:26:41.781721Z"
    }
   }
  },
  {
   "cell_type": "code",
   "execution_count": null,
   "outputs": [],
   "source": [],
   "metadata": {
    "collapsed": false
   }
  }
 ],
 "metadata": {
  "kernelspec": {
   "display_name": "Python 3 (ipykernel)",
   "language": "python",
   "name": "python3"
  },
  "language_info": {
   "codemirror_mode": {
    "name": "ipython",
    "version": 3
   },
   "file_extension": ".py",
   "mimetype": "text/x-python",
   "name": "python",
   "nbconvert_exporter": "python",
   "pygments_lexer": "ipython3",
   "version": "3.11.5"
  },
  "toc-autonumbering": true
 },
 "nbformat": 4,
 "nbformat_minor": 4
}
