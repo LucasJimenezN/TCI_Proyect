{
 "cells": [
  {
   "cell_type": "code",
   "execution_count": 1,
   "metadata": {
    "ExecuteTime": {
     "end_time": "2023-11-16T19:12:28.673032Z",
     "start_time": "2023-11-16T19:12:28.576216Z"
    }
   },
   "outputs": [],
   "source": [
    "import sys\n",
    "import os\n",
    "import numpy as np\n",
    "\n",
    "from codingTools import *\n"
   ]
  },
  {
   "cell_type": "code",
   "execution_count": 2,
   "metadata": {
    "ExecuteTime": {
     "end_time": "2023-11-16T19:12:28.717514Z",
     "start_time": "2023-11-16T19:12:28.708765Z"
    }
   },
   "outputs": [],
   "source": [
    "######LOAD RAW IMAGE######\n",
    "#dtype --> > stands for big endian, i stands for integer, 2 stands for 2 bytes\n",
    "originalFile=\"../images/03508649.1_512_512_2_0_12_0_0_0d.raw\" #int16\n",
    "#originalFile=\"../images/n1_GRAY.1_2560_2048_1_0_8_0_0_0.raw\" #uint8\n",
    "ImageRaw = load_image_raw(originalFile, 1, 512, 512, \"int16\") #https://numpy.org/doc/stable/reference/arrays.dtypes.html\n",
    "#ImageRaw = load_image_raw(originalFile, 1, 2560, 2048, \"uint8\") #https://numpy.org/doc/stable/reference/arrays.dtypes.html\n",
    "original_image = ImageRaw.load_image_raw()\n",
    "##############################"
   ]
  },
  {
   "cell_type": "code",
   "execution_count": 3,
   "metadata": {
    "ExecuteTime": {
     "end_time": "2023-11-16T19:12:28.939148Z",
     "start_time": "2023-11-16T19:12:28.790251Z"
    }
   },
   "outputs": [
    {
     "name": "stdout",
     "output_type": "stream",
     "text": [
      "order zero entropy of the image:  10.431490855522489\n"
     ]
    }
   ],
   "source": [
    "########STATISTICS##########\n",
    "statistics_data = statistics(original_image)\n",
    "entropy = statistics_data.compute_entropy()\n",
    "print(\"order zero entropy of the image: \",entropy)"
   ]
  },
  {
   "cell_type": "code",
   "execution_count": 4,
   "metadata": {
    "ExecuteTime": {
     "end_time": "2023-11-16T19:12:28.942209Z",
     "start_time": "2023-11-16T19:12:28.938393Z"
    }
   },
   "outputs": [],
   "source": [
    "######SAVE RAW IMAGE######\n",
    "# decodedFile=\"../images/n1_GRAY.1_2560_2048_1_0_8_0_0_0_copy.raw\"\n",
    "# ImageRawDecoded = save_image_raw(decodedFile)\n",
    "# ImageRawDecoded.save_image_raw(original_image,\"uint8\")\n",
    "###########"
   ]
  },
  {
   "cell_type": "code",
   "execution_count": 5,
   "metadata": {
    "ExecuteTime": {
     "end_time": "2023-11-16T19:12:29.650074Z",
     "start_time": "2023-11-16T19:12:28.941670Z"
    }
   },
   "outputs": [
    {
     "name": "stdout",
     "output_type": "stream",
     "text": [
      "Check Quantize: [[[ 2560.  2636. -3225. ... -2483. -2918. -3148.]\n",
      "  [ 2432.  2713.  2739. ... -2431. -2739. -2918.]\n",
      "  [ 2534.  2739. -3020. ... -2380. -2918. -2508.]\n",
      "  ...\n",
      "  [ 2688.  3046. -2508. ... -1945. -2431. -2508.]\n",
      "  [ 1920.  2176.  3020. ... -1791.  3174. -2713.]\n",
      "  [ 1945.  2252.  2508. ... -2713. -2918.  2867.]]]\n",
      "Entropia: 8.427372356811585\n"
     ]
    }
   ],
   "source": [
    "### Quantize ###\n",
    "quantize = Quantizer(1, 10)\n",
    "image_data_quantized = ImageRaw.get_image_structure_empty()\n",
    "quantize.quantize(original_image, image_data_quantized)\n",
    "quant_statics = statistics(image_data_quantized).compute_entropy()\n",
    "print(f\"Entropia: {quant_statics}\")\n"
   ]
  },
  {
   "cell_type": "code",
   "execution_count": 6,
   "metadata": {
    "ExecuteTime": {
     "end_time": "2023-11-16T19:12:29.743002Z",
     "start_time": "2023-11-16T19:12:29.649048Z"
    }
   },
   "outputs": [],
   "source": [
    "### Dequantize ###\n",
    "dequantize = Quantizer(1, 10)\n",
    "image_data_dequantized = ImageRaw.get_image_structure_empty()\n",
    "dequantize.dequantize(image_data_quantized, image_data_dequantized)"
   ]
  },
  {
   "cell_type": "code",
   "execution_count": 7,
   "metadata": {
    "ExecuteTime": {
     "end_time": "2023-11-16T19:12:29.870055Z",
     "start_time": "2023-11-16T19:12:29.809450Z"
    }
   },
   "outputs": [
    {
     "name": "stdout",
     "output_type": "stream",
     "text": [
      "Pae: 9.0\n",
      "9.0\n"
     ]
    }
   ],
   "source": [
    "### PAE ###\n",
    "pae = Metrics(original_image, image_data_dequantized)\n",
    "print(f\"Pae: {pae.calculate_pae()}\")\n",
    "print(pae.PAE_data)\n"
   ]
  },
  {
   "cell_type": "code",
   "execution_count": 8,
   "metadata": {
    "ExecuteTime": {
     "end_time": "2023-11-16T19:12:30.004369Z",
     "start_time": "2023-11-16T19:12:29.918378Z"
    }
   },
   "outputs": [
    {
     "name": "stdout",
     "output_type": "stream",
     "text": [
      "Mse: 28.720321655273438\n"
     ]
    }
   ],
   "source": [
    "### MSE ###\n",
    "mse = Metrics(original_image, image_data_dequantized)\n",
    "print(f\"Mse: {mse.calculate_mse()}\")"
   ]
  },
  {
   "cell_type": "code",
   "execution_count": 9,
   "metadata": {
    "ExecuteTime": {
     "end_time": "2023-11-16T19:12:30.198812Z",
     "start_time": "2023-11-16T19:12:30.034909Z"
    }
   },
   "outputs": [
    {
     "name": "stdout",
     "output_type": "stream",
     "text": [
      "Psnr: 75.72710570410173 dB\n"
     ]
    }
   ],
   "source": [
    "### PSNR ###\n",
    "psnr = Metrics(original_image, image_data_dequantized)\n",
    "print(f\"Psnr: {psnr.calculate_psnr()} dB\")"
   ]
  },
  {
   "cell_type": "code",
   "execution_count": 10,
   "metadata": {
    "ExecuteTime": {
     "end_time": "2023-11-16T19:12:30.201968Z",
     "start_time": "2023-11-16T19:12:30.197576Z"
    }
   },
   "outputs": [],
   "source": [
    "###BITPACKING CODING###\n",
    "# bitpacking_coding = BitPacking(\"bitpacket.txt\" ,original_image)\n",
    "# bitpacking_coding.coding()\n",
    "# original_size_in_bytes = ImageRaw.get_original_size_in_bytes()\n",
    "# CR = original_size_in_bytes / bitpacking_coding.size_of_coded_file\n",
    "# print(original_size_in_bytes)\n",
    "# print(bitpacking_coding.size_of_coded_file)"
   ]
  },
  {
   "cell_type": "code",
   "execution_count": 11,
   "outputs": [
    {
     "name": "stdout",
     "output_type": "stream",
     "text": [
      "Array modificado: [ 2  4  7  9 -1 -1  2  2]\n"
     ]
    }
   ],
   "source": [
    "### S-transform forward ###\n",
    "array = [1,2,3,4,8,6,10,8]\n",
    "transform = Wavelet(array, 1)\n",
    "array_transform = transform.s_tranform_forward(array)\n",
    "print(f\"Array modificado: {array_transform}\")\n"
   ],
   "metadata": {
    "collapsed": false,
    "ExecuteTime": {
     "end_time": "2023-11-16T19:12:30.202909Z",
     "start_time": "2023-11-16T19:12:30.200798Z"
    }
   }
  },
  {
   "cell_type": "code",
   "execution_count": 12,
   "outputs": [
    {
     "name": "stdout",
     "output_type": "stream",
     "text": [
      "Array invertido: [ 1  2  3  4  8  6 10  8]\n"
     ]
    }
   ],
   "source": [
    "### S-transform Inverse ###\n",
    "array_inv = transform.s_transform_inverse(array_transform)\n",
    "print(f\"Array invertido: {array_inv}\")\n"
   ],
   "metadata": {
    "collapsed": false,
    "ExecuteTime": {
     "end_time": "2023-11-16T19:12:30.206365Z",
     "start_time": "2023-11-16T19:12:30.203074Z"
    }
   }
  },
  {
   "cell_type": "code",
   "execution_count": 13,
   "outputs": [
    {
     "name": "stdout",
     "output_type": "stream",
     "text": [
      "[[[ 25601  26369 -32255 ... -24831 -29183 -31487]\n",
      "  [ 24321  27137  27393 ... -24319 -27391 -29183]\n",
      "  [ 25345  27393 -30207 ... -23807 -29183 -25087]\n",
      "  ...\n",
      "  [ 26881  30465 -25087 ... -19455 -24319 -25087]\n",
      "  [ 19201  21761  30209 ... -17919  31745 -27135]\n",
      "  [ 19457  22529  25089 ... -27135 -29183  28673]]]\n"
     ]
    }
   ],
   "source": [
    "print(original_image)"
   ],
   "metadata": {
    "collapsed": false,
    "ExecuteTime": {
     "end_time": "2023-11-16T19:12:30.209817Z",
     "start_time": "2023-11-16T19:12:30.206863Z"
    }
   }
  },
  {
   "cell_type": "code",
   "execution_count": 17,
   "outputs": [
    {
     "name": "stdout",
     "output_type": "stream",
     "text": [
      "[[ -7589  25434  32185 ...   2944   4608   2048]\n",
      " [ 22724  -5575   3252 ...   6400   3840    512]\n",
      " [ 28291   2454 -15519 ...   -256   2816  -3072]\n",
      " ...\n",
      " [ 13056  -1536   5632 ...   -256  17664   3584]\n",
      " [  2432   1280  -2048 ... -13568  -4352   6400]\n",
      " [  -512   2816  -3584 ...   7936  -2048 -14336]]\n"
     ]
    }
   ],
   "source": [
    "### S-transform Forward image ###\n",
    "transform_image = Wavelet(original_image, 4)\n",
    "#print(len(original_image[0][0]))\n",
    "transform_forward = transform_image.handle_transform_forward()\n",
    "print(transform_forward)\n"
   ],
   "metadata": {
    "collapsed": false,
    "ExecuteTime": {
     "end_time": "2023-11-16T19:12:36.479702Z",
     "start_time": "2023-11-16T19:12:35.816Z"
    }
   }
  },
  {
   "cell_type": "code",
   "execution_count": 18,
   "outputs": [
    {
     "name": "stdout",
     "output_type": "stream",
     "text": [
      "[[ -7166  -6398    514 ... -24831 -29183 -31487]\n",
      " [ -8446  -5630  -5374 ... -24319 -27391 -29183]\n",
      " [ -7422  -5374   2562 ... -23807 -29183 -25087]\n",
      " ...\n",
      " [ -5886  -2302   7682 ... -19455 -24319 -25087]\n",
      " [-13566 -11006  -2558 ... -17919  31745 -27135]\n",
      " [-13310 -10238  -7678 ... -27135 -29183  28673]]\n"
     ]
    }
   ],
   "source": [
    "### S-transform Reverse image ###\n",
    "transform_image_reverse = Wavelet(transform_forward, 4)\n",
    "transform_reverse = transform_image_reverse.handle_transform_inverse()\n",
    "print(transform_reverse)\n"
   ],
   "metadata": {
    "collapsed": false,
    "ExecuteTime": {
     "end_time": "2023-11-16T19:12:37.701513Z",
     "start_time": "2023-11-16T19:12:36.506584Z"
    }
   }
  },
  {
   "cell_type": "code",
   "execution_count": 19,
   "outputs": [
    {
     "name": "stdout",
     "output_type": "stream",
     "text": [
      "[[ 25601  26369 -32255 ... -24831 -29183 -31487]\n",
      " [ 24321  27137  27393 ... -24319 -27391 -29183]\n",
      " [ 25345  27393 -30207 ... -23807 -29183 -25087]\n",
      " ...\n",
      " [ 26881  30465 -25087 ... -19455 -24319 -25087]\n",
      " [ 19201  21761  30209 ... -17919  31745 -27135]\n",
      " [ 19457  22529  25089 ... -27135 -29183  28673]]\n"
     ]
    }
   ],
   "source": [
    "print(original_image[0])\n"
   ],
   "metadata": {
    "collapsed": false,
    "ExecuteTime": {
     "end_time": "2023-11-16T19:12:37.704649Z",
     "start_time": "2023-11-16T19:12:37.701236Z"
    }
   }
  },
  {
   "cell_type": "code",
   "execution_count": 16,
   "outputs": [],
   "source": [],
   "metadata": {
    "collapsed": false,
    "ExecuteTime": {
     "end_time": "2023-11-16T19:12:32.131886Z",
     "start_time": "2023-11-16T19:12:32.127999Z"
    }
   }
  }
 ],
 "metadata": {
  "kernelspec": {
   "display_name": "Python 3 (ipykernel)",
   "language": "python",
   "name": "python3"
  },
  "language_info": {
   "codemirror_mode": {
    "name": "ipython",
    "version": 3
   },
   "file_extension": ".py",
   "mimetype": "text/x-python",
   "name": "python",
   "nbconvert_exporter": "python",
   "pygments_lexer": "ipython3",
   "version": "3.11.4"
  },
  "toc-autonumbering": true
 },
 "nbformat": 4,
 "nbformat_minor": 4
}
