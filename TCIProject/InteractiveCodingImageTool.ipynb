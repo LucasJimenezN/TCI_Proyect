{
 "cells": [
  {
   "cell_type": "code",
   "execution_count": 1,
   "metadata": {
    "ExecuteTime": {
     "end_time": "2023-11-02T13:18:30.075969Z",
     "start_time": "2023-11-02T13:18:30.012051Z"
    }
   },
   "outputs": [],
   "source": [
    "import sys\n",
    "import os\n",
    "import numpy as np\n",
    "\n",
    "from codingTools import *\n"
   ]
  },
  {
   "cell_type": "code",
   "execution_count": 2,
   "metadata": {
    "ExecuteTime": {
     "end_time": "2023-11-02T13:18:30.099960Z",
     "start_time": "2023-11-02T13:18:30.068707Z"
    }
   },
   "outputs": [],
   "source": [
    "######LOAD RAW IMAGE######\n",
    "#dtype --> > stands for big endian, i stands for integer, 2 stands for 2 bytes\n",
    "#originalFile=\"../images/03508649.1_512_512_2_0_12_0_0_0d.raw\" #int16\n",
    "originalFile=\"../images/n1_GRAY.1_2560_2048_1_0_8_0_0_0.raw\" #uint8\n",
    "#ImageRaw = load_image_raw(originalFile, 1, 512, 512, \"int16\") #https://numpy.org/doc/stable/reference/arrays.dtypes.html\n",
    "ImageRaw = load_image_raw(originalFile, 1, 2560, 2048, \"uint8\") #https://numpy.org/doc/stable/reference/arrays.dtypes.html\n",
    "original_image = ImageRaw.load_image_raw()\n",
    "##############################"
   ]
  },
  {
   "cell_type": "code",
   "execution_count": 3,
   "metadata": {
    "ExecuteTime": {
     "end_time": "2023-11-02T13:18:32.323116Z",
     "start_time": "2023-11-02T13:18:30.074422Z"
    }
   },
   "outputs": [
    {
     "name": "stdout",
     "output_type": "stream",
     "text": [
      "order zero entropy of the image:  7.426142695578908\n"
     ]
    }
   ],
   "source": [
    "########STATISTICS##########\n",
    "statistics_data = statistics(original_image)\n",
    "entropy = statistics_data.compute_entropy()\n",
    "print(\"order zero entropy of the image: \",entropy)"
   ]
  },
  {
   "cell_type": "code",
   "execution_count": 4,
   "metadata": {
    "ExecuteTime": {
     "end_time": "2023-11-02T13:18:32.329179Z",
     "start_time": "2023-11-02T13:18:32.323642Z"
    }
   },
   "outputs": [],
   "source": [
    "######SAVE RAW IMAGE######\n",
    "# decodedFile=\"../images/n1_GRAY.1_2560_2048_1_0_8_0_0_0_copy.raw\"\n",
    "# ImageRawDecoded = save_image_raw(decodedFile)\n",
    "# ImageRawDecoded.save_image_raw(original_image,\"uint8\")\n",
    "###########"
   ]
  },
  {
   "cell_type": "code",
   "execution_count": 5,
   "metadata": {
    "ExecuteTime": {
     "end_time": "2023-11-02T13:18:45.998488Z",
     "start_time": "2023-11-02T13:18:32.334467Z"
    }
   },
   "outputs": [
    {
     "name": "stdout",
     "output_type": "stream",
     "text": [
      "Check Quantize: [[[12. 12. 11. ... 11. 10. 10.]\n",
      "  [12. 12. 12. ... 11. 11. 10.]\n",
      "  [12. 12. 12. ... 10. 10. 10.]\n",
      "  ...\n",
      "  [13. 13. 13. ... 13. 13. 12.]\n",
      "  [12. 12. 12. ... 12. 12. 13.]\n",
      "  [12. 12. 12. ... 12. 12. 13.]]]\n",
      "Entropia: 4.126742623824754\n"
     ]
    }
   ],
   "source": [
    "### Quantize ###\n",
    "quantize = Quantizer(1, 10)\n",
    "image_data_quantized = ImageRaw.get_image_structure_empty()\n",
    "quantize.quantize(original_image, image_data_quantized)\n",
    "quant_statics = statistics(image_data_quantized).compute_entropy()\n",
    "print(f\"Entropia: {quant_statics}\")\n"
   ]
  },
  {
   "cell_type": "code",
   "execution_count": 6,
   "metadata": {
    "ExecuteTime": {
     "end_time": "2023-11-02T13:18:47.935568Z",
     "start_time": "2023-11-02T13:18:46.008643Z"
    }
   },
   "outputs": [],
   "source": [
    "### Dequantize ###\n",
    "dequantize = Quantizer(1, 10)\n",
    "image_data_dequantized = ImageRaw.get_image_structure_empty()\n",
    "dequantize.dequantize(image_data_quantized, image_data_dequantized)"
   ]
  },
  {
   "cell_type": "code",
   "execution_count": 7,
   "metadata": {
    "ExecuteTime": {
     "end_time": "2023-11-02T13:18:50.322472Z",
     "start_time": "2023-11-02T13:18:47.942291Z"
    }
   },
   "outputs": [
    {
     "name": "stdout",
     "output_type": "stream",
     "text": [
      "Pae: 9.0\n",
      "9.0\n"
     ]
    }
   ],
   "source": [
    "### PAE ###\n",
    "pae = Metrics(original_image, image_data_dequantized)\n",
    "print(f\"Pae: {pae.calculate_pae()}\")\n",
    "print(pae.PAE_data)\n"
   ]
  },
  {
   "cell_type": "code",
   "execution_count": 8,
   "metadata": {
    "ExecuteTime": {
     "end_time": "2023-11-02T13:18:53.027742Z",
     "start_time": "2023-11-02T13:18:50.377837Z"
    }
   },
   "outputs": [
    {
     "name": "stdout",
     "output_type": "stream",
     "text": [
      "Mse: 27.425078010559083\n"
     ]
    }
   ],
   "source": [
    "### MSE ###\n",
    "mse = Metrics(original_image, image_data_dequantized)\n",
    "print(f\"Mse: {mse.calculate_mse()}\")"
   ]
  },
  {
   "cell_type": "code",
   "execution_count": 9,
   "metadata": {
    "ExecuteTime": {
     "end_time": "2023-11-02T13:18:56.912628Z",
     "start_time": "2023-11-02T13:18:53.073218Z"
    }
   },
   "outputs": [
    {
     "name": "stdout",
     "output_type": "stream",
     "text": [
      "Psnr: 33.78332059025732 dB\n"
     ]
    }
   ],
   "source": [
    "### PSNR ###\n",
    "psnr = Metrics(original_image, image_data_dequantized)\n",
    "print(f\"Psnr: {psnr.calculate_psnr()} dB\")"
   ]
  },
  {
   "cell_type": "code",
   "execution_count": 10,
   "metadata": {
    "ExecuteTime": {
     "end_time": "2023-11-02T13:18:56.912922Z",
     "start_time": "2023-11-02T13:18:56.910438Z"
    }
   },
   "outputs": [],
   "source": [
    "###BITPACKING CODING###\n",
    "# bitpacking_coding = BitPacking(\"bitpacket.txt\" ,original_image)\n",
    "# bitpacking_coding.coding()\n",
    "# original_size_in_bytes = ImageRaw.get_original_size_in_bytes()\n",
    "# CR = original_size_in_bytes / bitpacking_coding.size_of_coded_file\n",
    "# print(original_size_in_bytes)\n",
    "# print(bitpacking_coding.size_of_coded_file)"
   ]
  }
 ],
 "metadata": {
  "kernelspec": {
   "display_name": "Python 3 (ipykernel)",
   "language": "python",
   "name": "python3"
  },
  "language_info": {
   "codemirror_mode": {
    "name": "ipython",
    "version": 3
   },
   "file_extension": ".py",
   "mimetype": "text/x-python",
   "name": "python",
   "nbconvert_exporter": "python",
   "pygments_lexer": "ipython3",
   "version": "3.11.4"
  },
  "toc-autonumbering": true
 },
 "nbformat": 4,
 "nbformat_minor": 4
}
