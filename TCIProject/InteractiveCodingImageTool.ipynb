{
 "cells": [
  {
   "cell_type": "code",
   "execution_count": 1,
   "metadata": {},
   "outputs": [],
   "source": [
    "import sys\n",
    "import os\n",
    "import numpy as np\n",
    "\n",
    "from codingTools import *"
   ]
  },
  {
   "cell_type": "code",
   "execution_count": 2,
   "metadata": {},
   "outputs": [],
   "source": [
    "######LOAD RAW IMAGE######\n",
    "#dtype --> > stands for big endian, i stands for integer, 2 stands for 2 bytes\n",
    "#originalFile=\"../images/03508649.1_512_512_2_0_12_0_0_0d.raw\" #int16\n",
    "originalFile=\"../images/n1_GRAY.1_2560_2048_1_0_8_0_0_0.raw\" #uint8\n",
    "#ImageRaw = load_image_raw(originalFile, 1, 512, 512, \"int16\") #https://numpy.org/doc/stable/reference/arrays.dtypes.html\n",
    "ImageRaw = load_image_raw(originalFile, 1, 2560, 2048, \"uint8\") #https://numpy.org/doc/stable/reference/arrays.dtypes.html\n",
    "original_image = ImageRaw.load_image_raw()\n",
    "##############################"
   ]
  },
  {
   "cell_type": "code",
   "execution_count": 3,
   "metadata": {},
   "outputs": [
    {
     "name": "stdout",
     "output_type": "stream",
     "text": [
      "Max Value:  255\n",
      "Min Value:  0\n",
      "order zero entropy of the image:  7.426142695578908\n"
     ]
    }
   ],
   "source": [
    "########STATISTICS##########\n",
    "statistics = statistics(original_image)\n",
    "entropy = statistics.compute_entropy()\n",
    "print(\"order zero entropy of the image: \",entropy)"
   ]
  },
  {
   "cell_type": "code",
   "execution_count": 4,
   "metadata": {},
   "outputs": [],
   "source": [
    "######SAVE RAW IMAGE######\n",
    "decodedFile=\"../images/n1_GRAY.1_2560_2048_1_0_8_0_0_0_copy.raw\"\n",
    "ImageRawDecoded = save_image_raw(decodedFile)\n",
    "ImageRawDecoded.save_image_raw(original_image,\"uint8\")\n",
    "###########"
   ]
  },
  {
   "cell_type": "code",
   "execution_count": 5,
   "metadata": {},
   "outputs": [
    {
     "ename": "ZeroDivisionError",
     "evalue": "division by zero",
     "output_type": "error",
     "traceback": [
      "\u001b[0;31m---------------------------------------------------------------------------\u001b[0m",
      "\u001b[0;31mZeroDivisionError\u001b[0m                         Traceback (most recent call last)",
      "\u001b[1;32m/Users/lucasjimeneznunez/Desktop/UAB/4t/TCI/Projecte/TCIProject/TCIProject/InteractiveCodingImageTool.ipynb Celda 5\u001b[0m line \u001b[0;36m5\n\u001b[1;32m      <a href='vscode-notebook-cell:/Users/lucasjimeneznunez/Desktop/UAB/4t/TCI/Projecte/TCIProject/TCIProject/InteractiveCodingImageTool.ipynb#W4sZmlsZQ%3D%3D?line=2'>3</a>\u001b[0m bitpacking_coding\u001b[39m.\u001b[39mcoding()\n\u001b[1;32m      <a href='vscode-notebook-cell:/Users/lucasjimeneznunez/Desktop/UAB/4t/TCI/Projecte/TCIProject/TCIProject/InteractiveCodingImageTool.ipynb#W4sZmlsZQ%3D%3D?line=3'>4</a>\u001b[0m original_size_in_bytes \u001b[39m=\u001b[39m ImageRaw\u001b[39m.\u001b[39mget_original_size_in_bytes()\n\u001b[0;32m----> <a href='vscode-notebook-cell:/Users/lucasjimeneznunez/Desktop/UAB/4t/TCI/Projecte/TCIProject/TCIProject/InteractiveCodingImageTool.ipynb#W4sZmlsZQ%3D%3D?line=4'>5</a>\u001b[0m CR \u001b[39m=\u001b[39m original_size_in_bytes \u001b[39m/\u001b[39m bitpacking_coding\u001b[39m.\u001b[39msize_of_coded_file\n\u001b[1;32m      <a href='vscode-notebook-cell:/Users/lucasjimeneznunez/Desktop/UAB/4t/TCI/Projecte/TCIProject/TCIProject/InteractiveCodingImageTool.ipynb#W4sZmlsZQ%3D%3D?line=5'>6</a>\u001b[0m \u001b[39mprint\u001b[39m(original_size_in_bytes)\n\u001b[1;32m      <a href='vscode-notebook-cell:/Users/lucasjimeneznunez/Desktop/UAB/4t/TCI/Projecte/TCIProject/TCIProject/InteractiveCodingImageTool.ipynb#W4sZmlsZQ%3D%3D?line=6'>7</a>\u001b[0m \u001b[39mprint\u001b[39m(bitpacking_coding\u001b[39m.\u001b[39msize_of_coded_file)\n",
      "\u001b[0;31mZeroDivisionError\u001b[0m: division by zero"
     ]
    }
   ],
   "source": [
    "###BITPACKING CODING###\n",
    "bitpacking_coding = BitPacking(\"bitpacket.txt\" ,original_image)\n",
    "bitpacking_coding.coding()\n",
    "original_size_in_bytes = ImageRaw.get_original_size_in_bytes()\n",
    "CR = original_size_in_bytes / bitpacking_coding.size_of_coded_file\n",
    "print(original_size_in_bytes)\n",
    "print(bitpacking_coding.size_of_coded_file)"
   ]
  }
 ],
 "metadata": {
  "kernelspec": {
   "display_name": "Python 3 (ipykernel)",
   "language": "python",
   "name": "python3"
  },
  "language_info": {
   "codemirror_mode": {
    "name": "ipython",
    "version": 3
   },
   "file_extension": ".py",
   "mimetype": "text/x-python",
   "name": "python",
   "nbconvert_exporter": "python",
   "pygments_lexer": "ipython3",
   "version": "3.11.4"
  },
  "toc-autonumbering": true
 },
 "nbformat": 4,
 "nbformat_minor": 4
}
