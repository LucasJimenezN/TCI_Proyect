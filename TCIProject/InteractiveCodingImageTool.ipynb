{
 "cells": [
  {
   "cell_type": "code",
   "execution_count": 1,
   "metadata": {
    "ExecuteTime": {
     "end_time": "2023-11-24T10:26:19.609335Z",
     "start_time": "2023-11-24T10:26:19.532694Z"
    }
   },
   "outputs": [],
   "source": [
    "import sys\n",
    "import os\n",
    "import numpy as np\n",
    "\n",
    "from codingTools import *\n"
   ]
  },
  {
   "cell_type": "code",
   "execution_count": 2,
   "metadata": {
    "ExecuteTime": {
     "end_time": "2023-11-24T10:26:19.609560Z",
     "start_time": "2023-11-24T10:26:19.601364Z"
    }
   },
   "outputs": [],
   "source": [
    "######LOAD RAW IMAGE######\n",
    "#dtype --> > stands for big endian, i stands for integer, 2 stands for 2 bytes\n",
    "#originalFile=\"../images/03508649.1_512_512_2_0_12_0_0_0d.raw\" #int16\n",
    "originalFile=\"../images/03508649.1_128_128_1_0_8_0_0_0.raw\"\n",
    "#originalFile=\"../images/n1_GRAY.1_2560_2048_1_0_8_0_0_0.raw\" #uint8\n",
    "#ImageRaw = load_image_raw(originalFile, 1, 512, 512, \"int16\") #https://numpy.org/doc/stable/reference/arrays.dtypes.html\n",
    "ImageRaw = load_image_raw(originalFile, 1, 128, 128, \"uint8\")\n",
    "#ImageRaw = load_image_raw(originalFile, 1, 2560, 2048, \"uint8\") #https://numpy.org/doc/stable/reference/arrays.dtypes.html\n",
    "original_image = ImageRaw.load_image_raw()\n",
    "##############################"
   ]
  },
  {
   "cell_type": "code",
   "execution_count": 3,
   "metadata": {
    "ExecuteTime": {
     "end_time": "2023-11-24T10:26:19.625761Z",
     "start_time": "2023-11-24T10:26:19.605268Z"
    }
   },
   "outputs": [
    {
     "name": "stdout",
     "output_type": "stream",
     "text": [
      "order zero entropy of the image:  6.7004541529645625\n"
     ]
    }
   ],
   "source": [
    "########STATISTICS##########\n",
    "statistics_data = statistics(original_image)\n",
    "entropy = statistics_data.compute_entropy()\n",
    "print(\"order zero entropy of the image: \",entropy)"
   ]
  },
  {
   "cell_type": "code",
   "execution_count": 4,
   "outputs": [
    {
     "name": "stdout",
     "output_type": "stream",
     "text": [
      "[[[16 21 25 ... 25 22 19]\n",
      "  [19 25 29 ... 29 25 22]\n",
      "  [22 28 34 ... 34 29 25]\n",
      "  ...\n",
      "  [22 28 33 ... 34 30 26]\n",
      "  [19 24 29 ... 30 25 23]\n",
      "  [16 21 25 ... 25 22 19]]]\n"
     ]
    }
   ],
   "source": [
    "print(original_image)"
   ],
   "metadata": {
    "collapsed": false,
    "ExecuteTime": {
     "end_time": "2023-11-24T10:26:19.633821Z",
     "start_time": "2023-11-24T10:26:19.626509Z"
    }
   }
  },
  {
   "cell_type": "code",
   "execution_count": 5,
   "metadata": {
    "ExecuteTime": {
     "end_time": "2023-11-24T10:26:19.670637Z",
     "start_time": "2023-11-24T10:26:19.638302Z"
    }
   },
   "outputs": [],
   "source": [
    "######SAVE RAW IMAGE######\n",
    "# decodedFile=\"../images/n1_GRAY.1_2560_2048_1_0_8_0_0_0_copy.raw\"\n",
    "# ImageRawDecoded = save_image_raw(decodedFile)\n",
    "# ImageRawDecoded.save_image_raw(original_image,\"uint8\")\n",
    "###########"
   ]
  },
  {
   "cell_type": "code",
   "execution_count": 6,
   "metadata": {
    "ExecuteTime": {
     "end_time": "2023-11-24T10:26:19.723151Z",
     "start_time": "2023-11-24T10:26:19.641503Z"
    }
   },
   "outputs": [
    {
     "name": "stdout",
     "output_type": "stream",
     "text": [
      "Check Quantize: [[[1. 2. 2. ... 2. 2. 1.]\n",
      "  [1. 2. 2. ... 2. 2. 2.]\n",
      "  [2. 2. 3. ... 3. 2. 2.]\n",
      "  ...\n",
      "  [2. 2. 3. ... 3. 3. 2.]\n",
      "  [1. 2. 2. ... 3. 2. 2.]\n",
      "  [1. 2. 2. ... 2. 2. 1.]]]\n",
      "Entropia: 3.4368520266679963\n"
     ]
    }
   ],
   "source": [
    "### Quantize ###\n",
    "quantize = Quantizer(1, 10)\n",
    "image_data_quantized = ImageRaw.get_image_structure_empty()\n",
    "quantize.quantize(original_image, image_data_quantized)\n",
    "quant_statics = statistics(image_data_quantized).compute_entropy()\n",
    "print(f\"Entropia: {quant_statics}\")\n"
   ]
  },
  {
   "cell_type": "code",
   "execution_count": 7,
   "metadata": {
    "ExecuteTime": {
     "end_time": "2023-11-24T10:26:19.734724Z",
     "start_time": "2023-11-24T10:26:19.719427Z"
    }
   },
   "outputs": [],
   "source": [
    "### Dequantize ###\n",
    "dequantize = Quantizer(1, 10)\n",
    "image_data_dequantized = ImageRaw.get_image_structure_empty()\n",
    "dequantize.dequantize(image_data_quantized, image_data_dequantized)"
   ]
  },
  {
   "cell_type": "code",
   "execution_count": 8,
   "metadata": {
    "ExecuteTime": {
     "end_time": "2023-11-24T10:26:19.760023Z",
     "start_time": "2023-11-24T10:26:19.753062Z"
    }
   },
   "outputs": [
    {
     "name": "stdout",
     "output_type": "stream",
     "text": [
      "Pae: 9.0\n",
      "9.0\n"
     ]
    }
   ],
   "source": [
    "### PAE ###\n",
    "pae = Metrics(original_image, image_data_dequantized)\n",
    "print(f\"Pae: {pae.calculate_pae()}\")\n",
    "print(pae.PAE_data)\n"
   ]
  },
  {
   "cell_type": "code",
   "execution_count": 9,
   "metadata": {
    "ExecuteTime": {
     "end_time": "2023-11-24T10:26:19.813657Z",
     "start_time": "2023-11-24T10:26:19.769184Z"
    }
   },
   "outputs": [
    {
     "name": "stdout",
     "output_type": "stream",
     "text": [
      "Mse: 28.00189208984375\n"
     ]
    }
   ],
   "source": [
    "### MSE ###\n",
    "mse = Metrics(original_image, image_data_dequantized)\n",
    "print(f\"Mse: {mse.calculate_mse()}\")"
   ]
  },
  {
   "cell_type": "code",
   "execution_count": 10,
   "metadata": {
    "ExecuteTime": {
     "end_time": "2023-11-24T10:26:19.819111Z",
     "start_time": "2023-11-24T10:26:19.805099Z"
    }
   },
   "outputs": [
    {
     "name": "stdout",
     "output_type": "stream",
     "text": [
      "Psnr: 33.69292552980915 dB\n"
     ]
    }
   ],
   "source": [
    "### PSNR ###\n",
    "psnr = Metrics(original_image, image_data_dequantized)\n",
    "print(f\"Psnr: {psnr.calculate_psnr()} dB\")"
   ]
  },
  {
   "cell_type": "code",
   "execution_count": 11,
   "outputs": [
    {
     "name": "stdout",
     "output_type": "stream",
     "text": [
      "Array modificado: [ 1  3  7  9 -1 -1  2  2]\n"
     ]
    }
   ],
   "source": [
    "### S-transform forward ###\n",
    "array = [1,2,3,4,8,6,10,8]\n",
    "transform = Wavelet(array, 1)\n",
    "array_transform = transform.s_tranform_forward(array)\n",
    "print(f\"Array modificado: {array_transform}\")\n",
    "    "
   ],
   "metadata": {
    "collapsed": false,
    "ExecuteTime": {
     "end_time": "2023-11-24T10:26:19.819454Z",
     "start_time": "2023-11-24T10:26:19.814173Z"
    }
   }
  },
  {
   "cell_type": "code",
   "execution_count": 12,
   "outputs": [
    {
     "name": "stdout",
     "output_type": "stream",
     "text": [
      "Array invertido: [ 1  2  3  4  8  6 10  8]\n"
     ]
    }
   ],
   "source": [
    "### S-transform Inverse ###\n",
    "array_inv = transform.s_transform_inverse(array_transform)\n",
    "print(f\"Array invertido: {array_inv}\")\n"
   ],
   "metadata": {
    "collapsed": false,
    "ExecuteTime": {
     "end_time": "2023-11-24T10:26:19.824652Z",
     "start_time": "2023-11-24T10:26:19.818621Z"
    }
   }
  },
  {
   "cell_type": "code",
   "execution_count": 18,
   "outputs": [
    {
     "name": "stdout",
     "output_type": "stream",
     "text": [
      "[[ 44  51  97 ...   3   3   3]\n",
      " [ 53 118 216 ...   4   5   4]\n",
      " [ 76 190 176 ...   5   5   6]\n",
      " ...\n",
      " [  4   4   5 ...   1   1   0]\n",
      " [  3   4   5 ...  -1   1   0]\n",
      " [  3   4   5 ...   1   1  -1]]\n"
     ]
    }
   ],
   "source": [
    "### S-transform Forward image ###\n",
    "transform_image = Wavelet(original_image, 3)\n",
    "#print(len(original_image[0][0]))\n",
    "transform_forward = transform_image.handle_transform_forward()\n",
    "print(transform_forward)\n"
   ],
   "metadata": {
    "collapsed": false,
    "ExecuteTime": {
     "end_time": "2023-11-24T10:27:42.516655Z",
     "start_time": "2023-11-24T10:27:42.504538Z"
    }
   }
  },
  {
   "cell_type": "code",
   "execution_count": 19,
   "outputs": [],
   "source": [
    "### S-transform Reverse image ###\n",
    "transform_image_reverse = Wavelet(transform_forward, 3)\n",
    "transform_reverse = transform_image_reverse.handle_transform_inverse()\n",
    "\n"
   ],
   "metadata": {
    "collapsed": false,
    "ExecuteTime": {
     "end_time": "2023-11-24T10:27:42.928341Z",
     "start_time": "2023-11-24T10:27:42.896077Z"
    }
   }
  },
  {
   "cell_type": "code",
   "execution_count": 20,
   "outputs": [
    {
     "name": "stdout",
     "output_type": "stream",
     "text": [
      "[[[16 21 25 ... 25 22 19]\n",
      "  [19 25 29 ... 29 25 22]\n",
      "  [22 28 34 ... 34 29 25]\n",
      "  ...\n",
      "  [22 28 33 ... 34 30 26]\n",
      "  [19 24 29 ... 30 25 23]\n",
      "  [16 21 25 ... 25 22 19]]]\n"
     ]
    }
   ],
   "source": [
    "print(transform_reverse)"
   ],
   "metadata": {
    "collapsed": false,
    "ExecuteTime": {
     "end_time": "2023-11-24T10:27:43.473922Z",
     "start_time": "2023-11-24T10:27:43.470556Z"
    }
   }
  },
  {
   "cell_type": "code",
   "execution_count": 21,
   "outputs": [
    {
     "name": "stdout",
     "output_type": "stream",
     "text": [
      "[[[16 21 25 ... 25 22 19]\n",
      "  [19 25 29 ... 29 25 22]\n",
      "  [22 28 34 ... 34 29 25]\n",
      "  ...\n",
      "  [22 28 33 ... 34 30 26]\n",
      "  [19 24 29 ... 30 25 23]\n",
      "  [16 21 25 ... 25 22 19]]]\n"
     ]
    }
   ],
   "source": [
    "print(original_image)\n",
    " "
   ],
   "metadata": {
    "collapsed": false,
    "ExecuteTime": {
     "end_time": "2023-11-24T10:27:43.950880Z",
     "start_time": "2023-11-24T10:27:43.947409Z"
    }
   }
  },
  {
   "cell_type": "markdown",
   "source": [
    "### Classe 17/09\n",
    "Predicció:\n",
    "X = 1,2,3,4,8,6,10,8\n",
    "Causal\n",
    "Pi = {0 si i=0, X(i-1) si i>0}\n",
    "X'i = Xi - Pi\n",
    "P = 0,1,2,3,4,8,6,10 (Predicció)\n",
    "X' = 1,1,1,1,4,-2,4,-2\n",
    "#\n",
    "###### TODO\n",
    "Predict sobre una matriu. -> ha de ser invertible -> img de 512 512\n",
    "Calcular entropia del resultat X' -> H(x') <= H(x)"
   ],
   "metadata": {
    "collapsed": false
   }
  },
  {
   "cell_type": "code",
   "execution_count": 17,
   "outputs": [
    {
     "name": "stdout",
     "output_type": "stream",
     "text": [
      "[[91  3 52 31]\n",
      " [63 61 13 33]\n",
      " [ 3 60 23  5]\n",
      " [77 36 81 11]]\n",
      "[[91  3 52]\n",
      " [63 61 13]\n",
      " [ 3 60 23]]\n"
     ]
    }
   ],
   "source": [
    "matriz = np.random.randint(0, 100, size=(4, 4))\n",
    "\n",
    "matriz_2_x_2 = np.copy(matriz[:3, :3])\n",
    "\n",
    "print(matriz)\n",
    "print(matriz_2_x_2)"
   ],
   "metadata": {
    "collapsed": false,
    "ExecuteTime": {
     "end_time": "2023-11-24T10:26:19.881395Z",
     "start_time": "2023-11-24T10:26:19.863027Z"
    }
   }
  },
  {
   "cell_type": "code",
   "execution_count": 17,
   "outputs": [],
   "source": [],
   "metadata": {
    "collapsed": false,
    "ExecuteTime": {
     "end_time": "2023-11-24T10:26:19.881536Z",
     "start_time": "2023-11-24T10:26:19.865436Z"
    }
   }
  }
 ],
 "metadata": {
  "kernelspec": {
   "display_name": "Python 3 (ipykernel)",
   "language": "python",
   "name": "python3"
  },
  "language_info": {
   "codemirror_mode": {
    "name": "ipython",
    "version": 3
   },
   "file_extension": ".py",
   "mimetype": "text/x-python",
   "name": "python",
   "nbconvert_exporter": "python",
   "pygments_lexer": "ipython3",
   "version": "3.11.4"
  },
  "toc-autonumbering": true
 },
 "nbformat": 4,
 "nbformat_minor": 4
}
