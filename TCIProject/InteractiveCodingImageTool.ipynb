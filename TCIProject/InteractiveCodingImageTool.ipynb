{
 "cells": [
  {
   "cell_type": "code",
   "execution_count": 24,
   "metadata": {
    "ExecuteTime": {
     "end_time": "2023-12-15T09:45:33.249964Z",
     "start_time": "2023-12-15T09:45:33.209923Z"
    }
   },
   "outputs": [],
   "source": [
    "import sys\n",
    "import os\n",
    "import numpy as np\n",
    "\n",
    "from codingTools import *\n"
   ]
  },
  {
   "cell_type": "code",
   "execution_count": 25,
   "metadata": {
    "ExecuteTime": {
     "end_time": "2023-12-15T09:45:33.250246Z",
     "start_time": "2023-12-15T09:45:33.213557Z"
    }
   },
   "outputs": [],
   "source": [
    "######LOAD RAW IMAGE######\n",
    "#dtype --> > stands for big endian, i stands for integer, 2 stands for 2 bytes\n",
    "originalFile=\"../images/03508649.1_512_512_2_0_12_0_0_0d.raw\" #int16\n",
    "#originalFile=\"../images/03508649.1_128_128_1_0_8_0_0_0.raw\"\n",
    "#originalFile=\"../images/n1_GRAY.1_2560_2048_1_0_8_0_0_0.raw\" #uint8\n",
    "ImageRaw = load_image_raw(originalFile, 1, 512, 512, \">i2\") #https://numpy.org/doc/stable/reference/arrays.dtypes.html\n",
    "#ImageRaw = load_image_raw(originalFile, 1, 128, 128, \"uint8\")\n",
    "#ImageRaw = load_image_raw(originalFile, 1, 2560, 2048, \"uint8\") #https://numpy.org/doc/stable/reference/arrays.dtypes.html\n",
    "original_image = ImageRaw.load_image_raw()\n",
    "##############################"
   ]
  },
  {
   "cell_type": "code",
   "execution_count": 26,
   "metadata": {
    "ExecuteTime": {
     "end_time": "2023-12-15T09:45:33.367917Z",
     "start_time": "2023-12-15T09:45:33.306873Z"
    }
   },
   "outputs": [
    {
     "name": "stdout",
     "output_type": "stream",
     "text": [
      "order zero entropy of the image:  10.431490855522489\n"
     ]
    }
   ],
   "source": [
    "########STATISTICS##########\n",
    "statistics_data = statistics(original_image)\n",
    "entropy = statistics_data.compute_entropy()\n",
    "print(\"order zero entropy of the image: \",entropy)"
   ]
  },
  {
   "cell_type": "code",
   "execution_count": 27,
   "metadata": {
    "ExecuteTime": {
     "end_time": "2023-12-15T09:45:33.369059Z",
     "start_time": "2023-12-15T09:45:33.365216Z"
    }
   },
   "outputs": [
    {
     "name": "stdout",
     "output_type": "stream",
     "text": [
      "[[[356 359 386 ... 415 398 389]\n",
      "  [351 362 363 ... 417 405 398]\n",
      "  [355 363 394 ... 419 398 414]\n",
      "  ...\n",
      "  [361 375 414 ... 436 417 414]\n",
      "  [331 341 374 ... 442 380 406]\n",
      "  [332 344 354 ... 406 398 368]]]\n"
     ]
    }
   ],
   "source": [
    "print(original_image)"
   ]
  },
  {
   "cell_type": "code",
   "execution_count": 28,
   "metadata": {
    "ExecuteTime": {
     "end_time": "2023-12-15T09:45:33.374495Z",
     "start_time": "2023-12-15T09:45:33.370087Z"
    }
   },
   "outputs": [],
   "source": [
    "######SAVE RAW IMAGE######\n",
    "# decodedFile=\"../images/n1_GRAY.1_2560_2048_1_0_8_0_0_0_copy.raw\"\n",
    "# ImageRawDecoded = save_image_raw(decodedFile)\n",
    "# ImageRawDecoded.save_image_raw(original_image,\"uint8\")\n",
    "###########"
   ]
  },
  {
   "cell_type": "code",
   "execution_count": 29,
   "metadata": {
    "ExecuteTime": {
     "end_time": "2023-12-15T09:45:34.130422Z",
     "start_time": "2023-12-15T09:45:33.425782Z"
    }
   },
   "outputs": [
    {
     "name": "stdout",
     "output_type": "stream",
     "text": [
      "Entropia: 7.1184477268956465\n"
     ]
    }
   ],
   "source": [
    "### Quantize ###\n",
    "quantize = Quantizer(1, 10)\n",
    "image_data_quantized = ImageRaw.get_image_structure_empty()\n",
    "quantize.quantize(original_image, image_data_quantized)\n",
    "quant_statics = statistics(image_data_quantized).compute_entropy()\n",
    "print(f\"Entropia: {quant_statics}\")\n"
   ]
  },
  {
   "cell_type": "code",
   "execution_count": 30,
   "metadata": {
    "ExecuteTime": {
     "end_time": "2023-12-15T09:45:34.220580Z",
     "start_time": "2023-12-15T09:45:34.127940Z"
    }
   },
   "outputs": [],
   "source": [
    "### Dequantize ###\n",
    "dequantize = Quantizer(1, 10)\n",
    "image_data_dequantized = ImageRaw.get_image_structure_empty()\n",
    "dequantize.dequantize(image_data_quantized, image_data_dequantized)"
   ]
  },
  {
   "cell_type": "code",
   "execution_count": 31,
   "metadata": {
    "ExecuteTime": {
     "end_time": "2023-12-15T09:45:34.351209Z",
     "start_time": "2023-12-15T09:45:34.233058Z"
    }
   },
   "outputs": [
    {
     "name": "stdout",
     "output_type": "stream",
     "text": [
      "Pae: 9.0\n",
      "9.0\n"
     ]
    }
   ],
   "source": [
    "### PAE ###\n",
    "pae = Metrics(original_image, image_data_dequantized)\n",
    "print(f\"Pae: {pae.calculate_pae()}\")\n",
    "print(pae.PAE_data)\n"
   ]
  },
  {
   "cell_type": "code",
   "execution_count": 32,
   "metadata": {
    "ExecuteTime": {
     "end_time": "2023-12-15T09:45:34.495289Z",
     "start_time": "2023-12-15T09:45:34.409630Z"
    }
   },
   "outputs": [
    {
     "name": "stdout",
     "output_type": "stream",
     "text": [
      "Mse: 28.504417419433594\n"
     ]
    }
   ],
   "source": [
    "### MSE ###\n",
    "mse = Metrics(original_image, image_data_dequantized)\n",
    "print(f\"Mse: {mse.calculate_mse()}\")"
   ]
  },
  {
   "cell_type": "code",
   "execution_count": 33,
   "metadata": {
    "ExecuteTime": {
     "end_time": "2023-12-15T09:45:34.698119Z",
     "start_time": "2023-12-15T09:45:34.542787Z"
    }
   },
   "outputs": [
    {
     "name": "stdout",
     "output_type": "stream",
     "text": [
      "Psnr: 57.6980772672628 dB\n"
     ]
    }
   ],
   "source": [
    "### PSNR ###\n",
    "psnr = Metrics(original_image, image_data_dequantized)\n",
    "print(f\"Psnr: {psnr.calculate_psnr()} dB\")"
   ]
  },
  {
   "cell_type": "code",
   "execution_count": 34,
   "metadata": {
    "ExecuteTime": {
     "end_time": "2023-12-15T09:45:34.699530Z",
     "start_time": "2023-12-15T09:45:34.696354Z"
    }
   },
   "outputs": [
    {
     "name": "stdout",
     "output_type": "stream",
     "text": [
      "Array modificado: [ 1  3  7  9 -1 -1  2  2]\n"
     ]
    }
   ],
   "source": [
    "### S-transform forward ###\n",
    "array = [1,2,3,4,8,6,10,8]\n",
    "transform = Wavelet(array, 1)\n",
    "array_transform = transform.s_tranform_forward(array)\n",
    "print(f\"Array modificado: {array_transform}\")\n",
    "    "
   ]
  },
  {
   "cell_type": "code",
   "execution_count": 35,
   "metadata": {
    "ExecuteTime": {
     "end_time": "2023-12-15T09:45:34.704818Z",
     "start_time": "2023-12-15T09:45:34.699984Z"
    }
   },
   "outputs": [
    {
     "name": "stdout",
     "output_type": "stream",
     "text": [
      "Array invertido: [ 1  2  3  4  8  6 10  8]\n"
     ]
    }
   ],
   "source": [
    "### S-transform Inverse ###\n",
    "array_inv = transform.s_transform_inverse(array_transform)\n",
    "print(f\"Array invertido: {array_inv}\")\n"
   ]
  },
  {
   "cell_type": "code",
   "execution_count": 36,
   "metadata": {
    "ExecuteTime": {
     "end_time": "2023-12-15T09:45:34.910217Z",
     "start_time": "2023-12-15T09:45:34.702728Z"
    }
   },
   "outputs": [
    {
     "name": "stdout",
     "output_type": "stream",
     "text": [
      "[[436 525 615 ...  51   9  -2]\n",
      " [553 666 783 ...  -6   5  11]\n",
      " [641 783 920 ...  22  -8 -14]\n",
      " ...\n",
      " [ 11  25  -1 ...  -1 -53  31]\n",
      " [ 18  15  11 ...  69 -17  -8]\n",
      " [  8   2 -12 ...  14  25 -56]]\n"
     ]
    }
   ],
   "source": [
    "### S-transform Forward image ###\n",
    "transform_image = Wavelet(original_image, 3)\n",
    "#print(len(original_image[0][0]))\n",
    "transform_forward = transform_image.handle_transform_forward()\n",
    "print(transform_forward)\n"
   ]
  },
  {
   "cell_type": "code",
   "execution_count": 37,
   "metadata": {
    "ExecuteTime": {
     "end_time": "2023-12-15T09:45:35.111329Z",
     "start_time": "2023-12-15T09:45:34.911943Z"
    }
   },
   "outputs": [],
   "source": [
    "### S-transform Reverse image ###\n",
    "transform_image_reverse = Wavelet(transform_forward, 3)\n",
    "transform_reverse = transform_image_reverse.handle_transform_inverse()"
   ]
  },
  {
   "cell_type": "code",
   "execution_count": 38,
   "metadata": {
    "ExecuteTime": {
     "end_time": "2023-12-15T09:45:35.115843Z",
     "start_time": "2023-12-15T09:45:35.111756Z"
    }
   },
   "outputs": [
    {
     "name": "stdout",
     "output_type": "stream",
     "text": [
      "[[[356 359 386 ... 415 398 389]\n",
      "  [351 362 363 ... 417 405 398]\n",
      "  [355 363 394 ... 419 398 414]\n",
      "  ...\n",
      "  [361 375 414 ... 436 417 414]\n",
      "  [331 341 374 ... 442 380 406]\n",
      "  [332 344 354 ... 406 398 368]]]\n"
     ]
    }
   ],
   "source": [
    "print(transform_reverse)"
   ]
  },
  {
   "cell_type": "code",
   "execution_count": 39,
   "metadata": {
    "ExecuteTime": {
     "end_time": "2023-12-15T09:45:35.120211Z",
     "start_time": "2023-12-15T09:45:35.115272Z"
    }
   },
   "outputs": [
    {
     "name": "stdout",
     "output_type": "stream",
     "text": [
      "[[[356 359 386 ... 415 398 389]\n",
      "  [351 362 363 ... 417 405 398]\n",
      "  [355 363 394 ... 419 398 414]\n",
      "  ...\n",
      "  [361 375 414 ... 436 417 414]\n",
      "  [331 341 374 ... 442 380 406]\n",
      "  [332 344 354 ... 406 398 368]]]\n"
     ]
    }
   ],
   "source": [
    "print(original_image)\n",
    " "
   ]
  },
  {
   "cell_type": "markdown",
   "metadata": {},
   "source": [
    "### Classe 17/09\n",
    "Predicció:\n",
    "X = 1,2,3,4,8,6,10,8\n",
    "Causal\n",
    "Pi = {0 si i=0, X(i-1) si i>0}\n",
    "X'i = Xi - Pi\n",
    "P = 0,1,2,3,4,8,6,10 (Predicció)\n",
    "X' = 1,1,1,1,4,-2,4,-2\n"
   ]
  },
  {
   "cell_type": "code",
   "execution_count": 40,
   "metadata": {
    "ExecuteTime": {
     "end_time": "2023-12-15T09:45:35.925903Z",
     "start_time": "2023-12-15T09:45:35.130457Z"
    }
   },
   "outputs": [
    {
     "name": "stdout",
     "output_type": "stream",
     "text": [
      "Original entropy  10.431490855522489\n",
      "Pred entropy:  7.017758012788629\n"
     ]
    }
   ],
   "source": [
    "pred = Prediction(original_image)\n",
    "mat_pred = pred.predict_image()\n",
    "statistics_data_pred = statistics(mat_pred)\n",
    "entropy_pred = statistics_data_pred.compute_entropy()\n",
    "print(\"Original entropy \",entropy)\n",
    "print(\"Pred entropy: \", entropy_pred)"
   ]
  },
  {
   "cell_type": "code",
   "execution_count": 41,
   "outputs": [
    {
     "name": "stdout",
     "output_type": "stream",
     "text": [
      "\n",
      "La imagen devuelta es:\n",
      "[[[356 359 386 ... 415 398 389]\n",
      "  [351 362 363 ... 417 405 398]\n",
      "  [355 363 394 ... 419 398 414]\n",
      "  ...\n",
      "  [361 375 414 ... 436 417 414]\n",
      "  [331 341 374 ... 442 380 406]\n",
      "  [332 344 354 ... 406 398 368]]]\n",
      "\n",
      "La imagen original es:\n",
      "[[[356 359 386 ... 415 398 389]\n",
      "  [351 362 363 ... 417 405 398]\n",
      "  [355 363 394 ... 419 398 414]\n",
      "  ...\n",
      "  [361 375 414 ... 436 417 414]\n",
      "  [331 341 374 ... 442 380 406]\n",
      "  [332 344 354 ... 406 398 368]]]\n"
     ]
    }
   ],
   "source": [
    "#invert = Prediction(mat_pred)\n",
    "image_rebuilt = invert_image(mat_pred)\n",
    "print(f\"\\nLa imagen devuelta es:\\n{image_rebuilt}\")\n",
    "print(f\"\\nLa imagen original es:\\n{original_image}\")"
   ],
   "metadata": {
    "collapsed": false,
    "ExecuteTime": {
     "end_time": "2023-12-15T09:45:36.589310Z",
     "start_time": "2023-12-15T09:45:35.924416Z"
    }
   }
  },
  {
   "cell_type": "code",
   "execution_count": 42,
   "outputs": [
    {
     "name": "stdout",
     "output_type": "stream",
     "text": [
      "Pae: 0\n",
      "0\n"
     ]
    }
   ],
   "source": [
    "### PAE ###\n",
    "pae = Metrics(original_image, image_rebuilt)\n",
    "print(f\"Pae: {pae.calculate_pae()}\")\n",
    "print(pae.PAE_data)"
   ],
   "metadata": {
    "collapsed": false,
    "ExecuteTime": {
     "end_time": "2023-12-15T09:45:36.703482Z",
     "start_time": "2023-12-15T09:45:36.653822Z"
    }
   }
  },
  {
   "cell_type": "markdown",
   "source": [
    "# Clase 1/12\n",
    "X -> Predicto -> Q -> Q-1 -> Pred-1 -> X^-> PAE(X,X^)"
   ],
   "metadata": {
    "collapsed": false
   }
  },
  {
   "cell_type": "code",
   "execution_count": 43,
   "outputs": [],
   "source": [
    "pred = Prediction(original_image)\n",
    "pred_x = pred.predict_image()\n",
    "quantize = Quantizer(1, 10)\n",
    "image_data_quantized = ImageRaw.get_image_structure_empty()\n",
    "quantize.quantize(pred_x, image_data_quantized)\n"
   ],
   "metadata": {
    "collapsed": false,
    "ExecuteTime": {
     "end_time": "2023-12-15T09:45:37.913151Z",
     "start_time": "2023-12-15T09:45:36.751932Z"
    }
   }
  },
  {
   "cell_type": "code",
   "execution_count": 44,
   "outputs": [],
   "source": [
    "dequantize = Quantizer(1, 10)\n",
    "image_data_dequantized = ImageRaw.get_image_structure_empty()\n",
    "dequantize.dequantize(image_data_quantized, image_data_dequantized)"
   ],
   "metadata": {
    "collapsed": false,
    "ExecuteTime": {
     "end_time": "2023-12-15T09:45:38.005441Z",
     "start_time": "2023-12-15T09:45:37.970068Z"
    }
   }
  },
  {
   "cell_type": "code",
   "execution_count": 45,
   "outputs": [],
   "source": [
    "inv_pred = invert_image(image_data_dequantized)\n"
   ],
   "metadata": {
    "collapsed": false,
    "ExecuteTime": {
     "end_time": "2023-12-15T09:45:38.162110Z",
     "start_time": "2023-12-15T09:45:38.005987Z"
    }
   }
  },
  {
   "cell_type": "code",
   "execution_count": 46,
   "outputs": [
    {
     "name": "stdout",
     "output_type": "stream",
     "text": [
      "Pae: 3323.0\n",
      "3323.0\n"
     ]
    }
   ],
   "source": [
    "### PAE ###\n",
    "pae = Metrics(inv_pred, pred_x)\n",
    "print(f\"Pae: {pae.calculate_pae()}\")\n",
    "print(pae.PAE_data)\n"
   ],
   "metadata": {
    "collapsed": false,
    "ExecuteTime": {
     "end_time": "2023-12-15T09:45:38.286060Z",
     "start_time": "2023-12-15T09:45:38.180799Z"
    }
   }
  },
  {
   "cell_type": "code",
   "execution_count": 46,
   "outputs": [],
   "source": [],
   "metadata": {
    "collapsed": false,
    "ExecuteTime": {
     "end_time": "2023-12-15T09:45:38.286415Z",
     "start_time": "2023-12-15T09:45:38.284133Z"
    }
   }
  }
 ],
 "metadata": {
  "kernelspec": {
   "display_name": "Python 3 (ipykernel)",
   "language": "python",
   "name": "python3"
  },
  "language_info": {
   "codemirror_mode": {
    "name": "ipython",
    "version": 3
   },
   "file_extension": ".py",
   "mimetype": "text/x-python",
   "name": "python",
   "nbconvert_exporter": "python",
   "pygments_lexer": "ipython3",
   "version": "3.11.5"
  },
  "toc-autonumbering": true
 },
 "nbformat": 4,
 "nbformat_minor": 4
}
