{
 "cells": [
  {
   "cell_type": "code",
   "execution_count": 1,
   "metadata": {},
   "outputs": [],
   "source": [
    "import sys\n",
    "import os\n",
    "import numpy as np\n",
    "\n",
    "from codingTools import *"
   ]
  },
  {
   "cell_type": "code",
   "execution_count": 2,
   "metadata": {},
   "outputs": [],
   "source": [
    "######LOAD RAW IMAGE######\n",
    "#dtype --> > stands for big endian, i stands for integer, 2 stands for 2 bytes\n",
    "#originalFile=\"../images/03508649.1_512_512_2_0_12_0_0_0d.raw\" #int16\n",
    "originalFile=\"../images/n1_GRAY.1_2560_2048_1_0_8_0_0_0.raw\" #uint8\n",
    "#ImageRaw = load_image_raw(originalFile, 1, 512, 512, \"int16\") #https://numpy.org/doc/stable/reference/arrays.dtypes.html\n",
    "ImageRaw = load_image_raw(originalFile, 1, 2560, 2048, \"uint8\") #https://numpy.org/doc/stable/reference/arrays.dtypes.html\n",
    "original_image = ImageRaw.load_image_raw()\n",
    "##############################"
   ]
  },
  {
   "cell_type": "code",
   "execution_count": 3,
   "metadata": {},
   "outputs": [
    {
     "name": "stdout",
     "output_type": "stream",
     "text": [
      "Max Value:  255\n",
      "Min Value:  0\n",
      "order zero entropy of the image:  7.426142695578908\n"
     ]
    }
   ],
   "source": [
    "########STATISTICS##########\n",
    "statistics = statistics(original_image)\n",
    "entropy = statistics.compute_entropy()\n",
    "print(\"order zero entropy of the image: \",entropy)"
   ]
  },
  {
   "cell_type": "code",
   "execution_count": 4,
   "metadata": {},
   "outputs": [],
   "source": [
    "######SAVE RAW IMAGE######\n",
    "decodedFile=\"../images/n1_GRAY.1_2560_2048_1_0_8_0_0_0_copy.raw\"\n",
    "ImageRawDecoded = save_image_raw(decodedFile)\n",
    "ImageRawDecoded.save_image_raw(original_image,\"uint8\")\n",
    "###########"
   ]
  },
  {
   "cell_type": "code",
   "execution_count": 5,
   "metadata": {},
   "outputs": [
    {
     "ename": "AttributeError",
     "evalue": "'numpy.int64' object has no attribute 'to_bytes'",
     "output_type": "error",
     "traceback": [
      "\u001b[0;31m---------------------------------------------------------------------------\u001b[0m",
      "\u001b[0;31mAttributeError\u001b[0m                            Traceback (most recent call last)",
      "\u001b[1;32m/Users/lucasjimeneznunez/Desktop/UAB/4t/TCI/Projecte/TCIProject/TCIProject/InteractiveCodingImageTool.ipynb Celda 5\u001b[0m line \u001b[0;36m3\n\u001b[1;32m      <a href='vscode-notebook-cell:/Users/lucasjimeneznunez/Desktop/UAB/4t/TCI/Projecte/TCIProject/TCIProject/InteractiveCodingImageTool.ipynb#W4sZmlsZQ%3D%3D?line=0'>1</a>\u001b[0m \u001b[39m###BITPACKING CODING###\u001b[39;00m\n\u001b[1;32m      <a href='vscode-notebook-cell:/Users/lucasjimeneznunez/Desktop/UAB/4t/TCI/Projecte/TCIProject/TCIProject/InteractiveCodingImageTool.ipynb#W4sZmlsZQ%3D%3D?line=1'>2</a>\u001b[0m bitpacking_coding \u001b[39m=\u001b[39m BitPacking(\u001b[39m\"\u001b[39m\u001b[39mbitpacket.txt\u001b[39m\u001b[39m\"\u001b[39m ,original_image)\n\u001b[0;32m----> <a href='vscode-notebook-cell:/Users/lucasjimeneznunez/Desktop/UAB/4t/TCI/Projecte/TCIProject/TCIProject/InteractiveCodingImageTool.ipynb#W4sZmlsZQ%3D%3D?line=2'>3</a>\u001b[0m bitpacking_coding\u001b[39m.\u001b[39mcoding()\n\u001b[1;32m      <a href='vscode-notebook-cell:/Users/lucasjimeneznunez/Desktop/UAB/4t/TCI/Projecte/TCIProject/TCIProject/InteractiveCodingImageTool.ipynb#W4sZmlsZQ%3D%3D?line=3'>4</a>\u001b[0m original_size_in_bytes \u001b[39m=\u001b[39m ImageRaw\u001b[39m.\u001b[39mget_original_size_in_bytes()\n\u001b[1;32m      <a href='vscode-notebook-cell:/Users/lucasjimeneznunez/Desktop/UAB/4t/TCI/Projecte/TCIProject/TCIProject/InteractiveCodingImageTool.ipynb#W4sZmlsZQ%3D%3D?line=4'>5</a>\u001b[0m CR \u001b[39m=\u001b[39m original_size_in_bytes \u001b[39m/\u001b[39m bitpacking_coding\u001b[39m.\u001b[39msize_of_coded_file\n",
      "File \u001b[0;32m~/Desktop/UAB/4t/TCI/Projecte/TCIProject/TCIProject/codingTools/BitPacking.py:35\u001b[0m, in \u001b[0;36mBitPacking.coding\u001b[0;34m(self)\u001b[0m\n\u001b[1;32m     33\u001b[0m         \u001b[39mfor\u001b[39;00m k \u001b[39min\u001b[39;00m \u001b[39mrange\u001b[39m(\u001b[39mself\u001b[39m\u001b[39m.\u001b[39mcolumns):\n\u001b[1;32m     34\u001b[0m             value \u001b[39m=\u001b[39m \u001b[39mself\u001b[39m\u001b[39m.\u001b[39mimage_data[i, j, k]\n\u001b[0;32m---> 35\u001b[0m             BFO\u001b[39m.\u001b[39mwrite_value(value, \u001b[39m32\u001b[39m)  \u001b[39m# 32-bit integer\u001b[39;00m\n\u001b[1;32m     36\u001b[0m             \u001b[39mself\u001b[39m\u001b[39m.\u001b[39msize_of_coded_file \u001b[39m+\u001b[39m\u001b[39m=\u001b[39m \u001b[39m4\u001b[39m  \u001b[39m# 4 bytes per value\u001b[39;00m\n\u001b[1;32m     38\u001b[0m \u001b[39m# Close the binary file\u001b[39;00m\n",
      "File \u001b[0;32m~/Desktop/UAB/4t/TCI/Projecte/TCIProject/TCIProject/codingTools/binary_file_output.py:43\u001b[0m, in \u001b[0;36mbinary_file_output.write_value\u001b[0;34m(self, value, num_of_bits)\u001b[0m\n\u001b[1;32m     41\u001b[0m \u001b[39mfor\u001b[39;00m i \u001b[39min\u001b[39;00m \u001b[39mrange\u001b[39m(num_of_bits):\n\u001b[1;32m     42\u001b[0m     bit \u001b[39m=\u001b[39m (value \u001b[39m>>\u001b[39m (num_of_bits \u001b[39m-\u001b[39m \u001b[39m1\u001b[39m \u001b[39m-\u001b[39m i)) \u001b[39m&\u001b[39m \u001b[39m1\u001b[39m\n\u001b[0;32m---> 43\u001b[0m     \u001b[39mself\u001b[39m\u001b[39m.\u001b[39mwrite_bit(bit)\n",
      "File \u001b[0;32m~/Desktop/UAB/4t/TCI/Projecte/TCIProject/TCIProject/codingTools/binary_file_output.py:34\u001b[0m, in \u001b[0;36mbinary_file_output.write_bit\u001b[0;34m(self, bit)\u001b[0m\n\u001b[1;32m     29\u001b[0m \u001b[39mself\u001b[39m\u001b[39m.\u001b[39mbyte \u001b[39m=\u001b[39m \u001b[39mself\u001b[39m\u001b[39m.\u001b[39mbyte \u001b[39m|\u001b[39m (bit \u001b[39m<<\u001b[39m (\u001b[39m8\u001b[39m \u001b[39m-\u001b[39m \u001b[39mself\u001b[39m\u001b[39m.\u001b[39mcounter_bit))\n\u001b[1;32m     32\u001b[0m \u001b[39mif\u001b[39;00m \u001b[39mself\u001b[39m\u001b[39m.\u001b[39mcounter_bit \u001b[39m==\u001b[39m \u001b[39m8\u001b[39m:\n\u001b[1;32m     33\u001b[0m     \u001b[39m#print(\"writting a byte\")\u001b[39;00m\n\u001b[0;32m---> 34\u001b[0m     \u001b[39mself\u001b[39m\u001b[39m.\u001b[39mbinary_file\u001b[39m.\u001b[39mwrite(\u001b[39mself\u001b[39m\u001b[39m.\u001b[39mbyte\u001b[39m.\u001b[39mto_bytes(\u001b[39m1\u001b[39m,\u001b[39m'\u001b[39m\u001b[39mbig\u001b[39m\u001b[39m'\u001b[39m))\n\u001b[1;32m     35\u001b[0m     \u001b[39mself\u001b[39m\u001b[39m.\u001b[39mcounter_bit \u001b[39m=\u001b[39m \u001b[39m0\u001b[39m\n\u001b[1;32m     36\u001b[0m     \u001b[39mself\u001b[39m\u001b[39m.\u001b[39mbyte \u001b[39m=\u001b[39m \u001b[39m0\u001b[39m\n",
      "\u001b[0;31mAttributeError\u001b[0m: 'numpy.int64' object has no attribute 'to_bytes'"
     ]
    }
   ],
   "source": [
    "###BITPACKING CODING###\n",
    "bitpacking_coding = BitPacking(\"bitpacket.txt\" ,original_image)\n",
    "bitpacking_coding.coding()\n",
    "original_size_in_bytes = ImageRaw.get_original_size_in_bytes()\n",
    "CR = original_size_in_bytes / bitpacking_coding.size_of_coded_file\n",
    "print(original_size_in_bytes)\n",
    "print(bitpacking_coding.size_of_coded_file)"
   ]
  },
  {
   "cell_type": "code",
   "execution_count": null,
   "metadata": {},
   "outputs": [],
   "source": []
  }
 ],
 "metadata": {
  "kernelspec": {
   "display_name": "Python 3 (ipykernel)",
   "language": "python",
   "name": "python3"
  },
  "language_info": {
   "codemirror_mode": {
    "name": "ipython",
    "version": 3
   },
   "file_extension": ".py",
   "mimetype": "text/x-python",
   "name": "python",
   "nbconvert_exporter": "python",
   "pygments_lexer": "ipython3",
   "version": "3.11.4"
  },
  "toc-autonumbering": true
 },
 "nbformat": 4,
 "nbformat_minor": 4
}
