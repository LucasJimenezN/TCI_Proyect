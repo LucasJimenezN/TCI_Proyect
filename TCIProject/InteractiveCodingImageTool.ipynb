{
 "cells": [
  {
   "cell_type": "code",
   "execution_count": 1,
   "metadata": {
    "ExecuteTime": {
     "end_time": "2023-11-22T10:35:19.867214Z",
     "start_time": "2023-11-22T10:35:19.662749Z"
    }
   },
   "outputs": [],
   "source": [
    "import sys\n",
    "import os\n",
    "import numpy as np\n",
    "\n",
    "from codingTools import *\n"
   ]
  },
  {
   "cell_type": "code",
   "execution_count": 2,
   "metadata": {
    "ExecuteTime": {
     "end_time": "2023-11-22T10:35:19.868892Z",
     "start_time": "2023-11-22T10:35:19.800220Z"
    }
   },
   "outputs": [],
   "source": [
    "######LOAD RAW IMAGE######\n",
    "#dtype --> > stands for big endian, i stands for integer, 2 stands for 2 bytes\n",
    "#originalFile=\"../images/03508649.1_512_512_2_0_12_0_0_0d.raw\" #int16\n",
    "originalFile=\"../images/03508649.1_128_128_1_0_8_0_0_0.raw\"\n",
    "#originalFile=\"../images/n1_GRAY.1_2560_2048_1_0_8_0_0_0.raw\" #uint8\n",
    "#ImageRaw = load_image_raw(originalFile, 1, 512, 512, \"int16\") #https://numpy.org/doc/stable/reference/arrays.dtypes.html\n",
    "ImageRaw = load_image_raw(originalFile, 1, 128, 128, \"uint8\")\n",
    "#ImageRaw = load_image_raw(originalFile, 1, 2560, 2048, \"uint8\") #https://numpy.org/doc/stable/reference/arrays.dtypes.html\n",
    "original_image = ImageRaw.load_image_raw()\n",
    "##############################"
   ]
  },
  {
   "cell_type": "code",
   "execution_count": 3,
   "metadata": {
    "ExecuteTime": {
     "end_time": "2023-11-22T10:35:19.882857Z",
     "start_time": "2023-11-22T10:35:19.822611Z"
    }
   },
   "outputs": [
    {
     "name": "stdout",
     "output_type": "stream",
     "text": [
      "order zero entropy of the image:  6.7004541529645625\n"
     ]
    }
   ],
   "source": [
    "########STATISTICS##########\n",
    "statistics_data = statistics(original_image)\n",
    "entropy = statistics_data.compute_entropy()\n",
    "print(\"order zero entropy of the image: \",entropy)"
   ]
  },
  {
   "cell_type": "code",
   "execution_count": 4,
   "metadata": {
    "ExecuteTime": {
     "end_time": "2023-11-22T10:35:19.883894Z",
     "start_time": "2023-11-22T10:35:19.831165Z"
    }
   },
   "outputs": [],
   "source": [
    "######SAVE RAW IMAGE######\n",
    "# decodedFile=\"../images/n1_GRAY.1_2560_2048_1_0_8_0_0_0_copy.raw\"\n",
    "# ImageRawDecoded = save_image_raw(decodedFile)\n",
    "# ImageRawDecoded.save_image_raw(original_image,\"uint8\")\n",
    "###########"
   ]
  },
  {
   "cell_type": "code",
   "execution_count": 5,
   "metadata": {
    "ExecuteTime": {
     "end_time": "2023-11-22T10:35:19.960055Z",
     "start_time": "2023-11-22T10:35:19.857881Z"
    }
   },
   "outputs": [
    {
     "name": "stdout",
     "output_type": "stream",
     "text": [
      "Check Quantize: [[[1. 2. 2. ... 2. 2. 1.]\n",
      "  [1. 2. 2. ... 2. 2. 2.]\n",
      "  [2. 2. 3. ... 3. 2. 2.]\n",
      "  ...\n",
      "  [2. 2. 3. ... 3. 3. 2.]\n",
      "  [1. 2. 2. ... 3. 2. 2.]\n",
      "  [1. 2. 2. ... 2. 2. 1.]]]\n",
      "Entropia: 3.4368520266679963\n"
     ]
    }
   ],
   "source": [
    "### Quantize ###\n",
    "quantize = Quantizer(1, 10)\n",
    "image_data_quantized = ImageRaw.get_image_structure_empty()\n",
    "quantize.quantize(original_image, image_data_quantized)\n",
    "quant_statics = statistics(image_data_quantized).compute_entropy()\n",
    "print(f\"Entropia: {quant_statics}\")\n"
   ]
  },
  {
   "cell_type": "code",
   "execution_count": 6,
   "metadata": {
    "ExecuteTime": {
     "end_time": "2023-11-22T10:35:19.960978Z",
     "start_time": "2023-11-22T10:35:19.945514Z"
    }
   },
   "outputs": [],
   "source": [
    "### Dequantize ###\n",
    "dequantize = Quantizer(1, 10)\n",
    "image_data_dequantized = ImageRaw.get_image_structure_empty()\n",
    "dequantize.dequantize(image_data_quantized, image_data_dequantized)"
   ]
  },
  {
   "cell_type": "code",
   "execution_count": 7,
   "metadata": {
    "ExecuteTime": {
     "end_time": "2023-11-22T10:35:19.968468Z",
     "start_time": "2023-11-22T10:35:19.961868Z"
    }
   },
   "outputs": [
    {
     "name": "stdout",
     "output_type": "stream",
     "text": [
      "Pae: 9.0\n",
      "9.0\n"
     ]
    }
   ],
   "source": [
    "### PAE ###\n",
    "pae = Metrics(original_image, image_data_dequantized)\n",
    "print(f\"Pae: {pae.calculate_pae()}\")\n",
    "print(pae.PAE_data)\n"
   ]
  },
  {
   "cell_type": "code",
   "execution_count": 8,
   "metadata": {
    "ExecuteTime": {
     "end_time": "2023-11-22T10:35:20.026167Z",
     "start_time": "2023-11-22T10:35:19.977908Z"
    }
   },
   "outputs": [
    {
     "name": "stdout",
     "output_type": "stream",
     "text": [
      "Mse: 28.00189208984375\n"
     ]
    }
   ],
   "source": [
    "### MSE ###\n",
    "mse = Metrics(original_image, image_data_dequantized)\n",
    "print(f\"Mse: {mse.calculate_mse()}\")"
   ]
  },
  {
   "cell_type": "code",
   "execution_count": 9,
   "metadata": {
    "ExecuteTime": {
     "end_time": "2023-11-22T10:35:20.027735Z",
     "start_time": "2023-11-22T10:35:19.996680Z"
    }
   },
   "outputs": [
    {
     "name": "stdout",
     "output_type": "stream",
     "text": [
      "Psnr: 33.69292552980915 dB\n"
     ]
    }
   ],
   "source": [
    "### PSNR ###\n",
    "psnr = Metrics(original_image, image_data_dequantized)\n",
    "print(f\"Psnr: {psnr.calculate_psnr()} dB\")"
   ]
  },
  {
   "cell_type": "code",
   "execution_count": 11,
   "outputs": [
    {
     "name": "stdout",
     "output_type": "stream",
     "text": [
      "Array modificado: [ 2  4  7  9 -1 -1  2  2]\n"
     ]
    }
   ],
   "source": [
    "### S-transform forward ###\n",
    "array = [1,2,3,4,8,6,10,8]\n",
    "transform = Wavelet(array, 1)\n",
    "array_transform = transform.s_tranform_forward(array)\n",
    "print(f\"Array modificado: {array_transform}\")\n"
   ],
   "metadata": {
    "collapsed": false,
    "ExecuteTime": {
     "end_time": "2023-11-22T10:35:20.028221Z",
     "start_time": "2023-11-22T10:35:20.006090Z"
    }
   }
  },
  {
   "cell_type": "code",
   "execution_count": 12,
   "outputs": [
    {
     "name": "stdout",
     "output_type": "stream",
     "text": [
      "Array invertido: [ 1  2  3  4  8  6 10  8]\n"
     ]
    }
   ],
   "source": [
    "### S-transform Inverse ###\n",
    "array_inv = transform.s_transform_inverse(array_transform)\n",
    "print(f\"Array invertido: {array_inv}\")\n"
   ],
   "metadata": {
    "collapsed": false,
    "ExecuteTime": {
     "end_time": "2023-11-22T10:35:20.028386Z",
     "start_time": "2023-11-22T10:35:20.010267Z"
    }
   }
  },
  {
   "cell_type": "code",
   "execution_count": 22,
   "outputs": [
    {
     "name": "stdout",
     "output_type": "stream",
     "text": [
      "Longitud forward: 128\n",
      "[[146 155 161 ...   4   3   3]\n",
      " [150 159 167 ...   4   4   3]\n",
      " [153 164 173 ...   5   4   4]\n",
      " ...\n",
      " [153 163 173 ...   3   4   4]\n",
      " [149 159 167 ...   3   3   2]\n",
      " [146 155 161 ...   3   3   3]]\n"
     ]
    }
   ],
   "source": [
    "### S-transform Forward image ###\n",
    "transform_image = Wavelet(original_image, 1)\n",
    "#print(len(original_image[0][0]))\n",
    "transform_forward = transform_image.handle_transform_forward()\n",
    "print(transform_forward)\n"
   ],
   "metadata": {
    "collapsed": false,
    "ExecuteTime": {
     "end_time": "2023-11-22T10:35:25.081045Z",
     "start_time": "2023-11-22T10:35:25.043789Z"
    }
   }
  },
  {
   "cell_type": "code",
   "execution_count": 23,
   "outputs": [
    {
     "name": "stdout",
     "output_type": "stream",
     "text": [
      "[[[272  21 281 ...  25  22  19]\n",
      "  [275  25 285 ...  29  25  22]\n",
      "  [278  28 290 ...  34  29  25]\n",
      "  ...\n",
      "  [278  28 289 ...  34  30  26]\n",
      "  [275  24 285 ...  30  25  23]\n",
      "  [272  21 281 ...  25  22  19]]]\n"
     ]
    }
   ],
   "source": [
    "### S-transform Reverse image ###\n",
    "transform_image_reverse = Wavelet(transform_forward, 1)\n",
    "transform_reverse = transform_image_reverse.handle_transform_inverse()\n",
    "print(transform_reverse)\n"
   ],
   "metadata": {
    "collapsed": false,
    "ExecuteTime": {
     "end_time": "2023-11-22T10:35:25.522380Z",
     "start_time": "2023-11-22T10:35:25.520673Z"
    }
   }
  },
  {
   "cell_type": "code",
   "execution_count": 24,
   "outputs": [
    {
     "name": "stdout",
     "output_type": "stream",
     "text": [
      "[[[16 21 25 ... 25 22 19]\n",
      "  [19 25 29 ... 29 25 22]\n",
      "  [22 28 34 ... 34 29 25]\n",
      "  ...\n",
      "  [22 28 33 ... 34 30 26]\n",
      "  [19 24 29 ... 30 25 23]\n",
      "  [16 21 25 ... 25 22 19]]]\n"
     ]
    }
   ],
   "source": [
    "print(original_image)\n",
    " "
   ],
   "metadata": {
    "collapsed": false,
    "ExecuteTime": {
     "end_time": "2023-11-22T10:35:25.971601Z",
     "start_time": "2023-11-22T10:35:25.965592Z"
    }
   }
  },
  {
   "cell_type": "code",
   "execution_count": 27,
   "outputs": [
    {
     "name": "stdout",
     "output_type": "stream",
     "text": [
      "Array modificado: [146 155 161  36  37  37  37 166  38  34  28  22  14 144 240 183 178 301\n",
      " 172 170 165 163 163 158 282 286 154 150 148 276 148 140 265 137 135 133\n",
      " 121 250 114 249 120 246 120 247 247 246 251 116  46 151 154 159 162 165\n",
      " 167  39  36  36 165  37  37  33  26  20 251 252 253   1   0   0   1 254\n",
      "   1   3   3   4   3 244 178   1   5 255   1   2   3   0   0   2 255 255\n",
      "   2   1   4 255   2   6 252   1   3   3   4 253   3 254   0 255   1 255\n",
      " 255 255 254  17  32 254 255 254 254 255 255   1   1   0 255   0   0   4\n",
      "   3   3]\n"
     ]
    }
   ],
   "source": [
    "### S-transform forward ###\n",
    "array = original_image[0][0]\n",
    "transform = Wavelet(array, 1)\n",
    "array_transform = transform.s_tranform_forward(array)\n",
    "print(f\"Array modificado: {array_transform}\")\n"
   ],
   "metadata": {
    "collapsed": false,
    "ExecuteTime": {
     "end_time": "2023-11-22T10:42:00.105734Z",
     "start_time": "2023-11-22T10:42:00.096738Z"
    }
   }
  },
  {
   "cell_type": "code",
   "execution_count": 28,
   "outputs": [
    {
     "name": "stdout",
     "output_type": "stream",
     "text": [
      "Array invertido: [272  21 281  29 288  35  37  36  37  37  37  37  38  37 293  39  39  38\n",
      "  36  33  30  27  24  20  16  13 266  22 329 151 184 183 181 176 429 174\n",
      " 173 172 171 169 167 164 163 163 163 163 159 157 410 155 414 159 155 153\n",
      " 151 150 150 146 404 149 149 147 143 137 391 139 138 137 137 134 135 132\n",
      " 123 119 377 124 116 113 376 122 120 120 374 119 121 120 375 120 375 120\n",
      " 374 119 378 124 125 108  62  30 278  24 282  27 286  32 289  35 293  38\n",
      " 295  40  40  39  37  36  36  36 293  38  37  37  37  37  35  31  28  25\n",
      "  22  19]\n"
     ]
    }
   ],
   "source": [
    "### S-transform Inverse ###\n",
    "array_inv = transform.s_transform_inverse(array_transform)\n",
    "print(f\"Array invertido: {array_inv}\")\n"
   ],
   "metadata": {
    "collapsed": false,
    "ExecuteTime": {
     "end_time": "2023-11-22T10:42:19.063676Z",
     "start_time": "2023-11-22T10:42:19.050722Z"
    }
   }
  },
  {
   "cell_type": "code",
   "execution_count": 29,
   "outputs": [
    {
     "name": "stdout",
     "output_type": "stream",
     "text": [
      "Array original: [ 16  21  25  29  32  35  37  36  37  37  37  37  38  37  37  39  39  38\n",
      "  36  33  30  27  24  20  16  13  10  22  73 151 184 183 181 176 173 174\n",
      " 173 172 171 169 167 164 163 163 163 163 159 157 154 155 158 159 155 153\n",
      " 151 150 150 146 148 149 149 147 143 137 135 139 138 137 137 134 135 132\n",
      " 123 119 121 124 116 113 120 122 120 120 118 119 121 120 119 120 119 120\n",
      " 118 119 122 124 125 108  62  30  22  24  26  27  30  32  33  35  37  38\n",
      "  39  40  40  39  37  36  36  36  37  38  37  37  37  37  35  31  28  25\n",
      "  22  19]\n"
     ]
    }
   ],
   "source": [
    "print(f\"Array original: {original_image[0][0]}\")"
   ],
   "metadata": {
    "collapsed": false,
    "ExecuteTime": {
     "end_time": "2023-11-22T10:42:50.401161Z",
     "start_time": "2023-11-22T10:42:50.393673Z"
    }
   }
  },
  {
   "cell_type": "markdown",
   "source": [
    "### Classe 17/09\n",
    "Predicció:\n",
    "X = 1,2,3,4,8,6,10,8\n",
    "Causal\n",
    "Pi = {0 si i=0, X(i-1) si i>0}\n",
    "X'i = Xi - Pi\n",
    "P = 0,1,2,3,4,8,6,10 (Predicció)\n",
    "X' = 1,1,1,1,4,-2,4,-2\n",
    "#\n",
    "###### TODO\n",
    "Predict sobre una matriu. -> ha de ser invertible -> img de 512 512\n",
    "Calcular entropia del resultat X' -> H(x') <= H(x)"
   ],
   "metadata": {
    "collapsed": false
   }
  },
  {
   "cell_type": "code",
   "execution_count": 17,
   "outputs": [
    {
     "name": "stdout",
     "output_type": "stream",
     "text": [
      "-100\n"
     ]
    }
   ],
   "source": [
    "var = -100.9\n",
    "print(int(var))"
   ],
   "metadata": {
    "collapsed": false,
    "ExecuteTime": {
     "end_time": "2023-11-22T10:35:20.110548Z",
     "start_time": "2023-11-22T10:35:20.092804Z"
    }
   }
  },
  {
   "cell_type": "code",
   "execution_count": 18,
   "outputs": [
    {
     "name": "stdout",
     "output_type": "stream",
     "text": [
      "[[ 1  2  3  4  5  6  7  8  9 10 11 12 13 14 15 16]\n",
      " [ 1  2  3  4  5  6  7  8  9 10 11 12 13 14 15 16]\n",
      " [ 1  2  3  4  5  6  7  8  9 10 11 12 13 14 15 16]\n",
      " [ 1  2  3  4  5  6  7  8  9 10 11 12 13 14 15 16]\n",
      " [ 1  2  3  4  5  6  7  8  9 10 11 12 13 14 15 16]\n",
      " [ 1  2  3  4  5  6  7  8  9 10 11 12 13 14 15 16]\n",
      " [ 1  2  3  4  5  6  7  8  9 10 11 12 13 14 15 16]\n",
      " [ 1  2  3  4  5  6  7  8  9 10 11 12 13 14 15 16]\n",
      " [ 1  2  3  4  5  6  7  8  9 10 11 12 13 14 15 16]\n",
      " [ 1  2  3  4  5  6  7  8  9 10 11 12 13 14 15 16]\n",
      " [ 1  2  3  4  5  6  7  8  9 10 11 12 13 14 15 16]\n",
      " [ 1  2  3  4  5  6  7  8  9 10 11 12 13 14 15 16]\n",
      " [ 1  2  3  4  5  6  7  8  9 10 11 12 13 14 15 16]\n",
      " [ 1  2  3  4  5  6  7  8  9 10 11 12 13 14 15 16]\n",
      " [ 1  2  3  4  5  6  7  8  9 10 11 12 13 14 15 16]\n",
      " [ 1  2  3  4  5  6  7  8  9 10 11 12 13 14 15 16]]\n",
      "[[[ 1  2  3  4  5  6  7  8  9 10 11 12 13 14 15 16]\n",
      "  [ 1  2  3  4  5  6  7  8  9 10 11 12 13 14 15 16]\n",
      "  [ 1  2  3  4  5  6  7  8  9 10 11 12 13 14 15 16]\n",
      "  [ 1  2  3  4  5  6  7  8  9 10 11 12 13 14 15 16]\n",
      "  [ 1  2  3  4  5  6  7  8  9 10 11 12 13 14 15 16]\n",
      "  [ 1  2  3  4  5  6  7  8  9 10 11 12 13 14 15 16]\n",
      "  [ 1  2  3  4  5  6  7  8  9 10 11 12 13 14 15 16]\n",
      "  [ 1  2  3  4  5  6  7  8  9 10 11 12 13 14 15 16]\n",
      "  [ 1  2  3  4  5  6  7  8  9 10 11 12 13 14 15 16]\n",
      "  [ 1  2  3  4  5  6  7  8  9 10 11 12 13 14 15 16]\n",
      "  [ 1  2  3  4  5  6  7  8  9 10 11 12 13 14 15 16]\n",
      "  [ 1  2  3  4  5  6  7  8  9 10 11 12 13 14 15 16]\n",
      "  [ 1  2  3  4  5  6  7  8  9 10 11 12 13 14 15 16]\n",
      "  [ 1  2  3  4  5  6  7  8  9 10 11 12 13 14 15 16]\n",
      "  [ 1  2  3  4  5  6  7  8  9 10 11 12 13 14 15 16]\n",
      "  [ 1  2  3  4  5  6  7  8  9 10 11 12 13 14 15 16]]]\n"
     ]
    }
   ],
   "source": [
    "import numpy as np\n",
    "\n",
    "# Crear una matriz de 8x8 con los números del 1 al 8 en cada fila\n",
    "matriz_2d = np.tile(np.arange(1, 17), (16, 1))\n",
    "print(matriz_2d)\n",
    "# Crear una matriz de 3 dimensiones repitiendo la matriz 2D\n",
    "matriz_3d = np.expand_dims(matriz_2d, axis=0)\n",
    "print(matriz_3d)\n"
   ],
   "metadata": {
    "collapsed": false,
    "ExecuteTime": {
     "end_time": "2023-11-22T10:35:20.111597Z",
     "start_time": "2023-11-22T10:35:20.097649Z"
    }
   }
  },
  {
   "cell_type": "code",
   "execution_count": 19,
   "outputs": [
    {
     "name": "stdout",
     "output_type": "stream",
     "text": [
      "Longitud forward: 16\n",
      "Longitud forward: 8\n",
      "Longitud forward: 4\n",
      "[[ 5 13 -4 -4 -2 -2 -2 -2 -1 -1 -1 -1 -1 -1 -1 -1]\n",
      " [ 5 13 -4 -4 -2 -2 -2 -2 -1 -1 -1 -1 -1 -1 -1 -1]\n",
      " [ 5 13 -4 -4 -2 -2 -2 -2 -1 -1 -1 -1 -1 -1 -1 -1]\n",
      " [ 5 13 -4 -4 -2 -2 -2 -2 -1 -1 -1 -1 -1 -1 -1 -1]\n",
      " [ 3  7 11 15 -2 -2 -2 -2 -1 -1 -1 -1 -1 -1 -1 -1]\n",
      " [ 3  7 11 15 -2 -2 -2 -2 -1 -1 -1 -1 -1 -1 -1 -1]\n",
      " [ 3  7 11 15 -2 -2 -2 -2 -1 -1 -1 -1 -1 -1 -1 -1]\n",
      " [ 3  7 11 15 -2 -2 -2 -2 -1 -1 -1 -1 -1 -1 -1 -1]\n",
      " [ 2  4  6  8 10 12 14 16 -1 -1 -1 -1 -1 -1 -1 -1]\n",
      " [ 2  4  6  8 10 12 14 16 -1 -1 -1 -1 -1 -1 -1 -1]\n",
      " [ 2  4  6  8 10 12 14 16 -1 -1 -1 -1 -1 -1 -1 -1]\n",
      " [ 2  4  6  8 10 12 14 16 -1 -1 -1 -1 -1 -1 -1 -1]\n",
      " [ 2  4  6  8 10 12 14 16 -1 -1 -1 -1 -1 -1 -1 -1]\n",
      " [ 2  4  6  8 10 12 14 16 -1 -1 -1 -1 -1 -1 -1 -1]\n",
      " [ 2  4  6  8 10 12 14 16 -1 -1 -1 -1 -1 -1 -1 -1]\n",
      " [ 2  4  6  8 10 12 14 16 -1 -1 -1 -1 -1 -1 -1 -1]]\n"
     ]
    }
   ],
   "source": [
    "### S-transform Forward image ###\n",
    "transform_image = Wavelet(matriz_3d, 3)\n",
    "#print(len(original_image[0][0]))\n",
    "transform_forward = transform_image.handle_transform_forward()\n",
    "print(transform_forward)"
   ],
   "metadata": {
    "collapsed": false,
    "ExecuteTime": {
     "end_time": "2023-11-22T10:35:20.113510Z",
     "start_time": "2023-11-22T10:35:20.101566Z"
    }
   }
  },
  {
   "cell_type": "code",
   "execution_count": 20,
   "outputs": [
    {
     "name": "stdout",
     "output_type": "stream",
     "text": [
      "[[[ 1  2  3  4  5  6  7  8  9 10 11 12 13 14 15 16]\n",
      "  [ 1  2  3  4  5  6  7  8  9 10 11 12 13 14 15 16]\n",
      "  [ 1  2  3  4  5  6  7  8  9 10 11 12 13 14 15 16]\n",
      "  [ 1  2  3  4  5  6  7  8  9 10 11 12 13 14 15 16]\n",
      "  [ 1  2  3  4  5  6  7  8  9 10 11 12 13 14 15 16]\n",
      "  [ 1  2  3  4  5  6  7  8  9 10 11 12 13 14 15 16]\n",
      "  [ 1  2  3  4  5  6  7  8  9 10 11 12 13 14 15 16]\n",
      "  [ 1  2  3  4  5  6  7  8  9 10 11 12 13 14 15 16]\n",
      "  [ 1  2  3  4  5  6  7  8  9 10 11 12 13 14 15 16]\n",
      "  [ 1  2  3  4  5  6  7  8  9 10 11 12 13 14 15 16]\n",
      "  [ 1  2  3  4  5  6  7  8  9 10 11 12 13 14 15 16]\n",
      "  [ 1  2  3  4  5  6  7  8  9 10 11 12 13 14 15 16]\n",
      "  [ 1  2  3  4  5  6  7  8  9 10 11 12 13 14 15 16]\n",
      "  [ 1  2  3  4  5  6  7  8  9 10 11 12 13 14 15 16]\n",
      "  [ 1  2  3  4  5  6  7  8  9 10 11 12 13 14 15 16]\n",
      "  [ 1  2  3  4  5  6  7  8  9 10 11 12 13 14 15 16]]]\n"
     ]
    }
   ],
   "source": [
    "### S-transform Reverse image ###\n",
    "transform_image_reverse = Wavelet(transform_forward, 3)\n",
    "transform_reverse = transform_image_reverse.handle_transform_inverse()\n",
    "print(transform_reverse)"
   ],
   "metadata": {
    "collapsed": false,
    "ExecuteTime": {
     "end_time": "2023-11-22T10:35:20.122086Z",
     "start_time": "2023-11-22T10:35:20.108101Z"
    }
   }
  },
  {
   "cell_type": "code",
   "execution_count": 21,
   "outputs": [
    {
     "name": "stdout",
     "output_type": "stream",
     "text": [
      "[[[ 1  2  3  4  5  6  7  8  9 10 11 12 13 14 15 16]\n",
      "  [ 1  2  3  4  5  6  7  8  9 10 11 12 13 14 15 16]\n",
      "  [ 1  2  3  4  5  6  7  8  9 10 11 12 13 14 15 16]\n",
      "  [ 1  2  3  4  5  6  7  8  9 10 11 12 13 14 15 16]\n",
      "  [ 1  2  3  4  5  6  7  8  9 10 11 12 13 14 15 16]\n",
      "  [ 1  2  3  4  5  6  7  8  9 10 11 12 13 14 15 16]\n",
      "  [ 1  2  3  4  5  6  7  8  9 10 11 12 13 14 15 16]\n",
      "  [ 1  2  3  4  5  6  7  8  9 10 11 12 13 14 15 16]\n",
      "  [ 1  2  3  4  5  6  7  8  9 10 11 12 13 14 15 16]\n",
      "  [ 1  2  3  4  5  6  7  8  9 10 11 12 13 14 15 16]\n",
      "  [ 1  2  3  4  5  6  7  8  9 10 11 12 13 14 15 16]\n",
      "  [ 1  2  3  4  5  6  7  8  9 10 11 12 13 14 15 16]\n",
      "  [ 1  2  3  4  5  6  7  8  9 10 11 12 13 14 15 16]\n",
      "  [ 1  2  3  4  5  6  7  8  9 10 11 12 13 14 15 16]\n",
      "  [ 1  2  3  4  5  6  7  8  9 10 11 12 13 14 15 16]\n",
      "  [ 1  2  3  4  5  6  7  8  9 10 11 12 13 14 15 16]]]\n"
     ]
    }
   ],
   "source": [
    "print(matriz_3d)"
   ],
   "metadata": {
    "collapsed": false,
    "ExecuteTime": {
     "end_time": "2023-11-22T10:35:20.128068Z",
     "start_time": "2023-11-22T10:35:20.111282Z"
    }
   }
  },
  {
   "cell_type": "code",
   "execution_count": 21,
   "outputs": [],
   "source": [],
   "metadata": {
    "collapsed": false,
    "ExecuteTime": {
     "end_time": "2023-11-22T10:35:20.128328Z",
     "start_time": "2023-11-22T10:35:20.114677Z"
    }
   }
  }
 ],
 "metadata": {
  "kernelspec": {
   "display_name": "Python 3 (ipykernel)",
   "language": "python",
   "name": "python3"
  },
  "language_info": {
   "codemirror_mode": {
    "name": "ipython",
    "version": 3
   },
   "file_extension": ".py",
   "mimetype": "text/x-python",
   "name": "python",
   "nbconvert_exporter": "python",
   "pygments_lexer": "ipython3",
   "version": "3.11.4"
  },
  "toc-autonumbering": true
 },
 "nbformat": 4,
 "nbformat_minor": 4
}
