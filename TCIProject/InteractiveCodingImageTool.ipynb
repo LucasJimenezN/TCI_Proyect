{
 "cells": [
  {
   "cell_type": "code",
   "execution_count": 1,
   "metadata": {},
   "outputs": [
    {
     "ename": "ModuleNotFoundError",
     "evalue": "No module named 'numpy'",
     "output_type": "error",
     "traceback": [
      "\u001b[1;31m---------------------------------------------------------------------------\u001b[0m",
      "\u001b[1;31mModuleNotFoundError\u001b[0m                       Traceback (most recent call last)",
      "Cell \u001b[1;32mIn[1], line 3\u001b[0m\n\u001b[0;32m      1\u001b[0m \u001b[38;5;28;01mimport\u001b[39;00m \u001b[38;5;21;01msys\u001b[39;00m\n\u001b[0;32m      2\u001b[0m \u001b[38;5;28;01mimport\u001b[39;00m \u001b[38;5;21;01mos\u001b[39;00m\n\u001b[1;32m----> 3\u001b[0m \u001b[38;5;28;01mimport\u001b[39;00m \u001b[38;5;21;01mnumpy\u001b[39;00m \u001b[38;5;28;01mas\u001b[39;00m \u001b[38;5;21;01mnp\u001b[39;00m\n\u001b[0;32m      5\u001b[0m \u001b[38;5;28;01mfrom\u001b[39;00m \u001b[38;5;21;01mcodingTools\u001b[39;00m \u001b[38;5;28;01mimport\u001b[39;00m \u001b[38;5;241m*\u001b[39m\n",
      "\u001b[1;31mModuleNotFoundError\u001b[0m: No module named 'numpy'"
     ]
    }
   ],
   "source": [
    "import sys\n",
    "import os\n",
    "import numpy as np\n",
    "\n",
    "from codingTools import *"
   ]
  },
  {
   "cell_type": "code",
   "execution_count": 2,
   "metadata": {},
   "outputs": [
    {
     "ename": "NameError",
     "evalue": "name 'load_image_raw' is not defined",
     "output_type": "error",
     "traceback": [
      "\u001b[1;31m---------------------------------------------------------------------------\u001b[0m",
      "\u001b[1;31mNameError\u001b[0m                                 Traceback (most recent call last)",
      "Cell \u001b[1;32mIn[2], line 6\u001b[0m\n\u001b[0;32m      4\u001b[0m originalFile\u001b[38;5;241m=\u001b[39m\u001b[38;5;124m\"\u001b[39m\u001b[38;5;124m../images/n1_GRAY.1_2560_2048_1_0_8_0_0_0.raw\u001b[39m\u001b[38;5;124m\"\u001b[39m \u001b[38;5;66;03m#uint8\u001b[39;00m\n\u001b[0;32m      5\u001b[0m \u001b[38;5;66;03m#ImageRaw = load_image_raw(originalFile, 1, 512, 512, \"int16\") #https://numpy.org/doc/stable/reference/arrays.dtypes.html\u001b[39;00m\n\u001b[1;32m----> 6\u001b[0m ImageRaw \u001b[38;5;241m=\u001b[39m \u001b[43mload_image_raw\u001b[49m(originalFile, \u001b[38;5;241m1\u001b[39m, \u001b[38;5;241m2560\u001b[39m, \u001b[38;5;241m2048\u001b[39m, \u001b[38;5;124m\"\u001b[39m\u001b[38;5;124muint8\u001b[39m\u001b[38;5;124m\"\u001b[39m) \u001b[38;5;66;03m#https://numpy.org/doc/stable/reference/arrays.dtypes.html\u001b[39;00m\n\u001b[0;32m      7\u001b[0m original_image \u001b[38;5;241m=\u001b[39m ImageRaw\u001b[38;5;241m.\u001b[39mload_image_raw()\n\u001b[0;32m      8\u001b[0m \u001b[38;5;66;03m##############################\u001b[39;00m\n",
      "\u001b[1;31mNameError\u001b[0m: name 'load_image_raw' is not defined"
     ]
    }
   ],
   "source": [
    "######LOAD RAW IMAGE######\n",
    "#dtype --> > stands for big endian, i stands for integer, 2 stands for 2 bytes\n",
    "#originalFile=\"../images/03508649.1_512_512_2_0_12_0_0_0d.raw\" #int16\n",
    "originalFile=\"../images/n1_GRAY.1_2560_2048_1_0_8_0_0_0.raw\" #uint8\n",
    "#ImageRaw = load_image_raw(originalFile, 1, 512, 512, \"int16\") #https://numpy.org/doc/stable/reference/arrays.dtypes.html\n",
    "ImageRaw = load_image_raw(originalFile, 1, 2560, 2048, \"uint8\") #https://numpy.org/doc/stable/reference/arrays.dtypes.html\n",
    "original_image = ImageRaw.load_image_raw()\n",
    "##############################"
   ]
  },
  {
   "cell_type": "code",
   "execution_count": 3,
   "metadata": {},
   "outputs": [
    {
     "ename": "NameError",
     "evalue": "name 'statistics' is not defined",
     "output_type": "error",
     "traceback": [
      "\u001b[1;31m---------------------------------------------------------------------------\u001b[0m",
      "\u001b[1;31mNameError\u001b[0m                                 Traceback (most recent call last)",
      "Cell \u001b[1;32mIn[3], line 2\u001b[0m\n\u001b[0;32m      1\u001b[0m \u001b[38;5;66;03m########STATISTICS##########\u001b[39;00m\n\u001b[1;32m----> 2\u001b[0m statistics \u001b[38;5;241m=\u001b[39m \u001b[43mstatistics\u001b[49m(original_image)\n\u001b[0;32m      3\u001b[0m entropy \u001b[38;5;241m=\u001b[39m statistics\u001b[38;5;241m.\u001b[39mcompute_entropy()\n\u001b[0;32m      4\u001b[0m \u001b[38;5;28mprint\u001b[39m(\u001b[38;5;124m\"\u001b[39m\u001b[38;5;124morder zero entropy of the image: \u001b[39m\u001b[38;5;124m\"\u001b[39m,entropy)\n",
      "\u001b[1;31mNameError\u001b[0m: name 'statistics' is not defined"
     ]
    }
   ],
   "source": [
    "########STATISTICS##########\n",
    "statistics = statistics(original_image)\n",
    "entropy = statistics.compute_entropy()\n",
    "print(\"order zero entropy of the image: \",entropy)"
   ]
  },
  {
   "cell_type": "code",
   "execution_count": 4,
   "metadata": {},
   "outputs": [
    {
     "ename": "NameError",
     "evalue": "name 'save_image_raw' is not defined",
     "output_type": "error",
     "traceback": [
      "\u001b[1;31m---------------------------------------------------------------------------\u001b[0m",
      "\u001b[1;31mNameError\u001b[0m                                 Traceback (most recent call last)",
      "Cell \u001b[1;32mIn[4], line 3\u001b[0m\n\u001b[0;32m      1\u001b[0m \u001b[38;5;66;03m######SAVE RAW IMAGE######\u001b[39;00m\n\u001b[0;32m      2\u001b[0m decodedFile\u001b[38;5;241m=\u001b[39m\u001b[38;5;124m\"\u001b[39m\u001b[38;5;124m../images/n1_GRAY.1_2560_2048_1_0_8_0_0_0_copy.raw\u001b[39m\u001b[38;5;124m\"\u001b[39m\n\u001b[1;32m----> 3\u001b[0m ImageRawDecoded \u001b[38;5;241m=\u001b[39m \u001b[43msave_image_raw\u001b[49m(decodedFile)\n\u001b[0;32m      4\u001b[0m ImageRawDecoded\u001b[38;5;241m.\u001b[39msave_image_raw(original_image,\u001b[38;5;124m\"\u001b[39m\u001b[38;5;124muint8\u001b[39m\u001b[38;5;124m\"\u001b[39m)\n\u001b[0;32m      5\u001b[0m \u001b[38;5;66;03m###########\u001b[39;00m\n",
      "\u001b[1;31mNameError\u001b[0m: name 'save_image_raw' is not defined"
     ]
    }
   ],
   "source": [
    "######SAVE RAW IMAGE######\n",
    "decodedFile=\"../images/n1_GRAY.1_2560_2048_1_0_8_0_0_0_copy.raw\"\n",
    "ImageRawDecoded = save_image_raw(decodedFile)\n",
    "ImageRawDecoded.save_image_raw(original_image,\"uint8\")\n",
    "###########"
   ]
  },
  {
   "cell_type": "code",
   "execution_count": 5,
   "metadata": {},
   "outputs": [
    {
     "ename": "NameError",
     "evalue": "name 'BitPacking' is not defined",
     "output_type": "error",
     "traceback": [
      "\u001b[1;31m---------------------------------------------------------------------------\u001b[0m",
      "\u001b[1;31mNameError\u001b[0m                                 Traceback (most recent call last)",
      "Cell \u001b[1;32mIn[5], line 2\u001b[0m\n\u001b[0;32m      1\u001b[0m \u001b[38;5;66;03m###BITPACKING CODING###\u001b[39;00m\n\u001b[1;32m----> 2\u001b[0m bitpacking_coding \u001b[38;5;241m=\u001b[39m \u001b[43mBitPacking\u001b[49m(\u001b[38;5;124m\"\u001b[39m\u001b[38;5;124mbitpacket.txt\u001b[39m\u001b[38;5;124m\"\u001b[39m ,original_image)\n\u001b[0;32m      3\u001b[0m bitpacking_coding\u001b[38;5;241m.\u001b[39mcoding()\n\u001b[0;32m      4\u001b[0m original_size_in_bytes \u001b[38;5;241m=\u001b[39m ImageRaw\u001b[38;5;241m.\u001b[39mget_original_size_in_bytes()\n",
      "\u001b[1;31mNameError\u001b[0m: name 'BitPacking' is not defined"
     ]
    }
   ],
   "source": [
    "###BITPACKING CODING###\n",
    "bitpacking_coding = BitPacking(\"bitpacket.txt\" ,original_image)\n",
    "bitpacking_coding.coding()\n",
    "original_size_in_bytes = ImageRaw.get_original_size_in_bytes()\n",
    "CR = original_size_in_bytes / bitpacking_coding.size_of_coded_file\n",
    "print(original_size_in_bytes)\n",
    "print(bitpacking_coding.size_of_coded_file)"
   ]
  },
  {
   "cell_type": "code",
   "execution_count": null,
   "metadata": {},
   "outputs": [],
   "source": []
  }
 ],
 "metadata": {
  "kernelspec": {
   "display_name": "Python 3 (ipykernel)",
   "language": "python",
   "name": "python3"
  },
  "language_info": {
   "codemirror_mode": {
    "name": "ipython",
    "version": 3
   },
   "file_extension": ".py",
   "mimetype": "text/x-python",
   "name": "python",
   "nbconvert_exporter": "python",
   "pygments_lexer": "ipython3",
   "version": "3.12.0"
  },
  "toc-autonumbering": true
 },
 "nbformat": 4,
 "nbformat_minor": 4
}
