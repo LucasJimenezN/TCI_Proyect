{
 "cells": [
  {
   "cell_type": "code",
   "execution_count": 1,
   "metadata": {
    "ExecuteTime": {
     "end_time": "2023-11-17T11:44:17.174255Z",
     "start_time": "2023-11-17T11:44:17.067109Z"
    }
   },
   "outputs": [],
   "source": [
    "import sys\n",
    "import os\n",
    "import numpy as np\n",
    "\n",
    "from codingTools import *\n"
   ]
  },
  {
   "cell_type": "code",
   "execution_count": 2,
   "metadata": {
    "ExecuteTime": {
     "end_time": "2023-11-17T11:44:17.180751Z",
     "start_time": "2023-11-17T11:44:17.159896Z"
    }
   },
   "outputs": [],
   "source": [
    "######LOAD RAW IMAGE######\n",
    "#dtype --> > stands for big endian, i stands for integer, 2 stands for 2 bytes\n",
    "#originalFile=\"../images/03508649.1_512_512_2_0_12_0_0_0d.raw\" #int16\n",
    "originalFile=\"../images/03508649.1_128_128_1_0_8_0_0_0.raw\"\n",
    "#originalFile=\"../images/n1_GRAY.1_2560_2048_1_0_8_0_0_0.raw\" #uint8\n",
    "#ImageRaw = load_image_raw(originalFile, 1, 512, 512, \"int16\") #https://numpy.org/doc/stable/reference/arrays.dtypes.html\n",
    "ImageRaw = load_image_raw(originalFile, 1, 128, 128, \"uint8\")\n",
    "#ImageRaw = load_image_raw(originalFile, 1, 2560, 2048, \"uint8\") #https://numpy.org/doc/stable/reference/arrays.dtypes.html\n",
    "original_image = ImageRaw.load_image_raw()\n",
    "##############################"
   ]
  },
  {
   "cell_type": "code",
   "execution_count": 3,
   "metadata": {
    "ExecuteTime": {
     "end_time": "2023-11-17T11:44:17.193746Z",
     "start_time": "2023-11-17T11:44:17.173295Z"
    }
   },
   "outputs": [
    {
     "name": "stdout",
     "output_type": "stream",
     "text": [
      "order zero entropy of the image:  6.7004541529645625\n"
     ]
    }
   ],
   "source": [
    "########STATISTICS##########\n",
    "statistics_data = statistics(original_image)\n",
    "entropy = statistics_data.compute_entropy()\n",
    "print(\"order zero entropy of the image: \",entropy)"
   ]
  },
  {
   "cell_type": "code",
   "execution_count": 4,
   "metadata": {
    "ExecuteTime": {
     "end_time": "2023-11-17T11:44:17.197329Z",
     "start_time": "2023-11-17T11:44:17.189975Z"
    }
   },
   "outputs": [],
   "source": [
    "######SAVE RAW IMAGE######\n",
    "# decodedFile=\"../images/n1_GRAY.1_2560_2048_1_0_8_0_0_0_copy.raw\"\n",
    "# ImageRawDecoded = save_image_raw(decodedFile)\n",
    "# ImageRawDecoded.save_image_raw(original_image,\"uint8\")\n",
    "###########"
   ]
  },
  {
   "cell_type": "code",
   "execution_count": 5,
   "metadata": {
    "ExecuteTime": {
     "end_time": "2023-11-17T11:44:17.328551Z",
     "start_time": "2023-11-17T11:44:17.211986Z"
    }
   },
   "outputs": [
    {
     "name": "stdout",
     "output_type": "stream",
     "text": [
      "Check Quantize: [[[1. 2. 2. ... 2. 2. 1.]\n",
      "  [1. 2. 2. ... 2. 2. 2.]\n",
      "  [2. 2. 3. ... 3. 2. 2.]\n",
      "  ...\n",
      "  [2. 2. 3. ... 3. 3. 2.]\n",
      "  [1. 2. 2. ... 3. 2. 2.]\n",
      "  [1. 2. 2. ... 2. 2. 1.]]]\n",
      "Entropia: 3.4368520266679963\n"
     ]
    }
   ],
   "source": [
    "### Quantize ###\n",
    "quantize = Quantizer(1, 10)\n",
    "image_data_quantized = ImageRaw.get_image_structure_empty()\n",
    "quantize.quantize(original_image, image_data_quantized)\n",
    "quant_statics = statistics(image_data_quantized).compute_entropy()\n",
    "print(f\"Entropia: {quant_statics}\")\n"
   ]
  },
  {
   "cell_type": "code",
   "execution_count": 6,
   "metadata": {
    "ExecuteTime": {
     "end_time": "2023-11-17T11:44:17.359008Z",
     "start_time": "2023-11-17T11:44:17.319428Z"
    }
   },
   "outputs": [],
   "source": [
    "### Dequantize ###\n",
    "dequantize = Quantizer(1, 10)\n",
    "image_data_dequantized = ImageRaw.get_image_structure_empty()\n",
    "dequantize.dequantize(image_data_quantized, image_data_dequantized)"
   ]
  },
  {
   "cell_type": "code",
   "execution_count": 7,
   "metadata": {
    "ExecuteTime": {
     "end_time": "2023-11-17T11:44:17.363192Z",
     "start_time": "2023-11-17T11:44:17.354609Z"
    }
   },
   "outputs": [
    {
     "name": "stdout",
     "output_type": "stream",
     "text": [
      "Pae: 9.0\n",
      "9.0\n"
     ]
    }
   ],
   "source": [
    "### PAE ###\n",
    "pae = Metrics(original_image, image_data_dequantized)\n",
    "print(f\"Pae: {pae.calculate_pae()}\")\n",
    "print(pae.PAE_data)\n"
   ]
  },
  {
   "cell_type": "code",
   "execution_count": 8,
   "metadata": {
    "ExecuteTime": {
     "end_time": "2023-11-17T11:44:17.374080Z",
     "start_time": "2023-11-17T11:44:17.366675Z"
    }
   },
   "outputs": [
    {
     "name": "stdout",
     "output_type": "stream",
     "text": [
      "Mse: 28.00189208984375\n"
     ]
    }
   ],
   "source": [
    "### MSE ###\n",
    "mse = Metrics(original_image, image_data_dequantized)\n",
    "print(f\"Mse: {mse.calculate_mse()}\")"
   ]
  },
  {
   "cell_type": "code",
   "execution_count": 9,
   "metadata": {
    "ExecuteTime": {
     "end_time": "2023-11-17T11:44:17.408594Z",
     "start_time": "2023-11-17T11:44:17.385516Z"
    }
   },
   "outputs": [
    {
     "name": "stdout",
     "output_type": "stream",
     "text": [
      "Psnr: 33.69292552980915 dB\n"
     ]
    }
   ],
   "source": [
    "### PSNR ###\n",
    "psnr = Metrics(original_image, image_data_dequantized)\n",
    "print(f\"Psnr: {psnr.calculate_psnr()} dB\")"
   ]
  },
  {
   "cell_type": "code",
   "execution_count": 10,
   "metadata": {
    "ExecuteTime": {
     "end_time": "2023-11-17T11:44:17.408757Z",
     "start_time": "2023-11-17T11:44:17.389457Z"
    }
   },
   "outputs": [],
   "source": [
    "###BITPACKING CODING###\n",
    "# bitpacking_coding = BitPacking(\"bitpacket.txt\" ,original_image)\n",
    "# bitpacking_coding.coding()\n",
    "# original_size_in_bytes = ImageRaw.get_original_size_in_bytes()\n",
    "# CR = original_size_in_bytes / bitpacking_coding.size_of_coded_file\n",
    "# print(original_size_in_bytes)\n",
    "# print(bitpacking_coding.size_of_coded_file)"
   ]
  },
  {
   "cell_type": "code",
   "execution_count": 11,
   "outputs": [
    {
     "name": "stdout",
     "output_type": "stream",
     "text": [
      "Array modificado: [ 2  4  7  9 -1 -1  2  2]\n"
     ]
    }
   ],
   "source": [
    "### S-transform forward ###\n",
    "array = [1,2,3,4,8,6,10,8]\n",
    "transform = Wavelet(array, 1)\n",
    "array_transform = transform.s_tranform_forward(array)\n",
    "print(f\"Array modificado: {array_transform}\")\n"
   ],
   "metadata": {
    "collapsed": false,
    "ExecuteTime": {
     "end_time": "2023-11-17T11:44:17.408955Z",
     "start_time": "2023-11-17T11:44:17.392770Z"
    }
   }
  },
  {
   "cell_type": "code",
   "execution_count": 12,
   "outputs": [
    {
     "name": "stdout",
     "output_type": "stream",
     "text": [
      "Array invertido: [ 1  2  3  4  8  6 10  8]\n"
     ]
    }
   ],
   "source": [
    "### S-transform Inverse ###\n",
    "array_inv = transform.s_transform_inverse(array_transform)\n",
    "print(f\"Array invertido: {array_inv}\")\n"
   ],
   "metadata": {
    "collapsed": false,
    "ExecuteTime": {
     "end_time": "2023-11-17T11:44:17.409026Z",
     "start_time": "2023-11-17T11:44:17.396352Z"
    }
   }
  },
  {
   "cell_type": "code",
   "execution_count": 13,
   "outputs": [
    {
     "name": "stdout",
     "output_type": "stream",
     "text": [
      "[[[16 21 25 ... 25 22 19]\n",
      "  [19 25 29 ... 29 25 22]\n",
      "  [22 28 34 ... 34 29 25]\n",
      "  ...\n",
      "  [22 28 33 ... 34 30 26]\n",
      "  [19 24 29 ... 30 25 23]\n",
      "  [16 21 25 ... 25 22 19]]]\n"
     ]
    }
   ],
   "source": [
    "print(original_image)"
   ],
   "metadata": {
    "collapsed": false,
    "ExecuteTime": {
     "end_time": "2023-11-17T11:44:17.409084Z",
     "start_time": "2023-11-17T11:44:17.398956Z"
    }
   }
  },
  {
   "cell_type": "code",
   "execution_count": 22,
   "outputs": [
    {
     "name": "stdout",
     "output_type": "stream",
     "text": [
      "Longitud forward: 128\n",
      "[[146 155 161 ...   4   3   3]\n",
      " [150 159 167 ...   4   4   3]\n",
      " [153 164 173 ...   5   4   4]\n",
      " ...\n",
      " [153 163 173 ...   3   4   4]\n",
      " [149 159 167 ...   3   3   2]\n",
      " [146 155 161 ...   3   3   3]]\n"
     ]
    }
   ],
   "source": [
    "### S-transform Forward image ###\n",
    "transform_image = Wavelet(original_image, 1)\n",
    "#print(len(original_image[0][0]))\n",
    "transform_forward = transform_image.handle_transform_forward()\n",
    "print(transform_forward)\n"
   ],
   "metadata": {
    "collapsed": false,
    "ExecuteTime": {
     "end_time": "2023-11-17T11:44:20.252874Z",
     "start_time": "2023-11-17T11:44:20.220820Z"
    }
   }
  },
  {
   "cell_type": "code",
   "execution_count": 23,
   "outputs": [
    {
     "name": "stdout",
     "output_type": "stream",
     "text": [
      "[[[272  21 281 ...  25  22  19]\n",
      "  [275  25 285 ...  29  25  22]\n",
      "  [278  28 290 ...  34  29  25]\n",
      "  ...\n",
      "  [278  28 289 ...  34  30  26]\n",
      "  [275  24 285 ...  30  25  23]\n",
      "  [272  21 281 ...  25  22  19]]]\n"
     ]
    }
   ],
   "source": [
    "### S-transform Reverse image ###\n",
    "transform_image_reverse = Wavelet(transform_forward, 1)\n",
    "transform_reverse = transform_image_reverse.handle_transform_inverse()\n",
    "print(transform_reverse)\n"
   ],
   "metadata": {
    "collapsed": false,
    "ExecuteTime": {
     "end_time": "2023-11-17T11:44:20.691452Z",
     "start_time": "2023-11-17T11:44:20.687949Z"
    }
   }
  },
  {
   "cell_type": "code",
   "execution_count": 24,
   "outputs": [
    {
     "name": "stdout",
     "output_type": "stream",
     "text": [
      "[[[16 21 25 ... 25 22 19]\n",
      "  [19 25 29 ... 29 25 22]\n",
      "  [22 28 34 ... 34 29 25]\n",
      "  ...\n",
      "  [22 28 33 ... 34 30 26]\n",
      "  [19 24 29 ... 30 25 23]\n",
      "  [16 21 25 ... 25 22 19]]]\n"
     ]
    }
   ],
   "source": [
    "print(original_image)\n"
   ],
   "metadata": {
    "collapsed": false,
    "ExecuteTime": {
     "end_time": "2023-11-17T11:44:21.507807Z",
     "start_time": "2023-11-17T11:44:21.501039Z"
    }
   }
  },
  {
   "cell_type": "markdown",
   "source": [
    "### Classe 17/09\n",
    "Predicció:\n",
    "X = 1,2,3,4,8,6,10,8\n",
    "Causal\n",
    "Pi = {0 si i=0, X(i-1) si i>0}\n",
    "X'i = Xi - Pi\n",
    "P = 0,1,2,3,4,8,6,10 (Predicció)\n",
    "X' = 1,1,1,1,4,-2,4,-2\n",
    "#\n",
    "###### TODO\n",
    "Predict sobre una matriu. -> ha de ser invertible -> img de 512 512\n",
    "Calcular entropia del resultat X' -> H(x') <= H(x)"
   ],
   "metadata": {
    "collapsed": false
   }
  },
  {
   "cell_type": "code",
   "execution_count": 17,
   "outputs": [
    {
     "name": "stdout",
     "output_type": "stream",
     "text": [
      "-100\n"
     ]
    }
   ],
   "source": [
    "var = -100.9\n",
    "print(int(var))"
   ],
   "metadata": {
    "collapsed": false,
    "ExecuteTime": {
     "end_time": "2023-11-17T11:44:17.465869Z",
     "start_time": "2023-11-17T11:44:17.461639Z"
    }
   }
  },
  {
   "cell_type": "code",
   "execution_count": 18,
   "outputs": [
    {
     "name": "stdout",
     "output_type": "stream",
     "text": [
      "[[ 1  2  3  4  5  6  7  8  9 10 11 12 13 14 15 16]\n",
      " [ 1  2  3  4  5  6  7  8  9 10 11 12 13 14 15 16]\n",
      " [ 1  2  3  4  5  6  7  8  9 10 11 12 13 14 15 16]\n",
      " [ 1  2  3  4  5  6  7  8  9 10 11 12 13 14 15 16]\n",
      " [ 1  2  3  4  5  6  7  8  9 10 11 12 13 14 15 16]\n",
      " [ 1  2  3  4  5  6  7  8  9 10 11 12 13 14 15 16]\n",
      " [ 1  2  3  4  5  6  7  8  9 10 11 12 13 14 15 16]\n",
      " [ 1  2  3  4  5  6  7  8  9 10 11 12 13 14 15 16]\n",
      " [ 1  2  3  4  5  6  7  8  9 10 11 12 13 14 15 16]\n",
      " [ 1  2  3  4  5  6  7  8  9 10 11 12 13 14 15 16]\n",
      " [ 1  2  3  4  5  6  7  8  9 10 11 12 13 14 15 16]\n",
      " [ 1  2  3  4  5  6  7  8  9 10 11 12 13 14 15 16]\n",
      " [ 1  2  3  4  5  6  7  8  9 10 11 12 13 14 15 16]\n",
      " [ 1  2  3  4  5  6  7  8  9 10 11 12 13 14 15 16]\n",
      " [ 1  2  3  4  5  6  7  8  9 10 11 12 13 14 15 16]\n",
      " [ 1  2  3  4  5  6  7  8  9 10 11 12 13 14 15 16]]\n",
      "[[[ 1  2  3  4  5  6  7  8  9 10 11 12 13 14 15 16]\n",
      "  [ 1  2  3  4  5  6  7  8  9 10 11 12 13 14 15 16]\n",
      "  [ 1  2  3  4  5  6  7  8  9 10 11 12 13 14 15 16]\n",
      "  [ 1  2  3  4  5  6  7  8  9 10 11 12 13 14 15 16]\n",
      "  [ 1  2  3  4  5  6  7  8  9 10 11 12 13 14 15 16]\n",
      "  [ 1  2  3  4  5  6  7  8  9 10 11 12 13 14 15 16]\n",
      "  [ 1  2  3  4  5  6  7  8  9 10 11 12 13 14 15 16]\n",
      "  [ 1  2  3  4  5  6  7  8  9 10 11 12 13 14 15 16]\n",
      "  [ 1  2  3  4  5  6  7  8  9 10 11 12 13 14 15 16]\n",
      "  [ 1  2  3  4  5  6  7  8  9 10 11 12 13 14 15 16]\n",
      "  [ 1  2  3  4  5  6  7  8  9 10 11 12 13 14 15 16]\n",
      "  [ 1  2  3  4  5  6  7  8  9 10 11 12 13 14 15 16]\n",
      "  [ 1  2  3  4  5  6  7  8  9 10 11 12 13 14 15 16]\n",
      "  [ 1  2  3  4  5  6  7  8  9 10 11 12 13 14 15 16]\n",
      "  [ 1  2  3  4  5  6  7  8  9 10 11 12 13 14 15 16]\n",
      "  [ 1  2  3  4  5  6  7  8  9 10 11 12 13 14 15 16]]]\n"
     ]
    }
   ],
   "source": [
    "import numpy as np\n",
    "\n",
    "# Crear una matriz de 8x8 con los números del 1 al 8 en cada fila\n",
    "matriz_2d = np.tile(np.arange(1, 17), (16, 1))\n",
    "print(matriz_2d)\n",
    "# Crear una matriz de 3 dimensiones repitiendo la matriz 2D\n",
    "matriz_3d = np.expand_dims(matriz_2d, axis=0)\n",
    "print(matriz_3d)\n"
   ],
   "metadata": {
    "collapsed": false,
    "ExecuteTime": {
     "end_time": "2023-11-17T11:44:17.470328Z",
     "start_time": "2023-11-17T11:44:17.465041Z"
    }
   }
  },
  {
   "cell_type": "code",
   "execution_count": 19,
   "outputs": [
    {
     "name": "stdout",
     "output_type": "stream",
     "text": [
      "Longitud forward: 16\n",
      "Longitud forward: 8\n",
      "Longitud forward: 4\n",
      "[[ 5 13 -4 -4 -2 -2 -2 -2 -1 -1 -1 -1 -1 -1 -1 -1]\n",
      " [ 5 13 -4 -4 -2 -2 -2 -2 -1 -1 -1 -1 -1 -1 -1 -1]\n",
      " [ 5 13 -4 -4 -2 -2 -2 -2 -1 -1 -1 -1 -1 -1 -1 -1]\n",
      " [ 5 13 -4 -4 -2 -2 -2 -2 -1 -1 -1 -1 -1 -1 -1 -1]\n",
      " [ 3  7 11 15 -2 -2 -2 -2 -1 -1 -1 -1 -1 -1 -1 -1]\n",
      " [ 3  7 11 15 -2 -2 -2 -2 -1 -1 -1 -1 -1 -1 -1 -1]\n",
      " [ 3  7 11 15 -2 -2 -2 -2 -1 -1 -1 -1 -1 -1 -1 -1]\n",
      " [ 3  7 11 15 -2 -2 -2 -2 -1 -1 -1 -1 -1 -1 -1 -1]\n",
      " [ 2  4  6  8 10 12 14 16 -1 -1 -1 -1 -1 -1 -1 -1]\n",
      " [ 2  4  6  8 10 12 14 16 -1 -1 -1 -1 -1 -1 -1 -1]\n",
      " [ 2  4  6  8 10 12 14 16 -1 -1 -1 -1 -1 -1 -1 -1]\n",
      " [ 2  4  6  8 10 12 14 16 -1 -1 -1 -1 -1 -1 -1 -1]\n",
      " [ 2  4  6  8 10 12 14 16 -1 -1 -1 -1 -1 -1 -1 -1]\n",
      " [ 2  4  6  8 10 12 14 16 -1 -1 -1 -1 -1 -1 -1 -1]\n",
      " [ 2  4  6  8 10 12 14 16 -1 -1 -1 -1 -1 -1 -1 -1]\n",
      " [ 2  4  6  8 10 12 14 16 -1 -1 -1 -1 -1 -1 -1 -1]]\n"
     ]
    }
   ],
   "source": [
    "### S-transform Forward image ###\n",
    "transform_image = Wavelet(matriz_3d, 3)\n",
    "#print(len(original_image[0][0]))\n",
    "transform_forward = transform_image.handle_transform_forward()\n",
    "print(transform_forward)"
   ],
   "metadata": {
    "collapsed": false,
    "ExecuteTime": {
     "end_time": "2023-11-17T11:44:17.471253Z",
     "start_time": "2023-11-17T11:44:17.468137Z"
    }
   }
  },
  {
   "cell_type": "code",
   "execution_count": 20,
   "outputs": [
    {
     "name": "stdout",
     "output_type": "stream",
     "text": [
      "[[[ 1  2  3  4  5  6  7  8  9 10 11 12 13 14 15 16]\n",
      "  [ 1  2  3  4  5  6  7  8  9 10 11 12 13 14 15 16]\n",
      "  [ 1  2  3  4  5  6  7  8  9 10 11 12 13 14 15 16]\n",
      "  [ 1  2  3  4  5  6  7  8  9 10 11 12 13 14 15 16]\n",
      "  [ 1  2  3  4  5  6  7  8  9 10 11 12 13 14 15 16]\n",
      "  [ 1  2  3  4  5  6  7  8  9 10 11 12 13 14 15 16]\n",
      "  [ 1  2  3  4  5  6  7  8  9 10 11 12 13 14 15 16]\n",
      "  [ 1  2  3  4  5  6  7  8  9 10 11 12 13 14 15 16]\n",
      "  [ 1  2  3  4  5  6  7  8  9 10 11 12 13 14 15 16]\n",
      "  [ 1  2  3  4  5  6  7  8  9 10 11 12 13 14 15 16]\n",
      "  [ 1  2  3  4  5  6  7  8  9 10 11 12 13 14 15 16]\n",
      "  [ 1  2  3  4  5  6  7  8  9 10 11 12 13 14 15 16]\n",
      "  [ 1  2  3  4  5  6  7  8  9 10 11 12 13 14 15 16]\n",
      "  [ 1  2  3  4  5  6  7  8  9 10 11 12 13 14 15 16]\n",
      "  [ 1  2  3  4  5  6  7  8  9 10 11 12 13 14 15 16]\n",
      "  [ 1  2  3  4  5  6  7  8  9 10 11 12 13 14 15 16]]]\n"
     ]
    }
   ],
   "source": [
    "### S-transform Reverse image ###\n",
    "transform_image_reverse = Wavelet(transform_forward, 3)\n",
    "transform_reverse = transform_image_reverse.handle_transform_inverse()\n",
    "print(transform_reverse)"
   ],
   "metadata": {
    "collapsed": false,
    "ExecuteTime": {
     "end_time": "2023-11-17T11:44:17.504130Z",
     "start_time": "2023-11-17T11:44:17.472774Z"
    }
   }
  },
  {
   "cell_type": "code",
   "execution_count": 21,
   "outputs": [
    {
     "name": "stdout",
     "output_type": "stream",
     "text": [
      "[[[ 1  2  3  4  5  6  7  8  9 10 11 12 13 14 15 16]\n",
      "  [ 1  2  3  4  5  6  7  8  9 10 11 12 13 14 15 16]\n",
      "  [ 1  2  3  4  5  6  7  8  9 10 11 12 13 14 15 16]\n",
      "  [ 1  2  3  4  5  6  7  8  9 10 11 12 13 14 15 16]\n",
      "  [ 1  2  3  4  5  6  7  8  9 10 11 12 13 14 15 16]\n",
      "  [ 1  2  3  4  5  6  7  8  9 10 11 12 13 14 15 16]\n",
      "  [ 1  2  3  4  5  6  7  8  9 10 11 12 13 14 15 16]\n",
      "  [ 1  2  3  4  5  6  7  8  9 10 11 12 13 14 15 16]\n",
      "  [ 1  2  3  4  5  6  7  8  9 10 11 12 13 14 15 16]\n",
      "  [ 1  2  3  4  5  6  7  8  9 10 11 12 13 14 15 16]\n",
      "  [ 1  2  3  4  5  6  7  8  9 10 11 12 13 14 15 16]\n",
      "  [ 1  2  3  4  5  6  7  8  9 10 11 12 13 14 15 16]\n",
      "  [ 1  2  3  4  5  6  7  8  9 10 11 12 13 14 15 16]\n",
      "  [ 1  2  3  4  5  6  7  8  9 10 11 12 13 14 15 16]\n",
      "  [ 1  2  3  4  5  6  7  8  9 10 11 12 13 14 15 16]\n",
      "  [ 1  2  3  4  5  6  7  8  9 10 11 12 13 14 15 16]]]\n"
     ]
    }
   ],
   "source": [
    "print(matriz_3d)"
   ],
   "metadata": {
    "collapsed": false,
    "ExecuteTime": {
     "end_time": "2023-11-17T11:44:17.507954Z",
     "start_time": "2023-11-17T11:44:17.475934Z"
    }
   }
  },
  {
   "cell_type": "code",
   "execution_count": 21,
   "outputs": [],
   "source": [],
   "metadata": {
    "collapsed": false,
    "ExecuteTime": {
     "end_time": "2023-11-17T11:44:17.508092Z",
     "start_time": "2023-11-17T11:44:17.477984Z"
    }
   }
  }
 ],
 "metadata": {
  "kernelspec": {
   "display_name": "Python 3 (ipykernel)",
   "language": "python",
   "name": "python3"
  },
  "language_info": {
   "codemirror_mode": {
    "name": "ipython",
    "version": 3
   },
   "file_extension": ".py",
   "mimetype": "text/x-python",
   "name": "python",
   "nbconvert_exporter": "python",
   "pygments_lexer": "ipython3",
   "version": "3.11.4"
  },
  "toc-autonumbering": true
 },
 "nbformat": 4,
 "nbformat_minor": 4
}
